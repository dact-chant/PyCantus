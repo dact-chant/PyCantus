{
 "cells": [
  {
   "cell_type": "markdown",
   "id": "9d62b763",
   "metadata": {},
   "source": [
    "### How to get dataset ready\n",
    "Notebook that should document how scraped Cantus Index data were modified (cleaned) befor being exported as dataset.  \n",
    "Here we show the procedure on data from May25 but path to genre files as well as to other csv files can be changed so code can be used to help anyone construct and clean a bit dataset from any other data with same structure (possibly produced by scraping scripts we provided).  \n",
    "  \n",
    "We are providing two CSV files as dataset:  \n",
    "  - chants\n",
    "  - sources\n",
    "  \n",
    "Main procedures underwent:\n",
    "- join all genres into one file\n",
    "- discarding duplicates in chantlinks\n",
    "- genre standardization based on from what genre list in CI those records where from (issues only aroud Tp...)\n",
    "- discarding data (from chants and sources), where for sources we cannot collect additional info\n",
    "- add numerical century in sources\n",
    "- inspecting duplicate sources - discarding and unifying duplicates\n",
    "  \n",
    "Finally, we are adding some basic statistics about the just constructed dataset, that can be again used on different data via paths change."
   ]
  },
  {
   "cell_type": "code",
   "execution_count": null,
   "id": "ec4d3488",
   "metadata": {},
   "outputs": [],
   "source": [
    "import pandas as pd\n",
    "import glob\n",
    "import os"
   ]
  },
  {
   "cell_type": "code",
   "execution_count": null,
   "id": "df1619a9",
   "metadata": {},
   "outputs": [],
   "source": [
    "CHANTS_DIR_PATH = 'data/chants' # Rename to fit your directory structure\n",
    "CHANTS_CSV_PATH = 'data/chants/all_chants.csv' # Rename to fit your directory structure\n",
    "SOURCES_CSV_PATH = 'data/sources.csv' # Rename to fit your directory structure"
   ]
  },
  {
   "cell_type": "code",
   "execution_count": 3,
   "id": "1d39743a",
   "metadata": {},
   "outputs": [],
   "source": [
    "# Read static files\n",
    "feast =pd.read_csv('static/feast.csv', dtype={'feast_code' : str})\n",
    "genre = pd.read_csv('static/genre.csv')\n",
    "office = pd.read_csv('static/office.csv')"
   ]
  },
  {
   "cell_type": "code",
   "execution_count": 4,
   "id": "43503c40",
   "metadata": {},
   "outputs": [],
   "source": [
    "sources = pd.read_csv(SOURCES_CSV_PATH)"
   ]
  },
  {
   "cell_type": "code",
   "execution_count": 5,
   "id": "f5be6e1c",
   "metadata": {},
   "outputs": [
    {
     "name": "stdout",
     "output_type": "stream",
     "text": [
      "number of genre files may25: 106\n",
      "number of records in may25: 1005793\n"
     ]
    }
   ],
   "source": [
    "# Prepare May 2025 data\n",
    "concat_chants_files = glob.glob(CHANTS_DIR_PATH + '/*.csv')\n",
    "chants_dfs_dict = {os.path.splitext(os.path.basename(file))[0] : pd.read_csv(file,  dtype=str) for file in concat_chants_files}\n",
    "\n",
    "chants = pd.concat(chants_dfs_dict, ignore_index=True)\n",
    "\n",
    "non_empty_genre = 0\n",
    "for file, df in chants_dfs_dict.items():\n",
    "    if len(df) > 0:\n",
    "        non_empty_genre += 1\n",
    "    df['genre_file'] = file\n",
    "print('number of genre files may25:', non_empty_genre)\n",
    "\n",
    "chants_genre_file = pd.concat(chants_dfs_dict, ignore_index=True)\n",
    "\n",
    "print('number of records in may25:', len(chants))"
   ]
  },
  {
   "cell_type": "code",
   "execution_count": 6,
   "id": "35d66966",
   "metadata": {},
   "outputs": [
    {
     "name": "stdout",
     "output_type": "stream",
     "text": [
      "number of not unique records in chantlinks in may25: 117100\n",
      "number of not unique rows in may25: 117088\n",
      "number of not duplicit records with duplicit chantlink: 12\n"
     ]
    }
   ],
   "source": [
    "print(\"number of not unique records in chantlinks in may25:\", len(chants[\"chantlink\"].value_counts()[lambda x: x > 1].index))\n",
    "print(\"number of not unique rows in may25:\", len(chants) - len(chants.drop_duplicates()))\n",
    "print(\"number of not duplicit records with duplicit chantlink:\", len(chants.drop_duplicates()) - len(chants['chantlink'].drop_duplicates()))\n",
    "duplicate_chantlinks = chants.drop_duplicates()[\"chantlink\"].value_counts()[lambda x: x > 1].index\n",
    "chants[chants[\"chantlink\"].isin(duplicate_chantlinks)].sort_values(by=\"chantlink\").to_csv('duplicated_chantlinks.csv')"
   ]
  },
  {
   "cell_type": "markdown",
   "id": "8aff144d",
   "metadata": {},
   "source": [
    "Here comes May 2025 CantusCorpus 1.0 specific piece of work..."
   ]
  },
  {
   "cell_type": "code",
   "execution_count": 7,
   "id": "6fc4ae5b",
   "metadata": {},
   "outputs": [
    {
     "name": "stdout",
     "output_type": "stream",
     "text": [
      "number of chants records without duplicates: 888693\n"
     ]
    }
   ],
   "source": [
    "# Chants without duplicates\n",
    "# turns out those 12 were records of AH49403 vs ah49403 so we gonna keep the lowercased version as being standard...\n",
    "\n",
    "# Step 1: Drop fully duplicated rows\n",
    "df = chants.drop_duplicates()\n",
    "\n",
    "# Step 2: Find `chantlink` values that are still duplicated\n",
    "dup_chantlinks = df['chantlink'].value_counts()[lambda x: x > 1].index\n",
    "\n",
    "# Step 3: Keep only rows with duplicated chantlink **and** cantus_id starting with lowercase letter\n",
    "mask = (\n",
    "    df['chantlink'].isin(dup_chantlinks) & \n",
    "    df['cantus_id'].str.match(r'^[a-z]')\n",
    ")\n",
    "\n",
    "# Step 4: Keep rows that are either:\n",
    "# - Not part of duplicated chantlinks\n",
    "# - Or part of duplicated chantlinks AND their cantus_id starts with lowercase\n",
    "chants = df[~df['chantlink'].isin(dup_chantlinks) | mask]\n",
    "print(\"number of chants records without duplicates:\", len(chants))"
   ]
  },
  {
   "cell_type": "markdown",
   "id": "4a214e17",
   "metadata": {},
   "source": [
    "#### Genre\n",
    "Searching for overview of how various genre field is.  \n",
    "If too messy we can try to standardize it with the help of \"from this CI genre list\" value we have for each chant record."
   ]
  },
  {
   "cell_type": "code",
   "execution_count": 8,
   "id": "da19051e",
   "metadata": {},
   "outputs": [
    {
     "name": "stdout",
     "output_type": "stream",
     "text": [
      "Genres present in data and not in CI genre list:\n",
      "{'Varia', 'Am5', 'R5', 'A10', 'Tr3', 'R14', 'R4', 'V124', 'Vs', 'Am6', 'a1', 'R3+', 'Ant/Resp', 'Am4', 'V31', 'A8', 'La', 'TrV', 'Im', 'Gr3V', 'V9', 'LDM', 'All2', 'IntrV', 'Ap+', 'Ant', 'Aproc', 'V5', 'All-1', 'V11', 'A13', 'All6', 'R1', 'Am7', 'V152', 'M', 'A7', 'R9', 'Tr', 'Gr2', 'Resp', 'AntV', '\\xa0?', 'R+', 'V10', 'Off', 'Am9', 'V8', 'V14', 'RespV', 'Tr2', 'V6', 'Am', 'Hymn', 'V122', 'V32', 'Gr5', 'Tr4', 'Seq', 'An', 'Varia/A', 'V7', 'Ab+', 'Gr2V', 'All-2', 'Am+', '[a3]', 'V21', 'Am1', 'AllV', 'A12', 'All1', 'Ant1', 'Gr1V', 'All+', 'Gr4V', 'R15', 'Am3', 'Gr+', 'V3', 'Tr1', 'A9', 'V1', 'Dox', 'All5', 'Be', 'V+', 'r', nan, 'CommV', 'a', 'V126', 'All1V', 'OffV', 'V151', 'All', 'a+', 'V2', 'V12', 'a3+', 'R10', 'Gr-V', 'All-V', 'A14', 'R8', 'a2+', 'R11', 'V123', 'V3+', 'An+', 'All3', 'Intr', 'a2', 'Comm+', 'Ab', 'Gr3', 'Comm', 'Off+', 'Ant3', 'A6', 'Ap', 'a5+', 'V33', 'Gr4', 'R13', 'V4', 'Ant4', 'R7', 'R6', 'R12', 'Gr1', 'R2', 'GRCV', 'R3', 'V121', 'a5', 'LG', 'A11', 'Am8', 'Com', 'Ru', 'a4', 'a3', 'Am2', 'Trop', 'Ant2', 'V15', 'Sequ', 'HYMNV', 'V13'}\n"
     ]
    }
   ],
   "source": [
    "genres_in_data = set(chants['genre'])\n",
    "print('Genres present in data and not in CI genre list:')\n",
    "print(genres_in_data.difference(set(genre['genre_name'])))"
   ]
  },
  {
   "cell_type": "markdown",
   "id": "98d07c65",
   "metadata": {},
   "source": [
    "Because these all seem like just existing genre with some numbers that probably indicates position and because we consider **genre** to be an important information, it makes sence to standardize it to CI values with knowladge in what genre list they are displayed in CI..."
   ]
  },
  {
   "cell_type": "code",
   "execution_count": 9,
   "id": "c3e01efd",
   "metadata": {},
   "outputs": [
    {
     "name": "stdout",
     "output_type": "stream",
     "text": [
      "all scraped chnats: 1005793\n",
      "all scraped chnats without from [GV] file records: 888788\n",
      "genre values : set()\n",
      "number of empty genre before final mapping: 1680\n",
      "number of not solved records: 0\n"
     ]
    }
   ],
   "source": [
    "# Chantlinks are now unique so I can use them to mach what is unique in file with genre files\n",
    "# just ensure we got V and not on CI disappered [GV]\n",
    "print('all scraped chnats:', len(chants_genre_file))\n",
    "#  Known problem, drop [GV] that are no longer displayed in CI\n",
    "chants_genre_file = chants_genre_file[chants_genre_file['genre_file'] != '[GV]'] \n",
    "print('all scraped chnats without from [GV] file records:', len(chants_genre_file))\n",
    "\n",
    "# Identify ambiguous chantlinks (appearing more than once)\n",
    "ambiguous_chantlinks = chants_genre_file[chants_genre_file['chantlink'].duplicated(keep=False)]\n",
    "ambiguous_rows = chants_genre_file[chants_genre_file['chantlink'].isin(ambiguous_chantlinks['chantlink'])]\n",
    "\n",
    "# Look if we can keep their genre value as was scraped:\n",
    "print('genre values :', set(ambiguous_rows['genre']).difference(set(genre['genre_name'])))\n",
    "# if we got set() we can, they all come from known vocabulary\n",
    "if len(set(ambiguous_rows['genre']).difference(set(genre['genre_name']))) == 0:\n",
    "    chants = chants.copy()\n",
    "    for chantlink, group in ambiguous_chantlinks.groupby('chantlink'):\n",
    "        genre_files = group['genre_file'].dropna().unique().tolist()\n",
    "        chant_genre = group['genre'].tolist()[0] # I know they are always same...\n",
    "        if chant_genre in genre_files:\n",
    "            chants.loc[chants['chantlink'] == chantlink, 'genre'] = chant_genre\n",
    "        else:\n",
    "            if chant_genre == '[M]': # I am sure bc [M] is to be reasigned and TpBD is more specific option\n",
    "                chants.loc[chants['chantlink'] == chantlink, 'genre'] = 'TpBD' # not Tp\n",
    "            # genre: Sq, files: Psl and Tp\n",
    "            # genre: V, files: Psl and Tp\n",
    "            # genre: BD, files: TpBD and Tp\n",
    "            # I do not want to do any editorial decision (working downstream...) so I am gonna keep genre value of those records\n",
    "            else:\n",
    "                chants.loc[chants['chantlink'] == chantlink, 'genre'] = chant_genre\n",
    "\n",
    "\n",
    "print('number of empty genre before final mapping:' ,len(chants) - len(chants['genre'].dropna())) # check\n",
    "\n",
    "# Filter rows where each chantlink appears exactly once\n",
    "unique_genre_map = (\n",
    "    chants_genre_file[chants_genre_file['chantlink'].duplicated(keep=False) == False]\n",
    "    .set_index('chantlink')['genre_file']\n",
    ")\n",
    "\n",
    "# Map unambiguos genre_file values to genre data using chantlink, keep other genre values\n",
    "chants = chants.copy()\n",
    "chants['genre'] = (chants['genre'].combine_first(chants['chantlink'].map(unique_genre_map)))\n",
    "chants.to_csv(CHANTS_CSV_PATH, index=False)\n",
    "\n",
    "print('number of not solved records:' ,len(chants) - len(chants['genre'].dropna())) # check"
   ]
  },
  {
   "cell_type": "markdown",
   "id": "0989d3b7",
   "metadata": {},
   "source": [
    "#### Office\n",
    "Simply just to be aware how non-standardized this filed is... not much to do about it besides passing the information.  "
   ]
  },
  {
   "cell_type": "code",
   "execution_count": 10,
   "id": "85b0faf4",
   "metadata": {},
   "outputs": [
    {
     "name": "stdout",
     "output_type": "stream",
     "text": [
      "Offices present in data and not in CDB office list:\n",
      "\tnumeric: ['1003', '1002', '969', '980', '977', '976', '963', '970', '975', '1004', '979', '972', '964', '965', '978', '974', '968', '971', '966', '967']\n",
      "\tother: ['AL', 'DU&D', 'S&O', 'Pec', 'Q&Q', 'C2', 'MH', nan, 'P&S', 'Noc', 'MASS', 'MN']\n"
     ]
    }
   ],
   "source": [
    "offices_in_data = set(chants['office'])\n",
    "print('Offices present in data and not in CDB office list:')\n",
    "numeric, alpha = [], []\n",
    "for o in offices_in_data.difference(set(office['name'])):\n",
    "    if str(o).isdigit():\n",
    "        numeric.append(o)\n",
    "    else:\n",
    "        alpha.append(o)\n",
    "print('\\tnumeric:', numeric)\n",
    "print('\\tother:', alpha)"
   ]
  },
  {
   "cell_type": "code",
   "execution_count": 11,
   "id": "16d6741a",
   "metadata": {},
   "outputs": [
    {
     "data": {
      "text/plain": [
       "office\n",
       "M       311232\n",
       "MASS    140836\n",
       "L        95628\n",
       "V        53038\n",
       "V2       52106\n",
       "E        19116\n",
       "X        16570\n",
       "MI       16512\n",
       "T        12421\n",
       "N        11530\n",
       "S        11136\n",
       "MH       10359\n",
       "P         6652\n",
       "C         4518\n",
       "H         4110\n",
       "R         2015\n",
       "D         1442\n",
       "964       1150\n",
       "974        886\n",
       "963        871\n",
       "975        818\n",
       "967        813\n",
       "966        459\n",
       "965        350\n",
       "Noc        261\n",
       "979        243\n",
       "972        140\n",
       "C2         115\n",
       "S&O        106\n",
       "?           89\n",
       "MN          73\n",
       "976         60\n",
       "971         59\n",
       "970         57\n",
       "969         56\n",
       "DU&D        44\n",
       "968         44\n",
       "P&S         41\n",
       "Q&Q         24\n",
       "AL          24\n",
       "980         19\n",
       "Pec         11\n",
       "1004         7\n",
       "1003         7\n",
       "1002         7\n",
       "978          5\n",
       "CA           4\n",
       "977          1\n",
       "Name: count, dtype: int64"
      ]
     },
     "execution_count": 11,
     "metadata": {},
     "output_type": "execute_result"
    }
   ],
   "source": [
    "# Look how frequent office values are\n",
    "chants['office'].value_counts()"
   ]
  },
  {
   "cell_type": "markdown",
   "id": "8fa450ee",
   "metadata": {},
   "source": [
    "Number values are coming from Hungarian database.  \n",
    "Hard to say if MI (from CDB) and MASS (from SEMM) means really always the same thing or not...  \n",
    "Overall we are sticking to policy of \"being downstream\" and so we would let the data be as they are."
   ]
  },
  {
   "cell_type": "markdown",
   "id": "ce0f4076",
   "metadata": {},
   "source": [
    "#### Melody overview"
   ]
  },
  {
   "cell_type": "code",
   "execution_count": 12,
   "id": "c11f1927",
   "metadata": {},
   "outputs": [
    {
     "name": "stdout",
     "output_type": "stream",
     "text": [
      "Number of melody_ids records: 0\n",
      "Number of melody_id values in data: 0\n"
     ]
    }
   ],
   "source": [
    "print('Number of melody_ids records:', len(chants['melody_id'].dropna()))\n",
    "print('Number of melody_id values in data:', len(set(chants['melody_id'].dropna())))"
   ]
  },
  {
   "cell_type": "code",
   "execution_count": 13,
   "id": "24d6d95e",
   "metadata": {},
   "outputs": [
    {
     "data": {
      "text/plain": [
       "mode\n",
       "*        121318\n",
       "8         89894\n",
       "1         79870\n",
       "7         59778\n",
       "4         44864\n",
       "2         43350\n",
       "3         30378\n",
       "5         23932\n",
       "r         22351\n",
       "?         20456\n",
       "6         18895\n",
       "6T         4460\n",
       "4T         3900\n",
       "2T         3110\n",
       "1S         3047\n",
       "1T         2244\n",
       "8S         1427\n",
       "2S         1210\n",
       "3S         1186\n",
       "6S         1102\n",
       "5S          986\n",
       "7S          936\n",
       "4S          805\n",
       "G           738\n",
       "8*          673\n",
       "1*          666\n",
       "7*          458\n",
       "8?          456\n",
       "1?          424\n",
       "5T          423\n",
       "D           416\n",
       "Gd          396\n",
       "7T          385\n",
       "-           355\n",
       "4*          354\n",
       "?S          328\n",
       "Gc          324\n",
       "2 Trp       315\n",
       "S           297\n",
       "E           294\n",
       "Name: count, dtype: int64"
      ]
     },
     "execution_count": 13,
     "metadata": {},
     "output_type": "execute_result"
    }
   ],
   "source": [
    "chants['mode'].value_counts().head(40)"
   ]
  },
  {
   "cell_type": "markdown",
   "id": "e9f325e0",
   "metadata": {},
   "source": [
    "### Feasts\n",
    "Since no clear standard exists on filed of feasts, we can provide only simple statistic."
   ]
  },
  {
   "cell_type": "code",
   "execution_count": 14,
   "id": "51de0b28",
   "metadata": {},
   "outputs": [
    {
     "name": "stdout",
     "output_type": "stream",
     "text": [
      "number of feasts recognized in CI list: 1794\n",
      "number of feast values in data: 2401\n"
     ]
    }
   ],
   "source": [
    "print('number of feasts recognized in CI list:', len(feast))\n",
    "print('number of feast values in data:', len(set(chants['feast'])))"
   ]
  },
  {
   "cell_type": "markdown",
   "id": "54539be7",
   "metadata": {},
   "source": [
    "## Sources\n",
    "Just a quick look at scraped sources.  \n",
    "Problems with http -> https where redirect works corectly so scraper did not noticed.  \n",
    "Should geocoding data be used to unify locations where we know about it?"
   ]
  },
  {
   "cell_type": "code",
   "execution_count": 15,
   "id": "86879aa6",
   "metadata": {},
   "outputs": [],
   "source": [
    "# HTTP -> HTTPS\n",
    "# all databases moved to https except musmed (http in data is a mistake in sources scraping)\n",
    "sources['srclink'] = sources['srclink'].apply(\n",
    "    lambda x: x if not isinstance(x, str) else (\n",
    "        x if x.startswith('http://musmed') else x.replace('http://', 'https://')\n",
    "    )\n",
    ")\n",
    "# Clean spaces\n",
    "sources['siglum'] = sources['siglum'].str.strip()\n",
    "sources['title'] = sources['title'].str.strip()\n",
    "sources['provenance'] = sources['provenance'].str.strip()"
   ]
  },
  {
   "cell_type": "code",
   "execution_count": 16,
   "id": "d10965b3",
   "metadata": {},
   "outputs": [
    {
     "name": "stdout",
     "output_type": "stream",
     "text": [
      "Sources being scraped and not present in data: set()\n",
      "\n",
      "Sources being in data and not in scraped sources info:\n",
      "{'https://cantusbohemiae.cz/source/22098', 'https://cantusbohemiae.cz/source/9188', 'https://musicahispanica.eu/source/25470', 'https://cantusbohemiae.cz/source/11619', 'https://musicahispanica.eu/source/25465', 'https://cantusbohemiae.cz/source/21983', 'https://musicahispanica.eu/source/25463', 'https://cantusbohemiae.cz/source/22705', 'https://musicahispanica.eu/source/25468', 'https://cantusbohemiae.cz/source/9198', 'https://cantusbohemiae.cz/source/2147', 'https://cantusbohemiae.cz/source/22179', 'https://musicahispanica.eu/source/25466', 'https://musicahispanica.eu/source/25464', 'https://cantusbohemiae.cz/source/2153', 'https://cantusbohemiae.cz/source/9185', 'https://cantusbohemiae.cz/source/10804', 'https://cantusbohemiae.cz/source/22046', 'https://musicahispanica.eu/source/25461', 'https://musicahispanica.eu/source/25469', 'https://musicahispanica.eu/source/25467', 'https://musicahispanica.eu/source/25319', 'https://cantusbohemiae.cz/source/9150', 'https://cantusbohemiae.cz/source/22153', 'https://cantusbohemiae.cz/source/9192', 'https://musicahispanica.eu/source/25462', 'https://cantusbohemiae.cz/source/4443', 'https://cantusbohemiae.cz/source/9309', 'https://musicahispanica.eu/source/25460', 'https://cantusbohemiae.cz/source/9152'}\n",
      "30\n"
     ]
    }
   ],
   "source": [
    "# For how many sources mentioned in data we do not have source information scraped\n",
    "sources_in_data = set(chants['srclink'])\n",
    "scraped_sources = set(sources['srclink'])\n",
    "print('Sources being scraped and not present in data:', scraped_sources.difference(sources_in_data))\n",
    "print()\n",
    "print('Sources being in data and not in scraped sources info:')\n",
    "print(sources_in_data.difference(scraped_sources))\n",
    "print(len(sources_in_data.difference(scraped_sources)))"
   ]
  },
  {
   "cell_type": "markdown",
   "id": "5708f2d6",
   "metadata": {},
   "source": [
    "Very \"data version\" specific piece of code follows:"
   ]
  },
  {
   "cell_type": "code",
   "execution_count": 17,
   "id": "ced2879c",
   "metadata": {},
   "outputs": [
    {
     "name": "stdout",
     "output_type": "stream",
     "text": [
      "hispanica: 12\n",
      "https://musicahispanica.eu/source/25470\n",
      "https://musicahispanica.eu/source/25465\n",
      "https://musicahispanica.eu/source/25463\n",
      "https://musicahispanica.eu/source/25468\n",
      "https://musicahispanica.eu/source/25466\n",
      "https://musicahispanica.eu/source/25464\n",
      "https://musicahispanica.eu/source/25461\n",
      "https://musicahispanica.eu/source/25469\n",
      "https://musicahispanica.eu/source/25467\n",
      "https://musicahispanica.eu/source/25319\n",
      "https://musicahispanica.eu/source/25462\n",
      "https://musicahispanica.eu/source/25460\n",
      "FCB: 18\n",
      "https://cantusbohemiae.cz/source/22098\n",
      "https://cantusbohemiae.cz/source/9188\n",
      "https://cantusbohemiae.cz/source/11619\n",
      "https://cantusbohemiae.cz/source/21983\n",
      "https://cantusbohemiae.cz/source/22705\n",
      "https://cantusbohemiae.cz/source/9198\n",
      "https://cantusbohemiae.cz/source/2147\n",
      "https://cantusbohemiae.cz/source/22179\n",
      "https://cantusbohemiae.cz/source/2153\n",
      "https://cantusbohemiae.cz/source/9185\n",
      "https://cantusbohemiae.cz/source/10804\n",
      "https://cantusbohemiae.cz/source/22046\n",
      "https://cantusbohemiae.cz/source/9150\n",
      "https://cantusbohemiae.cz/source/22153\n",
      "https://cantusbohemiae.cz/source/9192\n",
      "https://cantusbohemiae.cz/source/4443\n",
      "https://cantusbohemiae.cz/source/9309\n",
      "https://cantusbohemiae.cz/source/9152\n",
      "others: 0\n"
     ]
    }
   ],
   "source": [
    "# Inspect those 30 troublemakers \n",
    "hispanica_once = []\n",
    "fontes_once = []\n",
    "others = []\n",
    "for trouble_source_URL in sources_in_data.difference(scraped_sources):\n",
    "    if 'hispanica' in trouble_source_URL:\n",
    "        hispanica_once.append(trouble_source_URL)\n",
    "    elif 'cantusbohemiae' in trouble_source_URL:\n",
    "        fontes_once.append(trouble_source_URL)\n",
    "    else:\n",
    "        others.append(trouble_source_URL)\n",
    "\n",
    "print('hispanica:', len(hispanica_once))\n",
    "for url in hispanica_once:\n",
    "    print(url)\n",
    "print('FCB:', len(fontes_once))\n",
    "for url in fontes_once:\n",
    "    print(url)\n",
    "print('others:', len(others))\n",
    "for url in others:\n",
    "    print(url)"
   ]
  },
  {
   "cell_type": "markdown",
   "id": "2253f11d",
   "metadata": {},
   "source": [
    "Those hispanica sources are all fragments of one manuscript and all are missing Shelfmark (-> siglum), but we can get that value directly from their chant records - we would add them half manually before dataset realese.  \n",
    "  \n",
    "Those FCB source pages are returning 'Acces denied'...  \n",
    "Since we did not manage to get info about reason of this hidding, we decided to discard their chant records in case these sources were hidden due to some quality problems etc."
   ]
  },
  {
   "cell_type": "code",
   "execution_count": null,
   "id": "ea99eb62",
   "metadata": {},
   "outputs": [],
   "source": [
    "for srclink in hispanica_once:\n",
    "    sources.loc[sources['srclink'] == srclink, 'title'] = chants.loc[chants['srclink'] == srclink, 'siglum'].unique()[0]\n",
    "    sources.loc[sources['srclink'] == srclink, 'siglum'] = chants.loc[chants['srclink'] == srclink, 'siglum'].unique()[0]\n",
    "    # Rest of the information should be added manually!"
   ]
  },
  {
   "cell_type": "code",
   "execution_count": 19,
   "id": "27da7cdd",
   "metadata": {},
   "outputs": [
    {
     "name": "stdout",
     "output_type": "stream",
     "text": [
      "number of chants records before discarding problematic FCB sources: 888693\n",
      "number of chants records after discarding problematic FCB sources: 888110\n"
     ]
    }
   ],
   "source": [
    "print('number of chants records before discarding problematic FCB sources:', len(chants))\n",
    "for srclink in fontes_once:\n",
    "    # Discard \"FCB hidden sources\" records in chants\n",
    "    chants = chants[chants['srclink'] != srclink]\n",
    "print('number of chants records after discarding problematic FCB sources:', len(chants))"
   ]
  },
  {
   "cell_type": "markdown",
   "id": "412cd866",
   "metadata": {},
   "source": [
    "##### Duplicity in sources...?\n",
    "We wanna look how unique value siglum is."
   ]
  },
  {
   "cell_type": "code",
   "execution_count": 20,
   "id": "777caf22",
   "metadata": {},
   "outputs": [
    {
     "name": "stdout",
     "output_type": "stream",
     "text": [
      "siglum\n",
      "PL-PŁsem MsEPl 12                                 2\n",
      "CZ-OLu M III 6                                    2\n",
      "SK-KRE 1625                                       2\n",
      "CZ-Pn XII A 24                                    2\n",
      "A-KN CCl 1018                                     2\n",
      "CZ-Pn XV A 10                                     2\n",
      "CZ-Pu VI G 3a                                     2\n",
      "P-LA Caixa 2, Fragmento 017                       2\n",
      "CZ-Pu XIV G 46                                    2\n",
      "SK-KRE Tom. 1, Fons 32, Fasc. 9, Nro. 83, 1583    2\n",
      "SK-KRE Tom. 2, Fons 41, Fasc. 1, Nro. 3, 1601     2\n",
      "Name: count, dtype: int64\n"
     ]
    }
   ],
   "source": [
    "# Look for duplicity in sigla\n",
    "print(sources['siglum'].value_counts()[lambda x : x > 1])"
   ]
  },
  {
   "cell_type": "code",
   "execution_count": 21,
   "id": "ff45976c",
   "metadata": {},
   "outputs": [
    {
     "name": "stdout",
     "output_type": "stream",
     "text": [
      "                                                 title             siglum  \\\n",
      "136  PL-PŁsem MsEPl 12 Antyfonarz z Płocka, pars de...  PL-PŁsem MsEPl 12   \n",
      "162  PL-PŁsem MsEPl 12 Antyfonarz z Płocka, pars de...  PL-PŁsem MsEPl 12   \n",
      "\n",
      "                                  srclink  \n",
      "136  https://cantusplanus.pl/source/14457  \n",
      "162  https://cantusplanus.pl/source/14458  \n",
      "number of chants in https://cantusplanus.pl/source/14457 : 2019\n",
      "number of chants in https://cantusplanus.pl/source/14458 : 1825\n",
      "---------------------\n",
      "                                       title          siglum  \\\n",
      "696                 CZ-OLu (Olomouc) M III 6  CZ-OLu M III 6   \n",
      "2122  Missale Olomucense scriptoris Stephani  CZ-OLu M III 6   \n",
      "\n",
      "                                     srclink  \n",
      "696   https://cantusbohemiae.cz/source/11616  \n",
      "2122      https://hymnologica.cz/source/6983  \n",
      "number of chants in https://cantusbohemiae.cz/source/11616 : 467\n",
      "number of chants in https://hymnologica.cz/source/6983 : 156\n",
      "---------------------\n",
      "                                             title       siglum  \\\n",
      "907           SK-KRE (Kremnica) Antiphonarium 1625  SK-KRE 1625   \n",
      "1752  SK-KRE (Kremnica) Graduale Wein Ungeldt 1625  SK-KRE 1625   \n",
      "\n",
      "                             srclink  \n",
      "907   https://cantus.sk/source/32083  \n",
      "1752  https://cantus.sk/source/32224  \n",
      "number of chants in https://cantus.sk/source/32083 : 4\n",
      "number of chants in https://cantus.sk/source/32224 : 3\n",
      "---------------------\n",
      "                                          title          siglum  \\\n",
      "27                       CZ-Pn (Praha) XII A 24  CZ-Pn XII A 24   \n",
      "753  Zimní antifonář plzeňského faráře Mikuláše  CZ-Pn XII A 24   \n",
      "\n",
      "                                    srclink  \n",
      "27   https://cantusbohemiae.cz/source/33177  \n",
      "753     https://hymnologica.cz/source/10619  \n",
      "number of chants in https://cantusbohemiae.cz/source/33177 : 865\n",
      "number of chants in https://hymnologica.cz/source/10619 : 16\n",
      "---------------------\n",
      "                                                  title         siglum  \\\n",
      "142   Klosterneuburg, Augustiner-Chorherrenstift - B...  A-KN CCl 1018   \n",
      "1677                    A-KN CCl 1018 Graduale (Fragm.)  A-KN CCl 1018   \n",
      "\n",
      "                                       srclink  \n",
      "142   https://cantusdatabase.org/source/123616  \n",
      "1677      https://austriamanus.org/source/3620  \n",
      "number of chants in https://cantusdatabase.org/source/123616 : 2776\n",
      "number of chants in https://austriamanus.org/source/3620 : 21\n",
      "---------------------\n",
      "                                            title         siglum  \\\n",
      "28                          CZ-Pn (Praha) XV A 10  CZ-Pn XV A 10   \n",
      "961  Praha, Knihovna Národního muzea, ms. XV A 10  CZ-Pn XV A 10   \n",
      "\n",
      "                                    srclink  \n",
      "28   https://cantusbohemiae.cz/source/28509  \n",
      "961        https://hymnologica.cz/source/47  \n",
      "number of chants in https://cantusbohemiae.cz/source/28509 : 2884\n",
      "number of chants in https://hymnologica.cz/source/47 : 14\n",
      "---------------------\n",
      "                                                 title         siglum  \\\n",
      "154                              CZ-Pu (Praha) VI G 3a  CZ-Pu VI G 3a   \n",
      "545  Corpus officiorum monasterii s. Georgii in cas...  CZ-Pu VI G 3a   \n",
      "\n",
      "                                   srclink  \n",
      "154  https://cantusbohemiae.cz/source/9147  \n",
      "545     https://hymnologica.cz/source/5364  \n",
      "number of chants in https://cantusbohemiae.cz/source/9147 : 875\n",
      "number of chants in https://hymnologica.cz/source/5364 : 79\n",
      "---------------------\n",
      "                                                  title  \\\n",
      "1925  P-LA (Lamego) Arquivo da Sé Caixa 2, Fragmento...   \n",
      "1926                        P-LA Caixa 2, Fragmento 017   \n",
      "\n",
      "                           siglum                                  srclink  \n",
      "1925  P-LA Caixa 2, Fragmento 017      https://pemdatabase.eu/source/46528  \n",
      "1926  P-LA Caixa 2, Fragmento 017  https://musicahispanica.eu/source/62316  \n",
      "number of chants in https://pemdatabase.eu/source/46528 : 8\n",
      "number of chants in https://musicahispanica.eu/source/62316 : 8\n",
      "---------------------\n",
      "                                                  title          siglum  \\\n",
      "338                              CZ-Pu (Praha) XIV G 46  CZ-Pu XIV G 46   \n",
      "2186  CZ-Pu XIV G 46 | Corpus officiorum monasterii ...  CZ-Pu XIV G 46   \n",
      "\n",
      "                                    srclink  \n",
      "338   https://cantusbohemiae.cz/source/9194  \n",
      "2186     https://hymnologica.cz/source/5366  \n",
      "number of chants in https://cantusbohemiae.cz/source/9194 : 364\n",
      "number of chants in https://hymnologica.cz/source/5366 : 3\n",
      "---------------------\n",
      "                                                  title  \\\n",
      "1194  SK-KRE (Kremnica) Missale Tom. 1, Fons 32, Fas...   \n",
      "2031  SK-KRE (Kremnica) Antiphonarium Tom. 1, Fons 3...   \n",
      "\n",
      "                                              siglum  \\\n",
      "1194  SK-KRE Tom. 1, Fons 32, Fasc. 9, Nro. 83, 1583   \n",
      "2031  SK-KRE Tom. 1, Fons 32, Fasc. 9, Nro. 83, 1583   \n",
      "\n",
      "                             srclink  \n",
      "1194  https://cantus.sk/source/32332  \n",
      "2031  https://cantus.sk/source/32333  \n",
      "number of chants in https://cantus.sk/source/32332 : 6\n",
      "number of chants in https://cantus.sk/source/32333 : 4\n",
      "---------------------\n",
      "                                                  title  \\\n",
      "1570  SK-KRE (Kremnica) Graduale Tom. 2, Fons 41, Fa...   \n",
      "2170  SK-KRE (Kremnica) Sequentiarium Tom. 2, Fons 4...   \n",
      "\n",
      "                                             siglum  \\\n",
      "1570  SK-KRE Tom. 2, Fons 41, Fasc. 1, Nro. 3, 1601   \n",
      "2170  SK-KRE Tom. 2, Fons 41, Fasc. 1, Nro. 3, 1601   \n",
      "\n",
      "                             srclink  \n",
      "1570  https://cantus.sk/source/32575  \n",
      "2170  https://cantus.sk/source/32574  \n",
      "number of chants in https://cantus.sk/source/32575 : 11\n",
      "number of chants in https://cantus.sk/source/32574 : 2\n",
      "---------------------\n"
     ]
    }
   ],
   "source": [
    "# Lets inspect them \n",
    "for siglum in sources['siglum'].value_counts()[lambda x : x > 1].index:\n",
    "    print(sources[sources['siglum'] == siglum][['title', 'siglum', 'srclink']])\n",
    "    srclinks = list(sources[sources['siglum'] == siglum]['srclink'])\n",
    "    srclink1 = srclinks[0]\n",
    "    print('number of chants in', srclink1, ':', len(chants[chants['srclink'] == srclink1]))\n",
    "    srclink2 = srclinks[1]\n",
    "    print('number of chants in', srclink2, ':', len(chants[chants['srclink'] == srclink2]))\n",
    "    print('---------------------')"
   ]
  },
  {
   "cell_type": "markdown",
   "id": "f0c50a2b",
   "metadata": {},
   "source": [
    "Very \"data version\" specific piece of code follows:"
   ]
  },
  {
   "cell_type": "code",
   "execution_count": 22,
   "id": "6c3784f5",
   "metadata": {},
   "outputs": [
    {
     "name": "stdout",
     "output_type": "stream",
     "text": [
      "P-LA Caixa 2, Fragmento 017\n",
      "number of chants in manuscripts: 8 8\n",
      "size of interesection: 8\n",
      "\n",
      "VI G 3a, folios in HYM & not in FCB: set()\n",
      "VI G 3a, folios in HYM & in FCB: {'096v', '108v', '104r', '112r', '105v', '108r', '102v', '099v', '110r', '102r', '103r', '062v', '114v', '113v', '106v', '109r', '112v', '101v', '103v', '097r', '105r', '111r', '110v', '099r', '104v', '056r', '107v', '097v', '109v', '101r', '114r', '106r'}\n",
      "\n",
      "XII A 24, folios in HYM & not in FCB: set()\n",
      "XII A 24, folios in HYM & in FCB: {'029v', '002r', '029r', '028v', '028r', '001v'}\n",
      "\n",
      "XV A 10, folios in HYM & not in FCB: set()\n",
      "XV A 10, folios in HYM & in FCB: {'007r', '040v', '007v'}\n",
      "\n",
      "XIV G 64, folios in HYM & not in FCB: {'074v', '080r'}\n",
      "XIV G 64, folios in HYM & in FCB: {'116v'}\n",
      "\n",
      "M III 6: FCB: 467 HYM: 156\n",
      "number of folios in HYM that are not in FCB: 112\n",
      "Genres in HYM chants: genre\n",
      "Sq    156\n",
      "Name: count, dtype: int64\n"
     ]
    }
   ],
   "source": [
    "# And then handle problematic cases manually\n",
    "# A-KN CCl 1018 - TWO different books having same sigla on URL pages - in CDB and AustruiaManus\n",
    "#                 probably AM one is a piece of parachment inserted inside book referd to by CDB\n",
    "# SK-KRE Tom. 2, Fons 41, Fasc. 1, Nro. 3, 1601 - two parts of book with separate URL entries\n",
    "# SK-KRE Tom. 1, Fons 32, Fasc. 9, Nro. 83, 1583 - two parts of book with separate URL entries\n",
    "# PL-PŁsem MsEPl 12 - two parts of book with separate URL entries\n",
    "\n",
    "# And these needs to be inspect on overlaping chant records:\n",
    "# P-LA Caixa 2, Fragmento 017 - https://musicahispanica.eu/source/62316 and https://pemdatabase.eu/source/46528\n",
    "caixa2PEM = chants[chants['srclink'] == \"https://pemdatabase.eu/source/46528\"]\n",
    "caixa2SEMM = chants[chants['srclink'] == \"https://musicahispanica.eu/source/62316\"]\n",
    "print('P-LA Caixa 2, Fragmento 017')\n",
    "print('number of chants in manuscripts:', len(caixa2PEM), len(caixa2SEMM))\n",
    "print('size of interesection:', len(set(caixa2SEMM['cantus_id']).intersection(set(caixa2PEM['cantus_id']))))\n",
    "print()\n",
    "# Both records complete -> shlould we discard one - in sources as well as in chants...\n",
    "\n",
    "# CZ-Pu VI G 3a - https://hymnologica.cz/source/5364 and https://cantusbohemiae.cz/source/9147\n",
    "viFCB = chants[chants['srclink'] == \"https://cantusbohemiae.cz/source/9147\"]\n",
    "viHYM = chants[chants['srclink'] == \"https://hymnologica.cz/source/5364\"]\n",
    "print('VI G 3a, folios in HYM & not in FCB:', set(viHYM[['folio', 'cantus_id']]).difference(set(viFCB[['folio', 'cantus_id']])))\n",
    "print('VI G 3a, folios in HYM & in FCB:', set(viHYM['folio']).intersection(set(viFCB['folio'])))\n",
    "vi_dupl_folios_cids = set(zip(viHYM['folio'], viHYM['cantus_id'])).intersection(set(zip(viFCB['folio'], viFCB['cantus_id'])))\n",
    "print()\n",
    "# CZ-Pn XII A 24 https://hymnologica.cz/source/10619  and https://cantusbohemiae.cz/source/33177\n",
    "xiiFCB = chants[chants['srclink'] == \"https://cantusbohemiae.cz/source/33177\"]\n",
    "xiiHYM = chants[chants['srclink'] == \"https://hymnologica.cz/source/10619\"]\n",
    "print('XII A 24, folios in HYM & not in FCB:', set(xiiHYM['folio']).difference(set(xiiFCB['folio'])))\n",
    "print('XII A 24, folios in HYM & in FCB:', set(xiiHYM['folio']).intersection(set(xiiFCB['folio'])))\n",
    "xii_dupl_folios_cids = set(zip(xiiHYM['folio'], xiiHYM['cantus_id'])).intersection(set(zip(xiiFCB['folio'], xiiFCB['cantus_id'])))\n",
    "print()\n",
    "# CZ-Pn XV A 10 - https://hymnologica.cz/source/47  and https://cantusbohemiae.cz/source/28509\n",
    "xvFCB = chants[chants['srclink'] == \"https://cantusbohemiae.cz/source/28509\"]\n",
    "xvHYM = chants[chants['srclink'] == \"https://hymnologica.cz/source/47\"]\n",
    "print('XV A 10, folios in HYM & not in FCB:', set(xvHYM['folio']).difference(set(xvFCB['folio'])))\n",
    "print('XV A 10, folios in HYM & in FCB:', set(xvHYM['folio']).intersection(set(xvFCB['folio'])))\n",
    "xv_dupl_folios_cids = set(zip(xvHYM['folio'], xvHYM['cantus_id'])).intersection(set(zip(xvFCB['folio'], xvFCB['cantus_id'])))\n",
    "print()\n",
    "# CZ-Pu XIV G 46 - https://hymnologica.cz/source/5366 and https://cantusbohemiae.cz/source/9194\n",
    "xivFCB = chants[chants['srclink'] == \"https://cantusbohemiae.cz/source/9194\"]\n",
    "xivHYM = chants[chants['srclink'] == \"https://hymnologica.cz/source/5366\"]\n",
    "print('XIV G 64, folios in HYM & not in FCB:', set(xivHYM['folio']).difference(set(xivFCB['folio'])))\n",
    "print('XIV G 64, folios in HYM & in FCB:', set(xivHYM['folio']).intersection(set(xivFCB['folio'])))\n",
    "xiv_dupl_folios_cids = set(zip(xivHYM['folio'], xivHYM['cantus_id'])).intersection(set(zip(xivFCB['folio'], xivFCB['cantus_id'])))\n",
    "print()\n",
    "# CZ-OLu M III 6 - https://hymnologica.cz/source/6983 and https://cantusbohemiae.cz/source/11616\n",
    "iiiFCB = chants[chants['srclink'] == \"https://cantusbohemiae.cz/source/11616\"]\n",
    "iiiHYM = chants[chants['srclink'] == \"https://hymnologica.cz/source/6983\"]\n",
    "iii_dupl_folios_cids = set(zip(iiiHYM['folio'], iiiHYM['cantus_id'])).intersection(set(zip(iiiFCB['folio'], iiiFCB['cantus_id'])))\n",
    "print('M III 6: FCB:', len(iiiFCB), 'HYM:', len(iiiHYM))\n",
    "print('number of folios in HYM that are not in FCB:', len(set(iiiHYM['folio']).difference(set(iiiFCB['folio']))))\n",
    "print('Genres in HYM chants:', iiiHYM['genre'].value_counts())"
   ]
  },
  {
   "cell_type": "markdown",
   "id": "f6e4b4ef",
   "metadata": {},
   "source": [
    "##### Troublemakers\n",
    "P-LA Caixa 2, Fragmento 017  \n",
    "-> lets discard PEM record since SEMM has full_text"
   ]
  },
  {
   "cell_type": "code",
   "execution_count": 23,
   "id": "2f77f8e1",
   "metadata": {},
   "outputs": [],
   "source": [
    "# Discard duplicate PEM source\n",
    "chants = chants[chants['srclink'] != \"https://pemdatabase.eu/source/46528\"]\n",
    "sources = sources[sources['srclink'] != \"https://pemdatabase.eu/source/46528\"]"
   ]
  },
  {
   "cell_type": "markdown",
   "id": "197dafd5",
   "metadata": {},
   "source": [
    "FCB 'vs' HYM  \n",
    "-> lets keep non-duplicate chants records from both - just change srclink from HYM one to FCB one (but keep HYM chantlink and db)  \n",
    "-> discard HYM records in sources"
   ]
  },
  {
   "cell_type": "code",
   "execution_count": null,
   "id": "2ffab2b1",
   "metadata": {},
   "outputs": [
    {
     "name": "stdout",
     "output_type": "stream",
     "text": [
      "number of chant records before HYM duplicites discarding 888102\n",
      "number of chant records after HYM duplicites discarding 888010\n"
     ]
    }
   ],
   "source": [
    "hymnologica_links = [\n",
    "    \"https://hymnologica.cz/source/5364\",\n",
    "    \"https://hymnologica.cz/source/10619\",\n",
    "    \"https://hymnologica.cz/source/47\",\n",
    "    \"https://hymnologica.cz/source/5366\",\n",
    "    \"https://hymnologica.cz/source/6983\"\n",
    "]\n",
    "# Discard HYM chant records where FCB equivalent exists\n",
    "# we would try to detect this based on folio and cantus_id\n",
    "duplicate_pairs = list(xii_dupl_folios_cids) + list(xiv_dupl_folios_cids) + list(xv_dupl_folios_cids) + list(iii_dupl_folios_cids) + list(vi_dupl_folios_cids)\n",
    "mask = chants.apply(\n",
    "    lambda row: ((row['folio'], row['cantus_id']) in duplicate_pairs) and (row['srclink'] in hymnologica_links),\n",
    "    axis=1\n",
    ")\n",
    "\n",
    "print('number of chant records before HYM duplicites discarding:', len(chants))\n",
    "# Filter out the rows where mask is True\n",
    "empt_chants = chants[~mask].reset_index(drop=True)\n",
    "print('number of chant records after HYM duplicites discarding:', len(empt_chants))\n",
    "chants = empt_chants"
   ]
  },
  {
   "cell_type": "code",
   "execution_count": 25,
   "id": "8cb8330d",
   "metadata": {},
   "outputs": [],
   "source": [
    "# Change HYM srclinks to FCB once in chants\n",
    "chants.loc[chants['srclink'] == \"https://hymnologica.cz/source/5364\", 'srclink'] = \"https://cantusbohemiae.cz/source/9147\"\n",
    "chants.loc[chants['srclink'] == \"https://hymnologica.cz/source/10619\", 'srclink'] = \"https://cantusbohemiae.cz/source/33177\"\n",
    "chants.loc[chants['srclink'] == \"https://hymnologica.cz/source/47\", 'srclink'] = \"https://cantusbohemiae.cz/source/28509\"\n",
    "chants.loc[chants['srclink'] == \"https://hymnologica.cz/source/5366\", 'srclink'] = \"https://cantusbohemiae.cz/source/9194\"\n",
    "chants.loc[chants['srclink'] == \"https://hymnologica.cz/source/6983\", 'srclink'] = \"https://cantusbohemiae.cz/source/11616\"\n",
    "\n",
    "# Discard HYM sources in sources\n",
    "sources = sources[~sources['srclink'].isin(hymnologica_links)]"
   ]
  },
  {
   "cell_type": "markdown",
   "id": "f4d27faf",
   "metadata": {},
   "source": [
    "##### Numerical century\n",
    "- again general code"
   ]
  },
  {
   "cell_type": "code",
   "execution_count": 26,
   "id": "5fc3b681",
   "metadata": {},
   "outputs": [],
   "source": [
    "import re"
   ]
  },
  {
   "cell_type": "code",
   "execution_count": 27,
   "id": "c5d4bcf3",
   "metadata": {},
   "outputs": [],
   "source": [
    "# Numerical century\n",
    "def get_numerical_century(century : str) -> int:\n",
    "    try:\n",
    "        two_digits_pattern = r'(?<!\\d)\\d{2}(?!\\d)'\n",
    "        two_digits_match = re.findall(two_digits_pattern, century)\n",
    "        if len(two_digits_match) == 1:\n",
    "            return int(two_digits_match[0])\n",
    "        elif len(two_digits_match) > 1: \n",
    "            # take first anyway\n",
    "            return int(two_digits_match[0])\n",
    "        \n",
    "        one_digit_pattern = r'(?<!\\d)\\d{1}(?!\\d)'\n",
    "        one_digit_match = re.findall(one_digit_pattern, century)\n",
    "        if len(one_digit_match) == 1:\n",
    "            return int(one_digit_match[0])\n",
    "        \n",
    "        four_digits_pattern = r'(?<!\\d)\\d{4}(?!\\d)'\n",
    "        four_digits_match = re.findall(four_digits_pattern, century)\n",
    "        if four_digits_match is not None:\n",
    "            if len(four_digits_match) == 1:\n",
    "                return int(four_digits_match[0][0:2])+1\n",
    "            elif len(four_digits_match) > 1: \n",
    "                # take first anyway\n",
    "                return int(four_digits_match[0][0:2])+1\n",
    "            else:\n",
    "                print('PROBLEM:', century)\n",
    "        else:\n",
    "            print('PROBLEM:', century)\n",
    "    except: # probably nan coming\n",
    "        return ''"
   ]
  },
  {
   "cell_type": "code",
   "execution_count": 28,
   "id": "a3d87142",
   "metadata": {},
   "outputs": [],
   "source": [
    "# Apply numerical century creation on source data\n",
    "sources_num_cent = sources\n",
    "sources_num_cent['num_century'] = sources['century'].apply(get_numerical_century)"
   ]
  },
  {
   "cell_type": "markdown",
   "id": "11b3466c",
   "metadata": {},
   "source": [
    "#### Cursus"
   ]
  },
  {
   "cell_type": "code",
   "execution_count": 29,
   "id": "f91c1e69",
   "metadata": {},
   "outputs": [
    {
     "name": "stdout",
     "output_type": "stream",
     "text": [
      "number of sources: 2266\n",
      "\n",
      "cursus\n",
      "Secular      196\n",
      "Monastic      86\n",
      "cathedral     49\n",
      "unknown       35\n",
      "Romanum       14\n",
      "Name: count, dtype: int64\n"
     ]
    }
   ],
   "source": [
    "print('number of sources:', len(sources))\n",
    "print()\n",
    "print(sources['cursus'].value_counts())"
   ]
  },
  {
   "cell_type": "markdown",
   "id": "dc05217d",
   "metadata": {},
   "source": [
    "#### Provenance\n"
   ]
  },
  {
   "cell_type": "code",
   "execution_count": 30,
   "id": "386c3d9b",
   "metadata": {},
   "outputs": [
    {
     "name": "stdout",
     "output_type": "stream",
     "text": [
      "number of provenance values in data: 642\n",
      "provenance\n",
      "Slovakia                                                            110\n",
      "Bohemia                                                              63\n",
      "Klosterneuburg                                                       63\n",
      "Hungary                                                              57\n",
      "Austria/Germany                                                      44\n",
      "                                                                   ... \n",
      "Bellelay Abbey                                                        1\n",
      "Troyes                                                                1\n",
      "Coimbra, Catedral                                                     1\n",
      "France, Abbaye Saint-Pierre d’Angers (?) puis abbaye Saint-Aubin      1\n",
      "Troyes, France                                                        1\n",
      "Name: count, Length: 641, dtype: int64\n"
     ]
    }
   ],
   "source": [
    "print('number of provenance values in data:', len(set(sources['provenance'])))\n",
    "print(sources['provenance'].value_counts())"
   ]
  },
  {
   "cell_type": "code",
   "execution_count": 31,
   "id": "a97cfd3f",
   "metadata": {},
   "outputs": [],
   "source": [
    "# Save chants after all changes\n",
    "chants.to_csv(CHANTS_CSV_PATH[:-4]+'_processed.csv', index=False)\n",
    "# Save sources after all changes\n",
    "sources_num_cent.to_csv(SOURCES_CSV_PATH[:-4]+'_processed.csv', index=False)"
   ]
  },
  {
   "cell_type": "markdown",
   "id": "b8565843",
   "metadata": {},
   "source": [
    "## Statistics\n",
    "Here we computed basic statistics about our dataset.\n",
    "- number of chant records\n",
    "\n",
    "- number of source manuscripts of this records\n",
    "- out of them how many have:\n",
    "    - provenance\n",
    "    - century\n",
    "    - cursus\n",
    "\n",
    "- number of chant records with melody in volpiano - more then 20 notes\n",
    "\n",
    "- mode distribution? - tricky bc lots of wierd values (category other?)\n",
    "- office distribution? - tricky bc lots of wierd values (category other?)  \n",
    "- genre distribution? - ok, is standardized... still many values  \n",
    "(these as little plots I guess)"
   ]
  },
  {
   "cell_type": "code",
   "execution_count": 32,
   "id": "6ecd66cc",
   "metadata": {},
   "outputs": [],
   "source": [
    "chants = pd.read_csv(CHANTS_CSV_PATH[:-4]+'_processed.csv', dtype=str)\n",
    "sources = pd.read_csv(SOURCES_CSV_PATH[:-4]+'_processed.csv', dtype=str)"
   ]
  },
  {
   "cell_type": "code",
   "execution_count": 45,
   "id": "881f7103",
   "metadata": {},
   "outputs": [
    {
     "name": "stdout",
     "output_type": "stream",
     "text": [
      "number of chants records after all processing: 888010\n",
      "out of them number of:\n"
     ]
    }
   ],
   "source": [
    "print('number of chants records after all processing:', len(chants))\n",
    "print('out of them number of:')"
   ]
  },
  {
   "cell_type": "code",
   "execution_count": 39,
   "id": "5da30aac",
   "metadata": {},
   "outputs": [
    {
     "name": "stdout",
     "output_type": "stream",
     "text": [
      "number of sources records after all processing: 2266\n",
      "out of them number of:\n",
      "\tsources with provenance value: 1606\n",
      "\tsources with century value: 2228\n",
      "\tsources with cursus value: 345\n"
     ]
    }
   ],
   "source": [
    "print('number of sources records after all processing:', len(sources))\n",
    "print('out of them number of:')\n",
    "print('\\tsources with provenance value:', len(sources[sources['provenance'].notna()]))\n",
    "print('\\tsources with century value:', len(sources[sources['century'].notna()]))\n",
    "print('\\tsources with cursus value:', len(sources[sources['cursus'].notna()]) - len(sources[sources['cursus'] == 'unknown']))"
   ]
  }
 ],
 "metadata": {
  "kernelspec": {
   "display_name": "Python 3",
   "language": "python",
   "name": "python3"
  },
  "language_info": {
   "codemirror_mode": {
    "name": "ipython",
    "version": 3
   },
   "file_extension": ".py",
   "mimetype": "text/x-python",
   "name": "python",
   "nbconvert_exporter": "python",
   "pygments_lexer": "ipython3",
   "version": "3.11.6"
  }
 },
 "nbformat": 4,
 "nbformat_minor": 5
}
