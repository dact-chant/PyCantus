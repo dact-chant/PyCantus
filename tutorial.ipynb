{
 "cells": [
  {
   "cell_type": "markdown",
   "id": "0b1477ba",
   "metadata": {},
   "source": [
    "## Pycantus tutorial\n",
    "\n",
    "Here comes basics of how to work with `pycantus` library.  \n",
    "`pycantus`: A Python library designed to enhance accessibility of Gregorian chants for both coders and non-coders."
   ]
  },
  {
   "cell_type": "markdown",
   "id": "8093479a",
   "metadata": {},
   "source": [
    "First make sure you have latest pycantus version installed.  \n",
    "That can be ensured by running in command line:  \n",
    "`pip install --upgrade pycantus`"
   ]
  },
  {
   "cell_type": "markdown",
   "id": "4eb13071",
   "metadata": {},
   "source": [
    "Now let's make sure you can use `pycantus`."
   ]
  },
  {
   "cell_type": "code",
   "execution_count": 1,
   "id": "512451f7",
   "metadata": {},
   "outputs": [
    {
     "name": "stdout",
     "output_type": "stream",
     "text": [
      "\n",
      "    *********************************************\n",
      "    *                                           *\n",
      "    *           Welcome to PyCantus!            *\n",
      "    *                                           *\n",
      "    *    A Python library designed to enhance   *\n",
      "    *    accessibility of Gregorian chants for  *\n",
      "    *    both coders and non-coders.            *\n",
      "    *                                           *\n",
      "    *********************************************\n",
      "    \n"
     ]
    }
   ],
   "source": [
    "import pycantus\n",
    "import pycantus.data as data\n",
    "\n",
    "pycantus.hello_pycantus()"
   ]
  },
  {
   "cell_type": "markdown",
   "id": "9fcdae90",
   "metadata": {},
   "source": [
    "#### Get your firts corpus to play with\n",
    "Base of `pycantus` is work with data.  \n",
    "This data are stored in `Corpus` object containing list of chants (objects `Chant`) and possibly also list of sources (objects `Source`).  \n",
    "You can load one of predefined datasets as well as your own files."
   ]
  },
  {
   "cell_type": "code",
   "execution_count": 2,
   "id": "20d7c2db",
   "metadata": {},
   "outputs": [
    {
     "name": "stdout",
     "output_type": "stream",
     "text": [
      "Loading chants and sources...\n",
      "Data loaded!\n"
     ]
    }
   ],
   "source": [
    "sample_corpus = data.load_dataset('sample_dataset')"
   ]
  },
  {
   "cell_type": "markdown",
   "id": "94a43491",
   "metadata": {},
   "source": [
    "Now we can look how `Chant` and `Source` do look like as data holders:"
   ]
  },
  {
   "cell_type": "code",
   "execution_count": 3,
   "id": "82acf0f9",
   "metadata": {},
   "outputs": [
    {
     "data": {
      "text/plain": [
       "'cantus_id,incipit,siglum,srclink,chantlink,folio,db,sequence,feast,genre,office,position,melody_id,image,mode,full_text,melody,century'"
      ]
     },
     "execution_count": 3,
     "metadata": {},
     "output_type": "execute_result"
    }
   ],
   "source": [
    "sample_corpus.csv_chants_header"
   ]
  },
  {
   "cell_type": "code",
   "execution_count": 4,
   "id": "f630addd",
   "metadata": {},
   "outputs": [
    {
     "data": {
      "text/plain": [
       "'title,siglum,century,provenance,srclink'"
      ]
     },
     "execution_count": 4,
     "metadata": {},
     "output_type": "execute_result"
    }
   ],
   "source": [
    "sample_corpus.csv_sources_header"
   ]
  },
  {
   "cell_type": "markdown",
   "id": "5d6075ff",
   "metadata": {},
   "source": [
    "And also how particulary ones of them look like:"
   ]
  },
  {
   "cell_type": "code",
   "execution_count": 5,
   "id": "e11d557d",
   "metadata": {},
   "outputs": [
    {
     "data": {
      "text/plain": [
       "'206135,Quasi David dejicit funda Philistaeum dum ,SK-Bra (Bratislava) Antiphonary of Bratislava I EC Lad.3,https://cantus.sk/source/14828,https://cantus.sk/chant/21201,163v,CSK,,Emerici,A,L,4,,,,Quasi David dejicit funda Philistaeum dum de carne perficit Emericus trophaeum,,'"
      ]
     },
     "execution_count": 5,
     "metadata": {},
     "output_type": "execute_result"
    }
   ],
   "source": [
    "sample_corpus.chants[0].to_csv_row"
   ]
  },
  {
   "cell_type": "code",
   "execution_count": 6,
   "id": "46739302",
   "metadata": {},
   "outputs": [
    {
     "data": {
      "text/plain": [
       "'Wien, Österreichische Nationalbibliothek, 1799**,A-Wn 1799**,13th century,Rein,https://cantusdatabase.org/source/123667'"
      ]
     },
     "execution_count": 6,
     "metadata": {},
     "output_type": "execute_result"
    }
   ],
   "source": [
    "sample_corpus.sources[2].to_csv_row"
   ]
  },
  {
   "cell_type": "code",
   "execution_count": 7,
   "id": "d35771cd",
   "metadata": {},
   "outputs": [
    {
     "name": "stdout",
     "output_type": "stream",
     "text": [
      "My chants have incipts:\n",
      "\t Quasi David dejicit funda Philistaeum dum \n",
      "\t Quasi David deicit funda Philisteum\n",
      "\t Quidam autem ex Judaeis\n",
      "\t Quidam autem ex Judaeis volebant\n",
      "\t Quidam autem ex Judaeis volebant\n",
      "\t Quidam autem ex Judaeis volebant \n",
      "\t Quidam autem ex Judaeis volebant inter \n",
      "\t Quidam autem ex Judaeis\n",
      "\t Quidam autem ex Judaeis volebant inter \n",
      "\t Quidam autem ex Judaeis\n",
      "\t Iussit eam virgis cedi suspensam\n",
      "\t His festis mundus jubili sit\n",
      "\t Puer Jesus crescebat plenus\n",
      "\t Puer Jesus crescebat plenus\n",
      "\t Puer Jesus*\n",
      "\t Puer Jesus crescebat plenus\n",
      "\t Puer Jesus crescebat plenus\n",
      "\t Maxima namque dominus per fimbrias\n",
      "\t Maxima*\n",
      "\t Cum oraret beatus Martialis\n",
      "\t Cum oraret*\n",
      "\t Cum oraret beatus Martialis apparens Dominus \n",
      "\t Cum oraret *\n",
      "\t Milites sumus*\n",
      "\t Utquem jam venerabilem vitam fecerat etiam \n",
      "\t Utquem jam venerabilem vitam\n",
      "\t Deo cum laetitia serviens puella\n",
      "\t Deo cum laetitia serviens\n",
      "\t Deo cum laetitia serviens\n",
      "\t Deo cum laetitia serviens\n",
      "\t Deo cum laetitia serviens puella\n",
      "\t Deo cum laetitia serviens puella sub \n",
      "\t Deo cum laetitia serviens puella sub \n",
      "\t Deo cum laetitia serviens puella sub \n",
      "\t Deo cum laetitia serviens\n",
      "\t Deo cum laetitia serviens puella\n",
      "\t Deo cum laetitia serviens\n",
      "\t Deo cum laetitia serviens\n",
      "\t Deo cum laetitia serviens puella\n",
      "\t Deo cum laetitia serviens puella\n",
      "\t Deo cum laetitia serviens\n",
      "\t Deo cum laetitia serviens\n",
      "\t Deo cum laetitia serviens puella\n",
      "\t Deo cum laetitia serviens\n",
      "\t Deo cum laetitia serviens\n",
      "\t Deo cum laetitia serviens\n",
      "\t Deo cum laetitia serviens\n",
      "\t Deo cum laetitia serviens puella sub \n",
      "\t Deo cum laetitia serviens puella\n",
      "\t Deo cum laetitia serviens\n"
     ]
    }
   ],
   "source": [
    "print('My chants have incipts:')\n",
    "for chant in sample_corpus.chants:\n",
    "    print('\\t', chant.incipit)"
   ]
  },
  {
   "cell_type": "markdown",
   "id": "bf429402",
   "metadata": {},
   "source": [
    "##### Editability\n",
    "\n",
    "By default `Corpus` is not editable and so are all its `Chant` and `Source` objects.  \n",
    "That means that you cannot change values in them, they are locked, and if we try to change some value, we shlould recieve an error."
   ]
  },
  {
   "cell_type": "code",
   "execution_count": 8,
   "id": "35933ea9",
   "metadata": {},
   "outputs": [
    {
     "ename": "AttributeError",
     "evalue": "Cannot modify 'incipit' because the object is locked.",
     "output_type": "error",
     "traceback": [
      "\u001b[31m---------------------------------------------------------------------------\u001b[39m",
      "\u001b[31mAttributeError\u001b[39m                            Traceback (most recent call last)",
      "\u001b[36mCell\u001b[39m\u001b[36m \u001b[39m\u001b[32mIn[8]\u001b[39m\u001b[32m, line 1\u001b[39m\n\u001b[32m----> \u001b[39m\u001b[32m1\u001b[39m \u001b[43msample_corpus\u001b[49m\u001b[43m.\u001b[49m\u001b[43mchants\u001b[49m\u001b[43m[\u001b[49m\u001b[32;43m0\u001b[39;49m\u001b[43m]\u001b[49m\u001b[43m.\u001b[49m\u001b[43mincipit\u001b[49m = \u001b[33m'\u001b[39m\u001b[33mMamma Mia! Here I go again!\u001b[39m\u001b[33m'\u001b[39m\n",
      "\u001b[36mFile \u001b[39m\u001b[32mc:\\Users\\annad\\Documents\\MFFuck\\PyCantus_ALL\\PyCantus\\pycantus\\models\\chant.py:116\u001b[39m, in \u001b[36mChant.__setattr__\u001b[39m\u001b[34m(self, name, value)\u001b[39m\n\u001b[32m    114\u001b[39m \u001b[38;5;28;01mdef\u001b[39;00m\u001b[38;5;250m \u001b[39m\u001b[34m__setattr__\u001b[39m(\u001b[38;5;28mself\u001b[39m, name, value):\n\u001b[32m    115\u001b[39m     \u001b[38;5;28;01mif\u001b[39;00m name != \u001b[33m\"\u001b[39m\u001b[33mlocked\u001b[39m\u001b[33m\"\u001b[39m \u001b[38;5;129;01mand\u001b[39;00m \u001b[38;5;28mgetattr\u001b[39m(\u001b[38;5;28mself\u001b[39m, \u001b[33m\"\u001b[39m\u001b[33mlocked\u001b[39m\u001b[33m\"\u001b[39m, \u001b[38;5;28;01mFalse\u001b[39;00m):\n\u001b[32m--> \u001b[39m\u001b[32m116\u001b[39m         \u001b[38;5;28;01mraise\u001b[39;00m \u001b[38;5;167;01mAttributeError\u001b[39;00m(\u001b[33mf\u001b[39m\u001b[33m\"\u001b[39m\u001b[33mCannot modify \u001b[39m\u001b[33m'\u001b[39m\u001b[38;5;132;01m{\u001b[39;00mname\u001b[38;5;132;01m}\u001b[39;00m\u001b[33m'\u001b[39m\u001b[33m because the object is locked.\u001b[39m\u001b[33m\"\u001b[39m)\n\u001b[32m    117\u001b[39m     \u001b[38;5;28msuper\u001b[39m().\u001b[34m__setattr__\u001b[39m(name, value)\n",
      "\u001b[31mAttributeError\u001b[39m: Cannot modify 'incipit' because the object is locked."
     ]
    }
   ],
   "source": [
    "sample_corpus.chants[0].incipit = 'Mamma Mia! Here I go again!'"
   ]
  },
  {
   "cell_type": "markdown",
   "id": "73cdaaa4",
   "metadata": {},
   "source": [
    "However, if you need to do such edits (e.g. clean volpiano melodies) you can create whole `Corpus` editable:"
   ]
  },
  {
   "cell_type": "code",
   "execution_count": null,
   "id": "c3cc1af7",
   "metadata": {},
   "outputs": [
    {
     "name": "stdout",
     "output_type": "stream",
     "text": [
      "Loading chants and sources...\n",
      "Data loaded!\n",
      "Edited incipit:\n",
      "\t Mamma Mia! Here I go again!\n"
     ]
    }
   ],
   "source": [
    "sample_corpus_editable = data.load_dataset('sample_dataset', is_editable=True)\n",
    "sample_corpus_editable.chants[0].incipit = 'Mamma Mia! Here I go again!'\n",
    "print('Edited incipit:')\n",
    "print('\\t', sample_corpus_editable.chants[0].incipit)"
   ]
  },
  {
   "cell_type": "markdown",
   "id": "2baf3378",
   "metadata": {},
   "source": [
    "#### Export results of your work"
   ]
  },
  {
   "cell_type": "code",
   "execution_count": null,
   "id": "a7a82811",
   "metadata": {},
   "outputs": [],
   "source": [
    "chants_csv_file_name = 'my_great_chant_corpus-CHANTS.csv'\n",
    "sources_csv_file_name = 'my_great_chant_corpus-SOURCES.csv'\n",
    "sample_corpus_editable.export_csv(chants_csv_file_name, sources_csv_file_name)"
   ]
  },
  {
   "cell_type": "markdown",
   "id": "2ecf4279",
   "metadata": {},
   "source": [
    "#### Use your own data\n",
    "You can also use your own data and then process them in provided data model with our analytics and data filtration tools.  \n",
    "The only thing to do is to prepare your data in csv file(s) of perscribed format - that means file(s) having correct fileds with all mandatory fileds present, such as:  \n",
    "For chants:  \n",
    "- siglum (*): Abbreviation for the source manuscript or collection (e.g., \"A-ABC Fragm. 1\").\n",
    "- srclink (*): URL link to the source in the external database (e.g., \"https://yourdatabase.org/source/123\").\n",
    "- chantlink (*): URL link directly to the chant entry in the external database (e.g., \"https://yourdatabase.org/chant/45678\").\n",
    "- folio (*): Folio information for the chant (e.g., \"001v\").\n",
    "- sequence: The order of the chant on the folio (e.g., \"1\").\n",
    "- incipit (*): The opening words or phrase of the chant (e.g., \"Non sufficiens sibi semel aspexisse vis \").\n",
    "- feast: Feast or liturgical occasion associated with the chant (e.g., \"Nativitas Mariae\").\n",
    "- genre: Genre of the chant, such as antiphon (A), responsory (R), hymn (H), etc. (e.g., \"V\").\n",
    "- office: The office in which the chant is used, such as Matins (M) or Lauds (L) (e.g., \"M\").\n",
    "- position: Liturgical position of the chant in the office (e.g., \"01\").\n",
    "- cantus_id (*): The unique Cantus ID associated with the chant (e.g., \"007129a\").\n",
    "- melody_id: The unique Melody ID associated with the chant (e.g., \"001216m1\").\n",
    "- image: URL link to an image of the manuscript page, if available (e.g., \"https://yourdatabase.org/image/12345\").\n",
    "- mode: Mode of the chant, if available (e.g., \"1\").\n",
    "- full_text: Full text of the chant (e.g., \"Non sufficiens sibi semel aspexisse vis amoris multiplicavit in ea inten]tionem inquisitionis\").\n",
    "- melody: Melody encoded in Volpiano, if available (e.g., \"1---dH---h7--h--ghgfed--gH---h--h---\").\n",
    "- century: Number identifying the century of the source. If multiple centuries apply, the lowest number should be used. (e.g., \"12\").\n",
    "- db (*): Code for the database providing the data, used for identification within CI (e.g., \"DBcode\").\n",
    "\n",
    "For sources:  \n",
    "- title(*): Name of the source (can be same as siglum)\n",
    "- srclink(*): URL link to the source in the external database (e.g., \"https://yourdatabase.org/source/123\").\n",
    "- siglum(*): Abbreviation for the source manuscript or collection (e.g., \"A-ABC Fragm. 1\"). Use RISM whenever possible.\n",
    "- century: century of source origin\n",
    "- provenance: name of the place of source origin\n",
    "\n",
    "(Fields marked with an asterisk (*) are obligatory and must be included in every record. Other fields are optional but recommended when data is available.)"
   ]
  },
  {
   "cell_type": "code",
   "execution_count": null,
   "id": "b7ac8c10",
   "metadata": {},
   "outputs": [],
   "source": [
    "# Fill in your data paths\n",
    "my_great_corpus_chants_filename = ...\n",
    "my_great_corpus_sources_filename = ..."
   ]
  },
  {
   "cell_type": "code",
   "execution_count": null,
   "id": "fa530532",
   "metadata": {},
   "outputs": [],
   "source": [
    "my_great_corpus_editable = data.load_dataset(my_great_corpus_chants_filename, my_great_corpus_sources_filename, is_editable=True)"
   ]
  },
  {
   "cell_type": "code",
   "execution_count": null,
   "id": "eb6248e9",
   "metadata": {},
   "outputs": [],
   "source": [
    "print('My great corpus first chant record:\\n', my_great_corpus_editable.chants[0])"
   ]
  },
  {
   "cell_type": "markdown",
   "id": "f903c67c",
   "metadata": {},
   "source": [
    "All other steps are the same as when using available datasets (such as sample dataset)"
   ]
  },
  {
   "cell_type": "markdown",
   "id": "66cd7243",
   "metadata": {},
   "source": [
    "#### Filter data"
   ]
  },
  {
   "cell_type": "markdown",
   "id": "7b2a1459",
   "metadata": {},
   "source": [
    "#### Validation component"
   ]
  },
  {
   "cell_type": "markdown",
   "id": "ac17fa1c",
   "metadata": {},
   "source": [
    "#### Analytics tools"
   ]
  }
 ],
 "metadata": {
  "kernelspec": {
   "display_name": "testvenv",
   "language": "python",
   "name": "python3"
  },
  "language_info": {
   "codemirror_mode": {
    "name": "ipython",
    "version": 3
   },
   "file_extension": ".py",
   "mimetype": "text/x-python",
   "name": "python",
   "nbconvert_exporter": "python",
   "pygments_lexer": "ipython3",
   "version": "3.11.6"
  }
 },
 "nbformat": 4,
 "nbformat_minor": 5
}
