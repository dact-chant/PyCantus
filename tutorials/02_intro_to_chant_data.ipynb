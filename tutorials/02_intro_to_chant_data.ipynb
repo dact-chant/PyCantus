{
 "cells": [
  {
   "cell_type": "markdown",
   "id": "f1f81156",
   "metadata": {},
   "source": [
    "# Intro to work with chant data\n",
    "\n",
    "Cantus Index as big source - for CantusCorpus v1.0 also\n",
    "\n",
    "Structure of data derived from the database:\n",
    "\n",
    "![Chant cataloguing schema.](img/chant-cataloguing-schema.png)\n",
    "\n",
    "For structure of Chant and Source records refer to the Development documentation.  \n",
    "For gaining more knowledge about Gregorian chant data confront the Intro to chant in documentation.  \n",
    "Intro to structure of Cantus Database data can bring also documentation of [CantusCorpus](https://github.com/DvorakovaA/CantusCorpus) dataset."
   ]
  },
  {
   "cell_type": "code",
   "execution_count": 1,
   "id": "7295e078",
   "metadata": {},
   "outputs": [],
   "source": [
    "import pycantus\n",
    "import pycantus.data as data"
   ]
  },
  {
   "cell_type": "markdown",
   "id": "38edadfc",
   "metadata": {},
   "source": [
    "## Load data\n",
    "Load the full CantusCorpus v1.0 as one of the pycantus available datasets.  \n",
    "(If data files are not ready, pycantus will download them.)"
   ]
  },
  {
   "cell_type": "code",
   "execution_count": 2,
   "id": "921db720",
   "metadata": {},
   "outputs": [
    {
     "name": "stdout",
     "output_type": "stream",
     "text": [
      "Loading chants and sources...\n",
      "Creating missing sources...\n",
      "0 missing sources created!\n",
      "Data loaded!\n",
      "Number of chants before filtering: 888010\n"
     ]
    }
   ],
   "source": [
    "# Load the full CantusCorpus v1.0 dataset\n",
    "cantuscorpus = data.load_dataset('cantuscorpus_v1.0', load_editable=True, create_missing_sources=True)\n",
    "\n",
    "print(f'Number of chants before filtering: {len(cantuscorpus.chants)}')"
   ]
  },
  {
   "cell_type": "markdown",
   "id": "46806a43",
   "metadata": {},
   "source": [
    "Let's check how many chants exactly we got:"
   ]
  },
  {
   "cell_type": "code",
   "execution_count": 16,
   "id": "c34885d2",
   "metadata": {},
   "outputs": [
    {
     "name": "stdout",
     "output_type": "stream",
     "text": [
      "Number of chants in CantusCorpus v1.0: 888010\n"
     ]
    }
   ],
   "source": [
    "n_chants = len(cantuscorpus.chants)\n",
    "print(f'Number of chants in CantusCorpus v1.0: {n_chants}')"
   ]
  },
  {
   "cell_type": "markdown",
   "id": "a06c26de",
   "metadata": {},
   "source": [
    "And what information is available for each of the chants:"
   ]
  },
  {
   "cell_type": "code",
   "execution_count": 12,
   "id": "3520b5dc",
   "metadata": {},
   "outputs": [
    {
     "name": "stdout",
     "output_type": "stream",
     "text": [
      "Data fields in a chant record:\n",
      "  cantus_id\n",
      "  incipit\n",
      "  siglum\n",
      "  srclink\n",
      "  chantlink\n",
      "  folio\n",
      "  db\n",
      "  sequence\n",
      "  feast\n",
      "  genre\n",
      "  office\n",
      "  position\n",
      "  melody_id\n",
      "  image\n",
      "  mode\n",
      "  full_text\n",
      "  melody\n",
      "  century\n"
     ]
    }
   ],
   "source": [
    "print('Data fields in a chant record:')\n",
    "for field in cantuscorpus.chants[0].header().split(','):\n",
    "    print(' ', field)"
   ]
  },
  {
   "cell_type": "code",
   "execution_count": 13,
   "id": "5912191f",
   "metadata": {},
   "outputs": [
    {
     "name": "stdout",
     "output_type": "stream",
     "text": [
      "Data fields in a source record:\n",
      "  title\n",
      "  siglum\n",
      "  century\n",
      "  provenance\n",
      "  srclink\n",
      "  numeric_century\n",
      "  cursus\n"
     ]
    }
   ],
   "source": [
    "print('Data fields in a source record:')\n",
    "for field in cantuscorpus.sources[0].header().split(','):\n",
    "    print(' ', field)"
   ]
  },
  {
   "cell_type": "markdown",
   "id": "d78a5590",
   "metadata": {},
   "source": [
    "## Statistics\n",
    "Here we would like to inspect our dataset a bit."
   ]
  },
  {
   "cell_type": "markdown",
   "id": "96d1c153",
   "metadata": {},
   "source": [
    "We know we have catalogued this huge amount of chants, but many of these will be copies of the same repertoire across many manuscripts. So, how many distinct chants do we have in the catalogued repertoire?\n",
    "\n",
    "This can be done thanks to the essential Cantus ID mechanism. Instances of the same chant across different manuscripts have the same Cantus ID assigned."
   ]
  },
  {
   "cell_type": "code",
   "execution_count": null,
   "id": "96ce674f",
   "metadata": {},
   "outputs": [
    {
     "name": "stdout",
     "output_type": "stream",
     "text": [
      "Number of distinct chants (by Cantus ID): 53282\n"
     ]
    }
   ],
   "source": [
    "all_cantus_ids = set(chant.cantus_id for chant in cantuscorpus.chants)\n",
    "print(f'Number of distinct chants (by Cantus ID): {len(all_cantus_ids)}')"
   ]
  },
  {
   "cell_type": "markdown",
   "id": "cfa69514",
   "metadata": {},
   "source": [
    "So on average, we can expect to see each Cantus ID:"
   ]
  },
  {
   "cell_type": "code",
   "execution_count": 17,
   "id": "336142c5",
   "metadata": {},
   "outputs": [
    {
     "data": {
      "text/plain": [
       "16.666228745167224"
      ]
     },
     "execution_count": 17,
     "metadata": {},
     "output_type": "execute_result"
    }
   ],
   "source": [
    "n_chants / len(all_cantus_ids)"
   ]
  },
  {
   "cell_type": "markdown",
   "id": "e321341c",
   "metadata": {},
   "source": [
    "But of course averages are not terribly informative. What we probably want to really know is the frequency profile of Cantus IDs: how many appear only once, how many appear twice, and how many are on the other hand of the spectrum, appearing tens or even hundreds of times."
   ]
  },
  {
   "cell_type": "code",
   "execution_count": 18,
   "id": "0d9de0f0",
   "metadata": {},
   "outputs": [],
   "source": [
    "cid_frequencies = {}\n",
    "for chant in cantuscorpus.chants:\n",
    "    cid = chant.cantus_id\n",
    "    # If this is the first time we see this cid, initialize its count to zero\n",
    "    if cid not in cid_frequencies:\n",
    "        cid_frequencies[cid] = 0\n",
    "    # '+=' means 'add and modify original'. \n",
    "    # It's shorthand for cid_frequencies[cid] = cid_frequencies[cid] + 1\n",
    "    cid_frequencies[cid] += 1 "
   ]
  },
  {
   "cell_type": "markdown",
   "id": "651055a0",
   "metadata": {},
   "source": [
    "**Visualisation.**\n",
    "\n",
    "Now we know how often each Cantus ID appeared in the dataset, but printing a dictionary of 31,000+ entries is also not helpful. But what we can do is visualise.\n",
    "\n",
    "For this, the `matplotlib` library is the most widespread and best-documented for Python.\n",
    "\n",
    "(Generally when you need to pick a library out of several choices that all support the features you require, go for the one that is most widely used. When you encounter some issue, the more users a library has, the more likely it is that someony has already had that issue and got it resolved, either through StackOverflow or some other publicly available forum.)"
   ]
  },
  {
   "cell_type": "code",
   "execution_count": 20,
   "id": "9d453856",
   "metadata": {},
   "outputs": [],
   "source": [
    "import matplotlib.pyplot as plt\n",
    "# This is a magical shortcut for making sure the visualisatons will be plotted nicely directly in the notebook:\n",
    "%matplotlib inline"
   ]
  },
  {
   "cell_type": "markdown",
   "id": "9efed393",
   "metadata": {},
   "source": [
    "Let's just plot the Cantus ID frequencies, sorted from highest to lowest."
   ]
  },
  {
   "cell_type": "code",
   "execution_count": 21,
   "id": "ca88016c",
   "metadata": {},
   "outputs": [
    {
     "data": {
      "image/png": "[encoded data removed]",
      "text/plain": [
       "<Figure size 640x480 with 1 Axes>"
      ]
     },
     "metadata": {},
     "output_type": "display_data"
    }
   ],
   "source": [
    "cid_frequencies_sorted = list(sorted(cid_frequencies.values(), reverse=True))  # sorted() by default goes from lowest to highest\n",
    "\n",
    "plt.plot(cid_frequencies_sorted)\n",
    "plt.xlabel('n-th largest Cantus ID')   # Best practice: always label both axes.\n",
    "plt.ylabel('Number of Cantus ID occurrences')\n",
    "plt.show()"
   ]
  },
  {
   "cell_type": "markdown",
   "id": "2f5efbf6",
   "metadata": {},
   "source": [
    "Ok, this is also not very helpful.  \n",
    "The most frequent Cantus ID occurred more than 10000 times, which makes the rest of the plot rather uninformative.  \n",
    "  \n",
    "Let's see the highest-frequency values."
   ]
  },
  {
   "cell_type": "code",
   "execution_count": 23,
   "id": "bb1f4762",
   "metadata": {},
   "outputs": [],
   "source": [
    "cid_and_frequency_pairs_sorted = list(\n",
    "    sorted(cid_frequencies.items(),    # The .items() function of a dictionary returns an iterator over all key-value pairs\n",
    "           reverse=True,               # We still want to go from highest to lowest\n",
    "           key=lambda kv: kv[1]        # ...so we have to sort by the *value* part of the (key, value) pair.\n",
    "           )\n",
    "    )                                  # Finally, we turn the whole thing into a regular list,\n",
    "                                       # to not have to deal with some Python efficiency magic on sorted() and .items()."
   ]
  },
  {
   "cell_type": "code",
   "execution_count": 24,
   "id": "2a1d18b0",
   "metadata": {},
   "outputs": [
    {
     "data": {
      "text/plain": [
       "[('909000', 10207),\n",
       " ('g01278', 1221),\n",
       " ('008097', 1184),\n",
       " ('g01260', 1154),\n",
       " ('008414', 1139),\n",
       " ('008081', 1090),\n",
       " ('001328', 1024),\n",
       " ('008201', 1007),\n",
       " ('509501', 972),\n",
       " ('g00116', 954)]"
      ]
     },
     "execution_count": 24,
     "metadata": {},
     "output_type": "execute_result"
    }
   ],
   "source": [
    "# Look at top 10 most frequent Cantus IDs\n",
    "cid_and_frequency_pairs_sorted[:10]"
   ]
  },
  {
   "cell_type": "markdown",
   "id": "f8a70414",
   "metadata": {},
   "source": [
    "Ok, `909000` looks like a legitimate Cantus ID. What chant does it represent?"
   ]
  },
  {
   "cell_type": "code",
   "execution_count": 25,
   "id": "e2713a97",
   "metadata": {},
   "outputs": [],
   "source": [
    "chants_with_909000 = [c for c in cantuscorpus.chants if c.cantus_id == '909000']"
   ]
  },
  {
   "cell_type": "code",
   "execution_count": 29,
   "id": "9929aef5",
   "metadata": {},
   "outputs": [
    {
     "data": {
      "text/plain": [
       "'Gloria patri et filio et spiritus sancto'"
      ]
     },
     "execution_count": 29,
     "metadata": {},
     "output_type": "execute_result"
    }
   ],
   "source": [
    "chants_with_909000[0].full_text"
   ]
  },
  {
   "cell_type": "code",
   "execution_count": 36,
   "id": "cf7874ed",
   "metadata": {},
   "outputs": [
    {
     "data": {
      "text/plain": [
       "'Gloria patri et filio et spiritui sancto'"
      ]
     },
     "execution_count": 36,
     "metadata": {},
     "output_type": "execute_result"
    }
   ],
   "source": [
    "chants_with_909000[2330].full_text"
   ]
  },
  {
   "cell_type": "code",
   "execution_count": 33,
   "id": "8943b2e8",
   "metadata": {},
   "outputs": [
    {
     "data": {
      "text/plain": [
       "'Gloria patri*'"
      ]
     },
     "execution_count": 33,
     "metadata": {},
     "output_type": "execute_result"
    }
   ],
   "source": [
    "chants_with_909000[1000].full_text\n"
   ]
  },
  {
   "cell_type": "markdown",
   "id": "59f77054",
   "metadata": {},
   "source": [
    "It's the **doxology**!\n",
    "\n",
    "This is a great example of how the interaction between domain knowledge and computing skills is necessary. These are legitimate chant records: they have all the required information, they have a valid Cantus ID, they record what manuscript they come from, etc. So, those are not mistakes, in the sense in which the empty Cantus ID records were invalid.\n",
    "\n",
    "What to do? Should we actually treat this as the most frequent Cantus ID? Should it participate in computing the average number of chants per Cantus ID? (Incidentally, the invalid records with no Cantus ID participated in that average as well.)\n",
    "\n",
    "Here is where domain knowledge comes in. The doxology is the phrase:\n",
    "\n",
    "_'Gloria Patri et Filii et Spiritui Sancto_\n",
    "\n",
    "_sicut erat in principio et nunc et semper, et in saecula saeculorum. Amen.'_\n",
    "\n",
    "which is added at the end of every psalm, and into many other chants, esp. those genres that use psalm verses as their texts. The doxology is not recorded too often, but because it occurs so many times in liturgy, when scribal practices of a certain time and place included recording the doxology as a separate unit (even if just in some contexts), then its frequency skyrockets.\n",
    "\n",
    "So for the purpose of obtaining useful descriptive statistics, the doxology is not too helpful. Let's exclude it.\n",
    "\n",
    "We can implement this via filtration exclude values option:"
   ]
  },
  {
   "cell_type": "code",
   "execution_count": 37,
   "id": "ede61934",
   "metadata": {},
   "outputs": [],
   "source": [
    "from pycantus.filtration import Filter"
   ]
  },
  {
   "cell_type": "code",
   "execution_count": null,
   "id": "ac1b84b2",
   "metadata": {},
   "outputs": [
    {
     "ename": "AttributeError",
     "evalue": "'Filter' object has no attribute 'add_exclude_value'",
     "output_type": "error",
     "traceback": [
      "\u001b[31m---------------------------------------------------------------------------\u001b[39m",
      "\u001b[31mAttributeError\u001b[39m                            Traceback (most recent call last)",
      "\u001b[36mCell\u001b[39m\u001b[36m \u001b[39m\u001b[32mIn[38]\u001b[39m\u001b[32m, line 3\u001b[39m\n\u001b[32m      1\u001b[39m \u001b[38;5;66;03m# Prepare a filter that excludes the doxology: Cantus ID 909000\u001b[39;00m\n\u001b[32m      2\u001b[39m exclude_doxology_filter = Filter(\u001b[33m'\u001b[39m\u001b[33mexclude_doxology\u001b[39m\u001b[33m'\u001b[39m)\n\u001b[32m----> \u001b[39m\u001b[32m3\u001b[39m \u001b[43mexclude_doxology_filter\u001b[49m\u001b[43m.\u001b[49m\u001b[43madd_exclude_value\u001b[49m(\u001b[33m'\u001b[39m\u001b[33mcantus_id\u001b[39m\u001b[33m'\u001b[39m, \u001b[33m'\u001b[39m\u001b[33m909000\u001b[39m\u001b[33m'\u001b[39m)\n",
      "\u001b[31mAttributeError\u001b[39m: 'Filter' object has no attribute 'add_exclude_value'"
     ]
    }
   ],
   "source": [
    "# Prepare a filter that excludes the doxology: Cantus ID 909000\n",
    "exclude_doxology_filter = Filter('exclude_doxology')"
   ]
  },
  {
   "cell_type": "markdown",
   "id": "a5f3ca9e",
   "metadata": {},
   "source": [
    "## Sources\n",
    "Fragments vs more complete manuscripts\n",
    "\n",
    "Monastic vs Secular"
   ]
  },
  {
   "cell_type": "markdown",
   "id": "224fc557",
   "metadata": {},
   "source": [
    "### Size"
   ]
  },
  {
   "cell_type": "markdown",
   "id": "f5e75477",
   "metadata": {},
   "source": [
    "### Origin"
   ]
  },
  {
   "cell_type": "markdown",
   "id": "2538437f",
   "metadata": {},
   "source": [
    "## Chants"
   ]
  },
  {
   "cell_type": "markdown",
   "id": "cffdd878",
   "metadata": {},
   "source": [
    "### Genres\n",
    "Core ones for Office and for Mass"
   ]
  },
  {
   "cell_type": "code",
   "execution_count": null,
   "id": "7d965083",
   "metadata": {},
   "outputs": [],
   "source": [
    "GENRES_MASS_PROPERS = ['In', 'InV', 'Gr', 'GrV', 'Al', 'AlV', 'Of', 'OfV', 'Cm', 'CmV', 'Tc', 'TcV']\n",
    "GENRES_OFFICE = ['A', 'R', 'V', 'W', 'I']"
   ]
  },
  {
   "cell_type": "markdown",
   "id": "9e41f745",
   "metadata": {},
   "source": [
    "### Feasts\n",
    "Generally can be divided based on being in Sanctorale or Temporale. Even sources are sometimes divided like that - you cannot expect repertoire for First Sunday of Advent from a Sanctorale maniscript.  \n",
    "\n",
    "Local feasts can be tricky as they appearance as well as repertoire are influenced by local things, donators, etc."
   ]
  },
  {
   "cell_type": "markdown",
   "id": "64dbe512",
   "metadata": {},
   "source": [
    "## Melody\n",
    "Melodies are encoded in [volpiano]() (not true for neumes but these data are not in CantusCorpus).  \n",
    "For "
   ]
  },
  {
   "cell_type": "markdown",
   "id": "4d4e536f",
   "metadata": {},
   "source": [
    "## Known Problems and Troubles\n",
    "Refer to Harmonization issues in CantusCorpus v1.0 that describes some known troubles of individual data fields.\n",
    "\n",
    "Overall we can say that the \"troubleshooter\" is mainly nonunified practice of annotations.  \n",
    "That means two things:\n",
    "- annotating something differently (e.g. position of responsories in Matins: *9* vs *3.3*)\n",
    "- not annotating something (typical for sources fields, overview is provided in CantusCorpus v1.0 README)\n",
    "\n",
    "Also there are differences between sources from different times, specifically \"older\", \"middle mess\" and \"younger\" manuscripts where the \"mess\" is approximately 1250-1520 (meaning 13th and 14th century)."
   ]
  }
 ],
 "metadata": {
  "kernelspec": {
   "display_name": "myvenv",
   "language": "python",
   "name": "python3"
  },
  "language_info": {
   "codemirror_mode": {
    "name": "ipython",
    "version": 3
   },
   "file_extension": ".py",
   "mimetype": "text/x-python",
   "name": "python",
   "nbconvert_exporter": "python",
   "pygments_lexer": "ipython3",
   "version": "3.11.6"
  }
 },
 "nbformat": 4,
 "nbformat_minor": 5
}
