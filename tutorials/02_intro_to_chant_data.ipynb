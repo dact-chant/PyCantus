{
 "cells": [
  {
   "cell_type": "markdown",
   "id": "f1f81156",
   "metadata": {},
   "source": [
    "# Intro to work with chant data\n",
    "\n",
    "Cantus Index as big source - for CantusCorpus v1.0 also\n",
    "\n",
    "Structure of data derived from the database:\n",
    "\n",
    "![Chant cataloguing schema.](img/chant-cataloguing-schema.png)\n",
    "\n",
    "For structure of Chant and Source records refer to the Development documentation.  \n",
    "For gaining more knowledge about Gregorian chant data confront the Intro to chant in documentation.  \n",
    "Intro to structure of Cantus Database data can bring also documentation of [CantusCorpus](https://github.com/DvorakovaA/CantusCorpus) dataset."
   ]
  },
  {
   "cell_type": "code",
   "execution_count": 1,
   "id": "7295e078",
   "metadata": {},
   "outputs": [],
   "source": [
    "import pycantus\n",
    "import pycantus.data as data"
   ]
  },
  {
   "cell_type": "markdown",
   "id": "38edadfc",
   "metadata": {},
   "source": [
    "## Load data\n",
    "Load the full CantusCorpus v1.0 as one of the pycantus available datasets.  \n",
    "(If data files are not ready, pycantus will download them.)"
   ]
  },
  {
   "cell_type": "code",
   "execution_count": 62,
   "id": "921db720",
   "metadata": {},
   "outputs": [
    {
     "name": "stdout",
     "output_type": "stream",
     "text": [
      "Loading chants and sources...\n",
      "Creating missing sources...\n",
      "0 missing sources created!\n",
      "Data loaded!\n",
      "Number of chants before filtering: 888010\n"
     ]
    }
   ],
   "source": [
    "# Load the full CantusCorpus v1.0 dataset\n",
    "cantuscorpus = data.load_dataset('cantuscorpus_v1.0', load_editable=True, create_missing_sources=True)\n",
    "\n",
    "print(f'Number of chants before filtering: {len(cantuscorpus.chants)}')"
   ]
  },
  {
   "cell_type": "markdown",
   "id": "46806a43",
   "metadata": {},
   "source": [
    "Let's check how many chants exactly we got:"
   ]
  },
  {
   "cell_type": "code",
   "execution_count": 3,
   "id": "c34885d2",
   "metadata": {},
   "outputs": [
    {
     "name": "stdout",
     "output_type": "stream",
     "text": [
      "Number of chants in CantusCorpus v1.0: 888010\n"
     ]
    }
   ],
   "source": [
    "n_chants = len(cantuscorpus.chants)\n",
    "print(f'Number of chants in CantusCorpus v1.0: {n_chants}')"
   ]
  },
  {
   "cell_type": "markdown",
   "id": "a06c26de",
   "metadata": {},
   "source": [
    "And what information is available for each of the chants:"
   ]
  },
  {
   "cell_type": "code",
   "execution_count": 4,
   "id": "3520b5dc",
   "metadata": {},
   "outputs": [
    {
     "name": "stdout",
     "output_type": "stream",
     "text": [
      "Data fields in a chant record:\n",
      "  cantus_id\n",
      "  incipit\n",
      "  siglum\n",
      "  srclink\n",
      "  chantlink\n",
      "  folio\n",
      "  db\n",
      "  sequence\n",
      "  feast\n",
      "  genre\n",
      "  office\n",
      "  position\n",
      "  melody_id\n",
      "  image\n",
      "  mode\n",
      "  full_text\n",
      "  melody\n",
      "  century\n"
     ]
    }
   ],
   "source": [
    "print('Data fields in a chant record:')\n",
    "for field in cantuscorpus.chants[0].header().split(','):\n",
    "    print(' ', field)"
   ]
  },
  {
   "cell_type": "code",
   "execution_count": 5,
   "id": "5912191f",
   "metadata": {},
   "outputs": [
    {
     "name": "stdout",
     "output_type": "stream",
     "text": [
      "Data fields in a source record:\n",
      "  title\n",
      "  siglum\n",
      "  century\n",
      "  provenance\n",
      "  srclink\n",
      "  numeric_century\n",
      "  cursus\n"
     ]
    }
   ],
   "source": [
    "print('Data fields in a source record:')\n",
    "for field in cantuscorpus.sources[0].header().split(','):\n",
    "    print(' ', field)"
   ]
  },
  {
   "cell_type": "markdown",
   "id": "d78a5590",
   "metadata": {},
   "source": [
    "# Statistics\n",
    "Here we would like to inspect our dataset a bit."
   ]
  },
  {
   "cell_type": "markdown",
   "id": "96d1c153",
   "metadata": {},
   "source": [
    "We know we have catalogued this huge amount of chants, but many of these will be copies of the same repertoire across many manuscripts. So, how many distinct chants do we have in the catalogued repertoire?\n",
    "\n",
    "This can be done thanks to the essential Cantus ID mechanism. Instances of the same chant across different manuscripts have the same Cantus ID assigned."
   ]
  },
  {
   "cell_type": "code",
   "execution_count": 6,
   "id": "96ce674f",
   "metadata": {},
   "outputs": [
    {
     "name": "stdout",
     "output_type": "stream",
     "text": [
      "Number of distinct chants (by Cantus ID): 53282\n"
     ]
    }
   ],
   "source": [
    "all_cantus_ids = set(chant.cantus_id for chant in cantuscorpus.chants)\n",
    "print(f'Number of distinct chants (by Cantus ID): {len(all_cantus_ids)}')"
   ]
  },
  {
   "cell_type": "markdown",
   "id": "cfa69514",
   "metadata": {},
   "source": [
    "So on average, we can expect to see each Cantus ID:"
   ]
  },
  {
   "cell_type": "code",
   "execution_count": 7,
   "id": "336142c5",
   "metadata": {},
   "outputs": [
    {
     "data": {
      "text/plain": [
       "16.666228745167224"
      ]
     },
     "execution_count": 7,
     "metadata": {},
     "output_type": "execute_result"
    }
   ],
   "source": [
    "n_chants / len(all_cantus_ids)"
   ]
  },
  {
   "cell_type": "markdown",
   "id": "e321341c",
   "metadata": {},
   "source": [
    "But of course averages are not terribly informative. What we probably want to really know is the frequency profile of Cantus IDs: how many appear only once, how many appear twice, and how many are on the other hand of the spectrum, appearing tens or even hundreds of times."
   ]
  },
  {
   "cell_type": "code",
   "execution_count": 8,
   "id": "aa046925",
   "metadata": {},
   "outputs": [],
   "source": [
    "def cantus_id_frequencies(corpus):\n",
    "    cid_frequencies = {}\n",
    "    for chant in corpus.chants:\n",
    "        cid = chant.cantus_id\n",
    "        # If this is the first time we see this cid, initialize its count to zero\n",
    "        if cid not in cid_frequencies:\n",
    "            cid_frequencies[cid] = 0\n",
    "        # '+=' means 'add and modify original'. \n",
    "        # It's shorthand for cid_frequencies[cid] = cid_frequencies[cid] + 1\n",
    "        cid_frequencies[cid] += 1 \n",
    "    return cid_frequencies"
   ]
  },
  {
   "cell_type": "code",
   "execution_count": 9,
   "id": "0d9de0f0",
   "metadata": {},
   "outputs": [],
   "source": [
    "cc_cid_frequencies = cantus_id_frequencies(cantuscorpus)"
   ]
  },
  {
   "cell_type": "markdown",
   "id": "651055a0",
   "metadata": {},
   "source": [
    "**Visualisation.**\n",
    "\n",
    "Now we know how often each Cantus ID appeared in the dataset, but printing a dictionary of 31,000+ entries is also not helpful. But what we can do is visualise.\n",
    "\n",
    "For this, the `matplotlib` library is the most widespread and best-documented for Python.\n",
    "\n",
    "(Generally when you need to pick a library out of several choices that all support the features you require, go for the one that is most widely used. When you encounter some issue, the more users a library has, the more likely it is that someony has already had that issue and got it resolved, either through StackOverflow or some other publicly available forum.)"
   ]
  },
  {
   "cell_type": "code",
   "execution_count": 10,
   "id": "9d453856",
   "metadata": {},
   "outputs": [],
   "source": [
    "import matplotlib.pyplot as plt\n",
    "# This is a magical shortcut for making sure the visualisatons will be plotted nicely directly in the notebook:\n",
    "%matplotlib inline"
   ]
  },
  {
   "cell_type": "markdown",
   "id": "9efed393",
   "metadata": {},
   "source": [
    "Let's just plot the Cantus ID frequencies, sorted from highest to lowest."
   ]
  },
  {
   "cell_type": "code",
   "execution_count": 11,
   "id": "ca88016c",
   "metadata": {},
   "outputs": [
    {
     "data": {
      "image/png": "[encoded data removed]",
      "text/plain": [
       "<Figure size 640x480 with 1 Axes>"
      ]
     },
     "metadata": {},
     "output_type": "display_data"
    }
   ],
   "source": [
    "cid_frequencies_sorted = list(sorted(cc_cid_frequencies.values(), reverse=True))  # sorted() by default goes from lowest to highest\n",
    "\n",
    "plt.plot(cid_frequencies_sorted)\n",
    "plt.xlabel('n-th largest Cantus ID')   # Best practice: always label both axes.\n",
    "plt.ylabel('Number of Cantus ID occurrences')\n",
    "plt.show()"
   ]
  },
  {
   "cell_type": "markdown",
   "id": "2f5efbf6",
   "metadata": {},
   "source": [
    "Ok, this is also not very helpful.  \n",
    "The most frequent Cantus ID occurred more than 10000 times, which makes the rest of the plot rather uninformative.  \n",
    "  \n",
    "Let's see the highest-frequency values."
   ]
  },
  {
   "cell_type": "code",
   "execution_count": 12,
   "id": "bb1f4762",
   "metadata": {},
   "outputs": [],
   "source": [
    "cid_and_frequency_pairs_sorted = list(\n",
    "    sorted(cc_cid_frequencies.items(),    # The .items() function of a dictionary returns an iterator over all key-value pairs\n",
    "           reverse=True,               # We still want to go from highest to lowest\n",
    "           key=lambda kv: kv[1]        # ...so we have to sort by the *value* part of the (key, value) pair.\n",
    "           )\n",
    "    )                                  # Finally, we turn the whole thing into a regular list,\n",
    "                                       # to not have to deal with some Python efficiency magic on sorted() and .items()."
   ]
  },
  {
   "cell_type": "code",
   "execution_count": 13,
   "id": "2a1d18b0",
   "metadata": {},
   "outputs": [
    {
     "data": {
      "text/plain": [
       "[('909000', 10207),\n",
       " ('g01278', 1221),\n",
       " ('008097', 1184),\n",
       " ('g01260', 1154),\n",
       " ('008414', 1139),\n",
       " ('008081', 1090),\n",
       " ('001328', 1024),\n",
       " ('008201', 1007),\n",
       " ('509501', 972),\n",
       " ('g00116', 954)]"
      ]
     },
     "execution_count": 13,
     "metadata": {},
     "output_type": "execute_result"
    }
   ],
   "source": [
    "# Look at top 10 most frequent Cantus IDs\n",
    "cid_and_frequency_pairs_sorted[:10]"
   ]
  },
  {
   "cell_type": "markdown",
   "id": "f8a70414",
   "metadata": {},
   "source": [
    "Ok, `909000` looks like a legitimate Cantus ID. What chant does it represent?"
   ]
  },
  {
   "cell_type": "code",
   "execution_count": 14,
   "id": "e2713a97",
   "metadata": {},
   "outputs": [],
   "source": [
    "chants_with_909000 = [c for c in cantuscorpus.chants if c.cantus_id == '909000']"
   ]
  },
  {
   "cell_type": "code",
   "execution_count": 15,
   "id": "9929aef5",
   "metadata": {},
   "outputs": [
    {
     "name": "stdout",
     "output_type": "stream",
     "text": [
      "Gloria patri et filio et\n",
      "  Cantus ID: 909000\n",
      "  Genre: V\n",
      "  Office: M\n",
      "  Chantlink: https://cantusdatabase.org/chant/243163\n",
      "  Feast: Dom. 1 Adventus\n",
      "  Source: A-Gu 29\n",
      "  Srclink: https://cantusdatabase.org/source/123610\n",
      "\n",
      "Gloria patri et filio et spiritus sancto\n"
     ]
    }
   ],
   "source": [
    "print(chants_with_909000[0])\n",
    "print(chants_with_909000[0].full_text)"
   ]
  },
  {
   "cell_type": "code",
   "execution_count": 16,
   "id": "cf7874ed",
   "metadata": {},
   "outputs": [
    {
     "name": "stdout",
     "output_type": "stream",
     "text": [
      "Gloria patri et filio et spiritui \n",
      "  Cantus ID: 909000\n",
      "  Genre: V\n",
      "  Office: M\n",
      "  Chantlink: https://cantusbohemiae.cz/chant/17713\n",
      "  Feast: Margaritae\n",
      "  Source: CZ-R (Rajhrad) R 17\n",
      "  Srclink: https://cantusbohemiae.cz/source/2161\n",
      "\n",
      "Gloria patri et filio et spiritui sancto\n"
     ]
    }
   ],
   "source": [
    "print(chants_with_909000[2330])\n",
    "print(chants_with_909000[2330].full_text)"
   ]
  },
  {
   "cell_type": "code",
   "execution_count": 17,
   "id": "8943b2e8",
   "metadata": {},
   "outputs": [
    {
     "name": "stdout",
     "output_type": "stream",
     "text": [
      "Gloria patri*\n",
      "  Cantus ID: 909000\n",
      "  Genre: V\n",
      "  Office: V\n",
      "  Chantlink: https://cantusdatabase.org/chant/547675\n",
      "  Feast: Comm. unius Confessoris non Pontificis\n",
      "  Source: A-Wn 1799**\n",
      "  Srclink: https://cantusdatabase.org/source/123667\n",
      "\n",
      "Gloria patri*\n"
     ]
    }
   ],
   "source": [
    "print(chants_with_909000[1000])\n",
    "print(chants_with_909000[1000].full_text)\n"
   ]
  },
  {
   "cell_type": "markdown",
   "id": "59f77054",
   "metadata": {},
   "source": [
    "It's the **doxology**!\n",
    "\n",
    "This is a great example of how the interaction between domain knowledge and computing skills is necessary. These are legitimate chant records: they have all the required information, they have a valid Cantus ID, they record what manuscript they come from, etc. So, those are not mistakes, in the sense in which the empty Cantus ID records were invalid.\n",
    "\n",
    "What to do? Should we actually treat this as the most frequent Cantus ID? Should it participate in computing the average number of chants per Cantus ID? (Incidentally, the invalid records with no Cantus ID participated in that average as well.)\n",
    "\n",
    "Here is where domain knowledge comes in. The doxology is the phrase:\n",
    "\n",
    "_'Gloria Patri et Filii et Spiritui Sancto_\n",
    "\n",
    "_sicut erat in principio et nunc et semper, et in saecula saeculorum. Amen.'_\n",
    "\n",
    "which is added at the end of every psalm, and into many other chants, esp. those genres that use psalm verses as their texts. The doxology is not recorded too often, but because it occurs so many times in liturgy, when scribal practices of a certain time and place included recording the doxology as a separate unit (even if just in some contexts), then its frequency skyrockets.\n",
    "\n",
    "So for the purpose of obtaining useful descriptive statistics, the doxology is not too helpful. Let's exclude it.\n",
    "\n",
    "We can implement this via filtration exclude values option:"
   ]
  },
  {
   "cell_type": "code",
   "execution_count": 18,
   "id": "ede61934",
   "metadata": {},
   "outputs": [],
   "source": [
    "from pycantus.filtration import Filter\n",
    "import copy"
   ]
  },
  {
   "cell_type": "code",
   "execution_count": 19,
   "id": "ac1b84b2",
   "metadata": {},
   "outputs": [
    {
     "name": "stdout",
     "output_type": "stream",
     "text": [
      "Number of chants after filtering doxology out: 888010\n"
     ]
    }
   ],
   "source": [
    "# Prepare a filter that excludes the doxology: Cantus ID 909000\n",
    "exclude_doxology_filter = Filter('exclude_doxology')\n",
    "exclude_doxology_filter.add_value_exclude('cantus_id', '909000')\n",
    "cantuscorpus_no_dox = copy.copy(cantuscorpus)  # Make a copy of the original corpus, to not modify it\n",
    "cantuscorpus_no_dox.apply_filter(exclude_doxology_filter)\n",
    "print(f'Number of chants after filtering doxology out: {len(cantuscorpus.chants)}')"
   ]
  },
  {
   "cell_type": "markdown",
   "id": "6ff52bb9",
   "metadata": {},
   "source": [
    "Now let's redo the statistics:"
   ]
  },
  {
   "cell_type": "code",
   "execution_count": 20,
   "id": "09671847",
   "metadata": {},
   "outputs": [
    {
     "name": "stdout",
     "output_type": "stream",
     "text": [
      "Number of distinct chants (by Cantus ID): 53281\n"
     ]
    }
   ],
   "source": [
    "all_cantus_ids_no_dox = set(chant.cantus_id for chant in cantuscorpus_no_dox.chants)\n",
    "print(f'Number of distinct chants (by Cantus ID): {len(all_cantus_ids_no_dox)}')"
   ]
  },
  {
   "cell_type": "code",
   "execution_count": 21,
   "id": "e7e0a2db",
   "metadata": {},
   "outputs": [
    {
     "data": {
      "text/plain": [
       "16.47497231658565"
      ]
     },
     "execution_count": 21,
     "metadata": {},
     "output_type": "execute_result"
    }
   ],
   "source": [
    "len(cantuscorpus_no_dox.chants) / len(all_cantus_ids_no_dox)"
   ]
  },
  {
   "cell_type": "code",
   "execution_count": 22,
   "id": "8a7a6913",
   "metadata": {},
   "outputs": [],
   "source": [
    "cc_no_dox_frequencies = cantus_id_frequencies(cantuscorpus_no_dox)"
   ]
  },
  {
   "cell_type": "code",
   "execution_count": 23,
   "id": "ce3836ac",
   "metadata": {},
   "outputs": [
    {
     "data": {
      "image/png": "[encoded data removed]",
      "text/plain": [
       "<Figure size 640x480 with 1 Axes>"
      ]
     },
     "metadata": {},
     "output_type": "display_data"
    }
   ],
   "source": [
    "cc_no_dox_frequencies_sorted = list(sorted(cc_no_dox_frequencies.values(), reverse=True))  # sorted() by default goes from lowest to highest\n",
    "\n",
    "plt.plot(cc_no_dox_frequencies_sorted)\n",
    "plt.xlabel('n-th largest Cantus ID')   # Best practice: always label both axes.\n",
    "plt.ylabel('Number of Cantus ID occurrences')\n",
    "plt.show()"
   ]
  },
  {
   "cell_type": "markdown",
   "id": "8ba2ccef",
   "metadata": {},
   "source": [
    "These are suddenly more reasonable numbers! We know that the CantusCorpus contains some hundred sources, and some very frequent chants can occur multiple times within a source, so having some very small number of chants that have frequencies like 800 or even 1200 is probably not a mistake or not something strange that would require excluding the Cantus ID.  \n",
    "  \n",
    "But we should certainly check again, just to be sure!\n",
    "  \n",
    "Let's re-compute the list of most frequent Cantus IDs and their frequencies:"
   ]
  },
  {
   "cell_type": "code",
   "execution_count": 24,
   "id": "f564e4df",
   "metadata": {},
   "outputs": [],
   "source": [
    "cid_and_frequency_no_dox_pairs_sorted = list(\n",
    "    sorted(cc_no_dox_frequencies.items(),    # The .items() function of a dictionary returns an iterator over all key-value pairs\n",
    "           reverse=True,               # We still want to go from highest to lowest\n",
    "           key=lambda kv: kv[1]        # ...so we have to sort by the *value* part of the (key, value) pair.\n",
    "           )\n",
    "    )                                  # Finally, we turn the whole thing into a regular list,\n",
    "                                       # to not have to deal with some Python efficiency magic on sorted() and .items()."
   ]
  },
  {
   "cell_type": "code",
   "execution_count": 25,
   "id": "9645389e",
   "metadata": {},
   "outputs": [
    {
     "data": {
      "text/plain": [
       "[('g01278', 1221),\n",
       " ('008097', 1184),\n",
       " ('g01260', 1154),\n",
       " ('008414', 1139),\n",
       " ('008081', 1090),\n",
       " ('001328', 1024),\n",
       " ('008201', 1007),\n",
       " ('509501', 972),\n",
       " ('g00116', 954),\n",
       " ('008014', 952)]"
      ]
     },
     "execution_count": 25,
     "metadata": {},
     "output_type": "execute_result"
    }
   ],
   "source": [
    "cid_and_frequency_no_dox_pairs_sorted[:10]"
   ]
  },
  {
   "cell_type": "markdown",
   "id": "72f48bff",
   "metadata": {},
   "source": [
    "Ok, let's see what we got here now:"
   ]
  },
  {
   "cell_type": "code",
   "execution_count": 26,
   "id": "2fcb64d3",
   "metadata": {},
   "outputs": [],
   "source": [
    "chants_with_g01278 = [c for c in cantuscorpus_no_dox.chants if c.cantus_id == 'g01260']"
   ]
  },
  {
   "cell_type": "code",
   "execution_count": 27,
   "id": "a81c2ca8",
   "metadata": {},
   "outputs": [
    {
     "name": "stdout",
     "output_type": "stream",
     "text": [
      "Gloria et honore *\n",
      "  Cantus ID: g01260\n",
      "  Genre: Of\n",
      "  Office: MASS\n",
      "  Chantlink: http://musmed.eu/chant/204540\n",
      "  Feast: Adriani\n",
      "  Source: A-A Cod. 786\n",
      "  Srclink: http://musmed.eu/source/98938\n",
      "\n",
      "Gloria et honore *\n",
      "  Cantus ID: g01260\n",
      "  Genre: Of\n",
      "  Office: MASS\n",
      "  Chantlink: http://musmed.eu/chant/217120\n",
      "  Feast: None\n",
      "  Source: CH-SGs Cod 0376\n",
      "  Srclink: http://musmed.eu/source/14288\n",
      "\n",
      "Gloria et honore*\n",
      "  Cantus ID: g01260\n",
      "  Genre: Of\n",
      "  Office: MASS\n",
      "  Chantlink: https://pemdatabase.eu/musical-item/74592\n",
      "  Feast: Comm. unius Martyris\n",
      "  Source: E-SAu (Salamanca) Universidad, Archivo y Biblioteca Ms 2637\n",
      "  Srclink: https://pemdatabase.eu/source/48357\n",
      "\n"
     ]
    }
   ],
   "source": [
    "print(chants_with_g01278[0])\n",
    "print(chants_with_g01278[180])\n",
    "print(chants_with_g01278[432])"
   ]
  },
  {
   "cell_type": "markdown",
   "id": "fdfd2ae7",
   "metadata": {},
   "source": [
    "If we inspect Cantus Index, this looks like very common Offertory for all kinds of feasts.  \n",
    "For us it means it is just very frequent chant, but not such \"anomaly\" as doxology, and so we want to keep it."
   ]
  },
  {
   "cell_type": "markdown",
   "id": "c4f0addf",
   "metadata": {},
   "source": [
    "Let's look at another, this time CAO and Office, chant in the list: `008097`"
   ]
  },
  {
   "cell_type": "code",
   "execution_count": 28,
   "id": "80372af3",
   "metadata": {},
   "outputs": [],
   "source": [
    "chants_with_008097 = [c for c in cantuscorpus_no_dox.chants if c.cantus_id == '008097']\n"
   ]
  },
  {
   "cell_type": "code",
   "execution_count": 29,
   "id": "a96b3cdf",
   "metadata": {},
   "outputs": [
    {
     "name": "stdout",
     "output_type": "stream",
     "text": [
      "In omnem terram*\n",
      "  Cantus ID: 008097\n",
      "  Genre: W\n",
      "  Office: V2\n",
      "  Chantlink: https://cantusdatabase.org/chant/245357\n",
      "  Feast: Andreae\n",
      "  Source: A-Gu 29\n",
      "  Srclink: https://cantusdatabase.org/source/123610\n",
      "\n",
      "In omnem terram*\n",
      "  Cantus ID: 008097\n",
      "  Genre: W\n",
      "  Office: M\n",
      "  Chantlink: https://cantusbohemiae.cz/chant/38748\n",
      "  Feast: Matthaei\n",
      "  Source: CZ-Pn (Praha) XII A 21\n",
      "  Srclink: https://cantusbohemiae.cz/source/37034\n",
      "\n",
      "In omnem terram*\n",
      "  Cantus ID: 008097\n",
      "  Genre: W\n",
      "  Office: V2\n",
      "  Chantlink: http://musmed.eu/chant/35775\n",
      "  Feast: Conversio Pauli\n",
      "  Source: F-CH Ms 0050\n",
      "  Srclink: http://musmed.eu/source/23756\n",
      "\n"
     ]
    }
   ],
   "source": [
    "print(chants_with_008097[0])\n",
    "print(chants_with_008097[180])\n",
    "print(chants_with_008097[432])"
   ]
  },
  {
   "cell_type": "markdown",
   "id": "ca0d0a20",
   "metadata": {},
   "source": [
    "If we check this with Cantus Index (looking at concordances of `008097`), it turns out that this is a versicle (genre: `W`) for the Divine Office when there is a feast scheduled in the liturgical calendar that has something to do with an apostle (Peter, John, Mark, Thomas, etc.). No wonder that it is very frequent. But this is no anomaly. It should stay in the database."
   ]
  },
  {
   "cell_type": "markdown",
   "id": "1031f6cc",
   "metadata": {},
   "source": [
    "Let's plot the result once more to remind us what the distribution of Cantus IDs is like:"
   ]
  },
  {
   "cell_type": "code",
   "execution_count": 30,
   "id": "7ef7914b",
   "metadata": {},
   "outputs": [
    {
     "data": {
      "image/png": "[encoded data removed]",
      "text/plain": [
       "<Figure size 640x480 with 1 Axes>"
      ]
     },
     "metadata": {},
     "output_type": "display_data"
    }
   ],
   "source": [
    "plt.plot(cc_no_dox_frequencies_sorted)\n",
    "plt.xlabel('n-th largest Cantus ID')   # Best practice: always label both axes.\n",
    "plt.ylabel('Number of Cantus ID occurrences')\n",
    "plt.show()"
   ]
  },
  {
   "cell_type": "markdown",
   "id": "0007dc88",
   "metadata": {},
   "source": [
    "Finally we might want to have a look at sizes of the source databases:  \n",
    "(Although the output is not aligned well...)"
   ]
  },
  {
   "cell_type": "code",
   "execution_count": 31,
   "id": "18336503",
   "metadata": {},
   "outputs": [
    {
     "name": "stdout",
     "output_type": "stream",
     "text": [
      "Distribution of chants by database:\n",
      " CD:\t 429982\n",
      " MMMO:\t 212231\n",
      " SEMM:\t 104678\n",
      " FCB:\t 36103\n",
      " PEM:\t 32738\n",
      " CPL:\t 30433\n",
      " CSK:\t 22539\n",
      " HCD:\t 11278\n",
      " HYM:\t 5290\n",
      " A4M:\t 2738\n"
     ]
    }
   ],
   "source": [
    "distribution_by_db = {}\n",
    "for db in set(c.db for c in cantuscorpus.chants):\n",
    "    distribution_by_db[db] = len([c for c in cantuscorpus.chants if c.db == db])\n",
    "\n",
    "# Sort the items by count, highest first\n",
    "distribution_by_db_sorted = list(\n",
    "    sorted(distribution_by_db.items(),\n",
    "           reverse=True,\n",
    "           key=lambda kv: kv[1]\n",
    "           )\n",
    "    )\n",
    "\n",
    "print('Distribution of chants by database:')\n",
    "for db, count in distribution_by_db_sorted:\n",
    "    print(f' {db}:\\t {count}')"
   ]
  },
  {
   "cell_type": "markdown",
   "id": "2441a263",
   "metadata": {},
   "source": [
    "And it come with not a big surprise that the oldest of them, Cantus Database, is by a big difference also the biggest."
   ]
  },
  {
   "cell_type": "markdown",
   "id": "310be949",
   "metadata": {},
   "source": [
    "# Description of selected fields and their potential problems"
   ]
  },
  {
   "cell_type": "markdown",
   "id": "a5f3ca9e",
   "metadata": {},
   "source": [
    "## Sources\n",
    "There are many possible divisions of liturgical book such as Temporale and Sanctorale, or Antiphoners (and notated Breviaries) and Graduals (and notated Missals), winter or summer book etc.  \n",
    "But since information about sources was collected directly from individual database websites, the available information is limited by the shared availability of individual data fields.  \n"
   ]
  },
  {
   "cell_type": "markdown",
   "id": "224fc557",
   "metadata": {},
   "source": [
    "### Size\n",
    "Looking at number of chants in manuscript (source) and thinking \"this is little\" can mean few different things:\n",
    "- fragment (sometimes fragments of one book are even indexed separately)\n",
    "- incomplete indexation of manuscript (somebody is not finished with indexation of that piece)\n",
    "  \n",
    "Usually we do not want to work with fragments, but for some applications it can be enough that e.g. full office for some feast is present. That leads to different sequence of operations on Corpus:  \n",
    "1. We want to avoid fragments"
   ]
  },
  {
   "cell_type": "code",
   "execution_count": 32,
   "id": "d3b9bf72",
   "metadata": {},
   "outputs": [
    {
     "name": "stdout",
     "output_type": "stream",
     "text": [
      "Number of all sources in CantusCorpus v1.0: 2278\n",
      "Number of sources in my_corpus1 after dropping fragments (<100 chants): 510\n",
      "Number of chants in my_corpus1: 1318\n",
      "Number of sources in my_corpus1: 169\n"
     ]
    }
   ],
   "source": [
    "print(f'Number of all sources in CantusCorpus v1.0: {len(cantuscorpus.sources)}')\n",
    "my_corpus1 = copy.copy(cantuscorpus)\n",
    "my_corpus1.drop_small_sources_data(min_chants=100) # avoid fragments\n",
    "print(f'Number of sources in my_corpus1 after dropping fragments (<100 chants): {len(my_corpus1.sources)}')\n",
    "my_filter = Filter('my_filter')\n",
    "my_filter.add_value_include('feast', 'Silvestri') # focus on Adalberti feast\n",
    "my_corpus1.apply_filter(my_filter)\n",
    "my_corpus1.drop_empty_sources()\n",
    "\n",
    "print(f'Number of chants in my_corpus1: {len(my_corpus1.chants)}')\n",
    "print(f'Number of sources in my_corpus1: {len(my_corpus1.sources)}')"
   ]
  },
  {
   "cell_type": "markdown",
   "id": "dd2640f0",
   "metadata": {},
   "source": [
    "\n",
    "2. We want to keep as many Silvestri chants as possible"
   ]
  },
  {
   "cell_type": "code",
   "execution_count": 33,
   "id": "4d186dab",
   "metadata": {},
   "outputs": [
    {
     "name": "stdout",
     "output_type": "stream",
     "text": [
      "Number of sources in my_corpus2 after filtrating Silvestri and dropping empty sources: 172\n",
      "Number of chants in my_corpus2: 1338\n",
      "Number of sources in my_corpus2: 172\n"
     ]
    }
   ],
   "source": [
    "my_corpus2 = copy.copy(cantuscorpus)\n",
    "my_filter = Filter('my_filter')\n",
    "my_filter.add_value_include('feast', 'Silvestri')\n",
    "my_corpus2.apply_filter(my_filter)\n",
    "my_corpus2.drop_empty_sources()\n",
    "print(f'Number of sources in my_corpus2 after filtrating Silvestri and dropping empty sources: {len(my_corpus2.sources)}')\n",
    "my_corpus2.drop_small_sources_data(min_chants=1)\n",
    "\n",
    "print(f'Number of chants in my_corpus2: {len(my_corpus2.chants)}')\n",
    "print(f'Number of sources in my_corpus2: {len(my_corpus2.sources)}')"
   ]
  },
  {
   "cell_type": "code",
   "execution_count": 34,
   "id": "cacaa2d1",
   "metadata": {},
   "outputs": [
    {
     "name": "stdout",
     "output_type": "stream",
     "text": [
      "Number of common chants in my_corpus1 and my_corpus2: 1318\n"
     ]
    }
   ],
   "source": [
    "common_chants = len(set(chant.chantlink for chant in my_corpus1.chants).intersection(set(chant.chantlink for chant in my_corpus2.chants)))\n",
    "print(f'Number of common chants in my_corpus1 and my_corpus2: {common_chants}')"
   ]
  },
  {
   "cell_type": "markdown",
   "id": "71b47c40",
   "metadata": {},
   "source": [
    "Which is the number of chants in `my_corpus1` ..."
   ]
  },
  {
   "cell_type": "markdown",
   "id": "4cd7f18d",
   "metadata": {},
   "source": [
    "### Place of Origin\n",
    "By place of origin we mean value of field `provenance`.  \n",
    "  \n",
    "This field has no standardization even within some databases, and so between . And by lack of standardization not only different spelling or language (`Londres`, `St. Martial` vs `St-Martial`) is meant but also different granularity (`Germany` vs `Barcelona` vs `Monasterio de Santa Cruz de la Serós (Huesca)`) or type of value (`Franciscan`).\n",
    "  \n",
    "So working with place of origin can be very tricky.  \n",
    "  \n",
    "Part of this work was underwent in development of ChantMapper tool ([github](https://github.com/DvorakovaA/ChantMapper/), see `geography_data.csv` and `provenance_ids.csv` data files), where coordinates were assigned to part of the values from the provenance field as well as some same places were unified with `provenance_id` identifier."
   ]
  },
  {
   "cell_type": "markdown",
   "id": "6e3d28fd",
   "metadata": {},
   "source": [
    "To illustrate this on our data let's look at sources coming from Czech database FCB:"
   ]
  },
  {
   "cell_type": "code",
   "execution_count": 35,
   "id": "f454028b",
   "metadata": {},
   "outputs": [
    {
     "name": "stdout",
     "output_type": "stream",
     "text": [
      "Number of chants in cantuscorpus_czech: 36103\n",
      "Number of sources in cantuscorpus_czech: 30\n"
     ]
    }
   ],
   "source": [
    "czech_filter = Filter('czech_filter')\n",
    "czech_filter.add_value_include('db', 'FCB') # FCB = Fontes Cantus Bohemiae\n",
    "cantuscorpus_czech = copy.copy(cantuscorpus)\n",
    "cantuscorpus_czech.apply_filter(czech_filter)\n",
    "cantuscorpus_czech.drop_empty_sources()\n",
    "print(f'Number of chants in cantuscorpus_czech: {len(cantuscorpus_czech.chants)}')\n",
    "print(f'Number of sources in cantuscorpus_czech: {len(cantuscorpus_czech.sources)}')"
   ]
  },
  {
   "cell_type": "code",
   "execution_count": 36,
   "id": "d2066eb5",
   "metadata": {},
   "outputs": [
    {
     "name": "stdout",
     "output_type": "stream",
     "text": [
      "Number of distinct provenances in cantuscorpus_czech: 13\n",
      "Provenances:\n",
      "  Bohemia\n",
      "  Bohemia (Prague?)\n",
      "  Břevnov monastery\n",
      "  Kolín\n",
      "  Moravia\n",
      "  Pilsen\n",
      "  Prague\n",
      "  Prague (?)\n",
      "  Praha, klášter sv. Jiří\n",
      "  Rajhrad\n",
      "  St George's Convent in Prague\n",
      "  St George's Convent in Prague (?)\n",
      "  St George's convent in Prague\n"
     ]
    }
   ],
   "source": [
    "czech_provenances = set(source.provenance for source in cantuscorpus_czech.sources if source.provenance is not None)\n",
    "print(f'Number of distinct provenances in cantuscorpus_czech: {len(czech_provenances)}')\n",
    "print('Provenances:')\n",
    "for prov in sorted(list(czech_provenances)):\n",
    "    print(' ', prov)"
   ]
  },
  {
   "cell_type": "markdown",
   "id": "a2cff584",
   "metadata": {},
   "source": [
    "Which is as we hope illustrative example on how one institution can be described with three (four) different strings even within one database."
   ]
  },
  {
   "cell_type": "markdown",
   "id": "f5e75477",
   "metadata": {},
   "source": [
    "### Institution of Origin\n",
    "By this is meant field `cursus` with granularity of institution type:  \n",
    "`Monastic` (used in monastery, written for monastery)   \n",
    "or  \n",
    "`Secular` (for church, cathedral etc.)\n",
    "\n",
    "Unfortunately not always indexed and so incomplete field.  \n",
    "Plus also values `cathedral` or `Romanum` (technically meaning the same as Secular) can be present."
   ]
  },
  {
   "cell_type": "code",
   "execution_count": 37,
   "id": "164dbe16",
   "metadata": {},
   "outputs": [
    {
     "name": "stdout",
     "output_type": "stream",
     "text": [
      "Number of distinct cursus values in cantuscorpus: 5\n",
      "Cursus values:\n",
      "  Monastic\n",
      "  Romanum\n",
      "  Secular\n",
      "  cathedral\n",
      "  unknown\n"
     ]
    }
   ],
   "source": [
    "cursus_values = set(source.cursus for source in cantuscorpus.sources if source.cursus is not None)\n",
    "print(f'Number of distinct cursus values in cantuscorpus: {len(cursus_values)}')\n",
    "print('Cursus values:')\n",
    "for cur in sorted(list(cursus_values)):\n",
    "    print(' ', cur)"
   ]
  },
  {
   "cell_type": "markdown",
   "id": "f58def1d",
   "metadata": {},
   "source": [
    "Now let's inspect how frequent it is, that cursus value is present for source:"
   ]
  },
  {
   "cell_type": "code",
   "execution_count": 79,
   "id": "d07e221b",
   "metadata": {},
   "outputs": [
    {
     "name": "stdout",
     "output_type": "stream",
     "text": [
      "Number of sources in CantusCorpus v1.0: 2278\n",
      "Specified cursus values distribution:\n",
      " Secular:\t 196\n",
      " Monastic:\t 86\n",
      " cathedral:\t 49\n",
      " unknown:\t 35\n",
      " Romanum:\t 14\n",
      "Sources with unspecified cursus: 1898\n"
     ]
    }
   ],
   "source": [
    "print(f'Number of sources in CantusCorpus v1.0: {len(cantuscorpus.sources)}')\n",
    "\n",
    "distribution_by_cursus = {}\n",
    "for cur in cursus_values:\n",
    "    distribution_by_cursus[cur] = len([s for s in cantuscorpus.sources if s.cursus == cur])\n",
    "\n",
    "total_values = sum(distribution_by_cursus.values())\n",
    "print('Specified cursus values distribution:')\n",
    "for cur, count in sorted(distribution_by_cursus.items(), key=lambda kv: kv[1], reverse=True):\n",
    "    print(f' {cur}:\\t {count}')\n",
    "\n",
    "print('Sources with unspecified cursus:', len(cantuscorpus.sources) - total_values)\n"
   ]
  },
  {
   "cell_type": "markdown",
   "id": "df1f2e9d",
   "metadata": {},
   "source": [
    "Well, unfortunately not very frequent."
   ]
  },
  {
   "cell_type": "markdown",
   "id": "0a9a19a5",
   "metadata": {},
   "source": [
    "**What differences does this bring?**  \n",
    "Well, in Divine Office the structure of some services (offices) may vary depending on whether they are used in monasteries or in churches, e.g. Matins are \"richer\" in monastic cursus - having more responsories and antiphons. So comparing sources of different origin can show differences that are not really a discovery, but just reflects intended usage."
   ]
  },
  {
   "cell_type": "code",
   "execution_count": 38,
   "id": "f669e1e4",
   "metadata": {},
   "outputs": [
    {
     "name": "stdout",
     "output_type": "stream",
     "text": [
      "Number of chants in XII_A_21 for Matins of Visitatio Marie: 31\n"
     ]
    }
   ],
   "source": [
    "# CZ-Pn (Praha) XII A 21 - Secular cursus https://cantusbohemiae.cz/source/37034\n",
    "XII_A_21_filter = Filter('XII_A_21_filter')\n",
    "XII_A_21_filter.add_value_include('srclink', 'https://cantusbohemiae.cz/source/37034')\n",
    "XII_A_21_filter.add_value_include('feast', 'Visitatio Mariae')\n",
    "XII_A_21_filter.add_value_include('office', 'M')\n",
    "XII_A_21 = copy.copy(cantuscorpus)\n",
    "XII_A_21.apply_filter(XII_A_21_filter)\n",
    "print(f'Number of chants in XII_A_21 for Matins of Visitatio Marie: {len(XII_A_21.chants)}')"
   ]
  },
  {
   "cell_type": "code",
   "execution_count": 39,
   "id": "a40c29f2",
   "metadata": {},
   "outputs": [
    {
     "name": "stdout",
     "output_type": "stream",
     "text": [
      "Number of chants in VI_G_3a for matins in Visitatio Mariae: 40\n"
     ]
    }
   ],
   "source": [
    "# CZ-Pu (Praha) VI G 3a - Monastic cursus https://cantusbohemiae.cz/source/9147\n",
    "VI_G_3a_filter = Filter('VI_G_3a_filter')\n",
    "VI_G_3a_filter.add_value_include('srclink', 'https://cantusbohemiae.cz/source/9147')\n",
    "VI_G_3a_filter.add_value_include('feast', 'Visitatio Mariae')\n",
    "VI_G_3a_filter.add_value_include('office', 'M')\n",
    "VI_G_3a = copy.copy(cantuscorpus)\n",
    "VI_G_3a.apply_filter(VI_G_3a_filter)\n",
    "print(f'Number of chants in VI_G_3a for matins in Visitatio Mariae: {len(VI_G_3a.chants)}')"
   ]
  },
  {
   "cell_type": "code",
   "execution_count": 40,
   "id": "63d24dbf",
   "metadata": {},
   "outputs": [
    {
     "name": "stdout",
     "output_type": "stream",
     "text": [
      "Antiphons position in Matins for Visitatio Mariae:\n",
      "XII A 21: ['1.1', '1.2', '1.3', '2.1', '2.2', '2.3', '3.1', '3.2', '3.3']\n",
      "VI G 3a: ['1.1', '1.2', '1.3', '1.4', '1.5', '1.6', '2.1', '2.2', '2.3', '2.4', '2.5', '2.6', '3.']\n"
     ]
    }
   ],
   "source": [
    "print('Antiphons position in Matins for Visitatio Mariae:')\n",
    "antiphons_positions_secular = [chant.position for chant in XII_A_21.chants if chant.genre == 'A'] # also filter could be used here\n",
    "antiphons_positions_monastic = [chant.position for chant in VI_G_3a.chants if chant.genre == 'A'] # also filter could be used here\n",
    "print('XII A 21:', sorted(antiphons_positions_secular))\n",
    "print('VI G 3a:', sorted(antiphons_positions_monastic))\n"
   ]
  },
  {
   "cell_type": "markdown",
   "id": "808f83c8",
   "metadata": {},
   "source": [
    "On the difference in total number of chants for Matins in the two sources (9), as well as on different used positions for antiphons of Matins the difference in structure between Secular and Monastic Matins is illustrated (the `3.` value in position stands for *antiphone super psalmos* that is sung around all psalms of section, here in the third Nocturn).  \n",
    "(Rest of the difference is caused by differences in responsories and presence/absence of hymn and some versicles.)"
   ]
  },
  {
   "cell_type": "markdown",
   "id": "f8309095",
   "metadata": {},
   "source": [
    "### Century and Numeric Century\n",
    "Field `century` contains the string from original database, that can be in many ways non-standardized. It is good for detailed research, potentially printing out results or for checking assumptions \"by eye\".  \n",
    "  \n",
    "Field `numeric_century` is an integer representing the value of century field, that was automatically assigned during data load. It is good for search and comparisons."
   ]
  },
  {
   "cell_type": "code",
   "execution_count": 41,
   "id": "be0404ea",
   "metadata": {},
   "outputs": [
    {
     "name": "stdout",
     "output_type": "stream",
     "text": [
      "Number of distinct centuries in cantuscorpus: 131\n",
      "Few centuries examples:\n",
      "  late 16th - early 17th cent.\n",
      "  1800\n",
      "  14th century (1375-1400)\n",
      "  12th century (1175-1200)\n",
      "  15th century, 16th century\n",
      "  14th - 15th cent.\n",
      "  late 16th century\n",
      "  14th century\n",
      "  11th - 12th cent.\n",
      "  c. 1450-1500\n"
     ]
    }
   ],
   "source": [
    "centuries = set(source.century for source in cantuscorpus.sources if source.century is not None)\n",
    "print(f'Number of distinct centuries in cantuscorpus: {len(centuries)}')\n",
    "print('Few centuries examples:')\n",
    "for cent in list(centuries)[:10]:\n",
    "    print(' ', cent)"
   ]
  },
  {
   "cell_type": "code",
   "execution_count": 42,
   "id": "844ccf6a",
   "metadata": {},
   "outputs": [
    {
     "name": "stdout",
     "output_type": "stream",
     "text": [
      "Number of distinct numeric_centuries in cantuscorpus: 13\n",
      "Few numeric centuries examples:\n",
      "  8\n",
      "  9\n",
      "  10\n",
      "  11\n",
      "  12\n"
     ]
    }
   ],
   "source": [
    "num_centuries = set(source.numeric_century for source in cantuscorpus.sources if source.numeric_century is not None)\n",
    "print(f'Number of distinct numeric_centuries in cantuscorpus: {len(num_centuries)}')\n",
    "print('Few numeric centuries examples:')\n",
    "for num_cent in list(num_centuries)[:5]:\n",
    "    print(' ', num_cent)"
   ]
  },
  {
   "cell_type": "code",
   "execution_count": 43,
   "id": "abdca8da",
   "metadata": {},
   "outputs": [
    {
     "name": "stdout",
     "output_type": "stream",
     "text": [
      "Few examples of century and numeric_century fields:\n",
      " numeric_century = \"9\"  | century = 9th century\n",
      " numeric_century = \"12\" | century = c. 1100\n",
      " numeric_century = \"13\" | century = 13th cent.\n",
      " numeric_century = \"15\" | century = 15th century (2nd half)\n"
     ]
    }
   ],
   "source": [
    "print('Few examples of century and numeric_century fields:')\n",
    "print(f' numeric_century = \"{cantuscorpus.sources[40].numeric_century}\"  | century = {cantuscorpus.sources[40].century}')\n",
    "print(f' numeric_century = \"{cantuscorpus.sources[349].numeric_century}\" | century = {cantuscorpus.sources[349].century}')\n",
    "print(f' numeric_century = \"{cantuscorpus.sources[350].numeric_century}\" | century = {cantuscorpus.sources[350].century}')\n",
    "print(f' numeric_century = \"{cantuscorpus.sources[81].numeric_century}\" | century = {cantuscorpus.sources[81].century}')"
   ]
  },
  {
   "cell_type": "markdown",
   "id": "2538437f",
   "metadata": {},
   "source": [
    "## Chants\n",
    "Chants can be divided into some groups, which can help us a lot in research.  \n",
    "The highest-level thing to address is that nwe have two non-overlapping liturgies: **the Mass** and **the Divine Office**. \n",
    "These are in fact overwhelmingly written in different types of medieval manuscripts -- Antiphoners (and notated Breviaries) for the Office, and Graduals (and notated Missals) for the Mass. This material difference illustrates the distinction between these two elementary types of Latin liturgy.\n",
    "\n",
    "We should therefore probably analyse chants for the Mass and for the Office separately.  \n",
    "There are two ways to distinguish which liturgy a chant belongs to in Cantus: the `office`, and the `genre`. But, the `office` has had a somewhat inconsistent cataloguing history, while the genres are applied much more rigorously in Cantus, and each genre of chant by definition belongs to only one of these liturgies.  \n",
    "Additionally, each genre corresponds to a particular liturgical position and thus a purpose that the practitioners had for the given group of chants, and genres have proven very useful in identifying e.g. use -- focusing on *alleluias* rather than *offertories*, for instance, is much more fruitful in determining what ecclesiastical context a manuscript might be coming from."
   ]
  },
  {
   "cell_type": "markdown",
   "id": "cffdd878",
   "metadata": {},
   "source": [
    "### Genres\n",
    "List of genre abbreviations is available in Cantus Index [here](https://cantusindex.org/genre) with rite (`Franco-Roman` or `Hispanic`) listed.  \n",
    "  \n",
    "Here are listed core genres for Office and for Mass:  "
   ]
  },
  {
   "cell_type": "code",
   "execution_count": 44,
   "id": "7d965083",
   "metadata": {},
   "outputs": [],
   "source": [
    "GENRES_MASS_PROPERS = ['In', 'InV', 'Gr', 'GrV', 'Al', 'AlV', 'Of', 'OfV', 'Cm', 'CmV', 'Tc', 'TcV']\n",
    "GENRES_OFFICE = ['A', 'R', 'V', 'W', 'I']"
   ]
  },
  {
   "cell_type": "markdown",
   "id": "a3023fc2",
   "metadata": {},
   "source": [
    "When working with Gregorian chant these might be good genre to stick to as a \"safe option\".   \n",
    "For some purposes even considering only antiphons (`A`) and responsories (`R`) can be a informative yet comprehensible subset of Divine Office data.  "
   ]
  },
  {
   "cell_type": "markdown",
   "id": "c669f2fd",
   "metadata": {},
   "source": [
    "### Offices (Services)\n",
    "Here Cantus Index does not provide any list as there are also some standardization issues... but for some overview [Service Abbreviations list](https://cantusdatabase.org/services/) from Cantus Database can be good reference. That holds expect for Mass where many other databases uses the value `MASS` instead of `MI`.  \n",
    "Service `E` for \"in evangelio\" can be substituted with annotating the antiphon (e.g. in Magnificat) as part of given service (e.g. `V`).  \n",
    "  \n",
    "As a \"safe to work with\" as well as reasonably informative we can recommend these:"
   ]
  },
  {
   "cell_type": "code",
   "execution_count": 45,
   "id": "1f278b82",
   "metadata": {},
   "outputs": [],
   "source": [
    "OFFICE_BASIC = ['V', 'M', 'L', 'V2']"
   ]
  },
  {
   "cell_type": "markdown",
   "id": "9e41f745",
   "metadata": {},
   "source": [
    "### Feasts\n",
    "Generally can be divided based on being in Sanctorale (generally Saints) or Temporale (generally said feasts connected to Jesus Christ). Even sources are sometimes divided like that - you cannot expect repertoire for First Sunday of Advent from a Sanctorale maniscript.  \n",
    "\n",
    "Local feasts can be tricky as they appearance as well as repertoire are influenced by local things, donators, etc.  \n",
    "  \n",
    "There also lies another standardization issue which can be in spelling (e.g. `Ludmillae` vs `Ludmilae`) or more generally structure of the names (e.g. `Agathae, infra oct.` vs `Agathae, 8`).  \n",
    "  \n",
    "This issue can be resolved with `feastcode` value, but that is not part of the [Cantus Index JSON API](https://github.com/dact-chant/cantus-index/blob/main/README.md) and also not all feasts have `feastcode` assigned.  \n",
    "  \n",
    "Besides Cantus Index [Feasts list](https://cantusindex.org/feasts) there is also Liturgical Feasts and Rites ([LFRI](https://lfri.pemdatabase.eu/home)) initiative around feast namings etc."
   ]
  },
  {
   "cell_type": "code",
   "execution_count": 48,
   "id": "3b4777f0",
   "metadata": {},
   "outputs": [
    {
     "name": "stdout",
     "output_type": "stream",
     "text": [
      "Number of distinct feast names in CantusCorpus v1.0: 2401\n"
     ]
    }
   ],
   "source": [
    "print(f'Number of distinct feast names in CantusCorpus v1.0:', len(set([ch.feast for ch in cantuscorpus.chants])))"
   ]
  },
  {
   "cell_type": "markdown",
   "id": "f987e5d0",
   "metadata": {},
   "source": [
    "A good subset of repertoire bigger then one day feast can be some well defined \"group of days\", e.g.:\n",
    "- Marian feast days\n",
    "    - but there is a problem of their \"different age\" (for instance Nativity of Mary is much older feast then Visitation of Mary)\n",
    "- Christmas (possibly with Advent)\n",
    "    - we have to defined well when this period starts and ends in our assumptions\n",
    "- Easter\n",
    "    - same thing as with Christmas... do we want repertoire from Lent? Whole Holy Week? Only Friday to Sunday?\n",
    "- Apostles\n",
    "    - here we have to consider whether we are interested also in \"Common\" repertoire (here especially *Comm. Apostolorum*)\n",
    "- Virgins\n",
    "    - only virgins? or also virgin martyrs? again do we want *Comm. plurimorum Virginum* ?\n",
    "- Maybe something like \"young feasts\" ? \n",
    "    - Corpus Christi, Visitation of Mary ...\n",
    "- ...\n",
    "- Whatever else can be useful for your research question"
   ]
  },
  {
   "cell_type": "markdown",
   "id": "14f23c77",
   "metadata": {},
   "source": [
    "### Cantus IDs\n",
    "We can observe few patterns on Cantus IDs structure.  \n",
    "  \n",
    "**CAO**  \n",
    "Chants from volumes of *Corpus Antiphonalium Officii* by René-Jean Hesbert have 4-digit numbers assigned by Hesbert. \n",
    "The prefix `00` precedes all 4-digit CAO numbers making each \"CAO\"-sourced Cantus ID 6 digits (plus applicable letter-suffixes), thus preserving Hesbert’s assignments but allowing for future growth of the database.\n",
    "\n",
    "**Not CAO**  \n",
    "The six-number format and the `g#####`s, `a#####`s, and `h#####`s (plus suffixes) now identify each chant in Cantus Index and the Cantus Database.\n",
    "The prefix designations `a`, `g` and `h` were introduced which generally identify Office chants (`a`), Mass chants (`g`), and Old-Hispanic chants (`h`), although there is some crossover.\n",
    "\n",
    "**Variants**  \n",
    "If the some chant is quite similar to another chant of the same genre, the new text will receive the Cantus ID of the similar chant plus a “variant” `.1`, `.2`, `.3`, etc. suffix.  \n",
    "  \n",
    "(For full history description see [ID Numbers: A History and Explanation](https://cantusdatabase.org/about/id-numbers/).)\n"
   ]
  },
  {
   "cell_type": "code",
   "execution_count": 49,
   "id": "a4baf00c",
   "metadata": {},
   "outputs": [
    {
     "name": "stdout",
     "output_type": "stream",
     "text": [
      "Number of CAO cantus IDs in CantusCorpus v1.0: 13256\n"
     ]
    }
   ],
   "source": [
    "print(f'Number of CAO cantus IDs in CantusCorpus v1.0:', len(set(ch.cantus_id for ch in cantuscorpus.chants if ch.cantus_id.startswith('00'))))"
   ]
  },
  {
   "cell_type": "markdown",
   "id": "bee40c59",
   "metadata": {},
   "source": [
    "(Distribution of Cantus IDs was plotted in the Statistics part of this tutorial notebook.)"
   ]
  },
  {
   "cell_type": "markdown",
   "id": "64dbe512",
   "metadata": {},
   "source": [
    "## Melody\n",
    "Melodies are encoded using volpiano, which is both a encoding standard and a font to render itself (for more info and description look into [Volpiano Protocols](https://cantusdatabase.org/static/documents/2.%20Volpiano%20Protocols.pdf) from Cantus Database).  \n",
    "Because it records exact pitches it is not applicable for earlier staffless neumes (but these data are not in CantusCorpus).  \n",
    "  \n",
    "Melody encoded as a volpiano string:  \n",
    "`1---fE--de--fdc---dc---d--ef--g--de--e---dh--hG--g---hk--hg-gfe---e--g---gh--hgfe--de--e77---efg--fe--d---g--f---gh--gfe--dE---e--e---4---h--g--h--k--g--e---3`\n",
    "\n",
    "This volpiano string rendered in the volpiano font:\n",
    "![Volpiano renderd in the font.](img/volpiano.png)"
   ]
  },
  {
   "cell_type": "markdown",
   "id": "8308d18b",
   "metadata": {},
   "source": [
    "For work with melodies PyCantus implement few convenience methods so you do not have to as well as so you do not shoot your self into foot as people before you did :-)"
   ]
  },
  {
   "cell_type": "markdown",
   "id": "51eae3f9",
   "metadata": {},
   "source": [
    "First of all we want to work with melody objects of `Corpus`:"
   ]
  },
  {
   "cell_type": "code",
   "execution_count": 63,
   "id": "38522365",
   "metadata": {},
   "outputs": [],
   "source": [
    "melodies = copy.copy(cantuscorpus.melody_objects)"
   ]
  },
  {
   "cell_type": "markdown",
   "id": "2e1352bc",
   "metadata": {},
   "source": [
    "Before working with melodies we definitely want to clean those volpiano strings otherwise we would face various troubles:\n",
    "- Hyphens\n",
    "    - Hyphens indicate syllable and word boundaries\n",
    "    - We do not really care if the annotator used two or three hyphens between two notes on our level (and the practice is even not really uniform...)\n",
    "    - So we want to throw all hyphens from the string away\n",
    "- Different conventions around numbers used in the font\n",
    "    - Numbers besides the first which is dedicated to clef (1 means treble clef) can mean different things, for example different kinds of barlines or line (or page) breaks... \n",
    "    - Again we want to throw them away as a noise for us\n",
    "- Dealing with *b flat* (and possible flats in general)\n",
    "    - b flat can appear in chant melodies and can be coded in at least 3 ways: \n",
    "        - `y` for low b flat -> meaning we have `yb` in the string\n",
    "        - `i` for central b flat -> meaning we have `ij` in the string\n",
    "        - `z` for high b flat -> meaning we have `zq` in the string\n",
    "    - Overall we would usually like to avoid this 'two characters <-> one pitch' situation and so we would keep only the \"flat letter\", meaning `yb` in the volpiano string is reduced to `y`\n",
    "- Phenomenon of liquescents (= written in capital letters)\n",
    "    - These are the little notes in rendered font above\n",
    "    - That is a noise again as it influences pronunciation which is not what we are interested in and again the annotation practice is not uniform\n",
    "    - We want to \"normalize\" them to look like standard notes (no capitalization)\n",
    "- Differentia\n",
    "    - Antiphons can end with differentia - \"evovae\" text is usually written under this part of melody - and it helps with mode classification, so we typically want to discard it\n",
    "    - If differentia is present and annotated the antiphon should end with a double barline (volpiano: `4`) and\n",
    "    then the differentia should end with a single barline (volpiano: `3`), which is how our function tries to find it"
   ]
  },
  {
   "cell_type": "markdown",
   "id": "92bb8c1e",
   "metadata": {},
   "source": [
    "So we want to go through all these steps:"
   ]
  },
  {
   "cell_type": "code",
   "execution_count": 51,
   "id": "6b647b82",
   "metadata": {},
   "outputs": [],
   "source": [
    "from pycantus.volpiano import utils"
   ]
  },
  {
   "cell_type": "code",
   "execution_count": 65,
   "id": "db64a55f",
   "metadata": {},
   "outputs": [
    {
     "name": "stdout",
     "output_type": "stream",
     "text": [
      "Original volpiano:\n",
      "    1---fE--de--fdc---dc---d--ef--g--de--e---dh--hG--g---hk--hg-gfe---e--g---gh--hgfe--de--e77---efg--fe--d---g--f---gh--gfe--dE---e--e---4---h--g--h--k--g--e---3\n",
      "Volpiano with discarded differentia:\n",
      "    1---fE--de--fdc---dc---d--ef--g--de--e---dh--hG--g---hk--hg-gfe---e--g---gh--hgfe--de--e77---efg--fe--d---g--f---gh--gfe--dE---e--e---3\n"
     ]
    }
   ],
   "source": [
    "# 1. Discard differentia\n",
    "for mel in melodies:\n",
    "    mel.volpiano = utils.discard_differentia(mel.volpiano)\n",
    "\n",
    "print(f'Original volpiano:\\n    {melodies[0].raw_volpiano}')\n",
    "print(f'Volpiano with discarded differentia:\\n    {melodies[0].volpiano}')"
   ]
  },
  {
   "cell_type": "code",
   "execution_count": 67,
   "id": "2b419876",
   "metadata": {},
   "outputs": [
    {
     "name": "stdout",
     "output_type": "stream",
     "text": [
      "Original volpiano:\n",
      "    1---fE--de--fdc---dc---d--ef--g--de--e---dh--hG--g---hk--hg-gfe---e--g---gh--hgfe--de--e77---efg--fe--d---g--f---gh--gfe--dE---e--e---4---h--g--h--k--g--e---3\n",
      "Volpiano with normalized liquescents and discarded differentia:\n",
      "    1---fe--de--fdc---dc---d--ef--g--de--e---dh--hg--g---hk--hg-gfe---e--g---gh--hgfe--de--e77---efg--fe--d---g--f---gh--gfe--de---e--e---3\n"
     ]
    }
   ],
   "source": [
    "# 2. Normalize liquescents\n",
    "for mel in melodies:\n",
    "    mel.volpiano = utils.normalize_liquescents(mel.volpiano)\n",
    "\n",
    "print(f'Original volpiano:\\n    {melodies[0].raw_volpiano}')\n",
    "print(f'Volpiano with normalized liquescents and discarded differentia:\\n    {melodies[0].volpiano}')"
   ]
  },
  {
   "cell_type": "code",
   "execution_count": null,
   "id": "eaba5120",
   "metadata": {},
   "outputs": [
    {
     "name": "stdout",
     "output_type": "stream",
     "text": [
      "Original volpiano:\n",
      "    1---fE--de--fdc---dc---d--ef--g--de--e---dh--hG--g---hk--hg-gfe---e--g---gh--hgfe--de--e77---efg--fe--d---g--f---gh--gfe--dE---e--e---4---h--g--h--k--g--e---3\n",
      "Cleaned volpiano with discarded differentia and normalized liquescents:\n",
      "    fedefdcdcdefgdeedhhgghkhggfeegghhgfedeeefgfedgfghgfedeee\n"
     ]
    }
   ],
   "source": [
    "# 3. Clean volpiano string\n",
    "#   remove clefs\n",
    "#   remove bars and other numbers\n",
    "#   discard boundaries (hyphens)\n",
    "for mel in melodies:\n",
    "    mel.volpiano = utils.clean_volpiano(mel.volpiano, allowed_chars=None, keep_boundaries=False,\n",
    "                                        neume_boundary=' ', syllable_boundary=' ', word_boundary=' ',\n",
    "                                        keep_bars=False, allowed_bars='345', bar='|')\n",
    "\n",
    "print(f'Original volpiano:\\n    {melodies[0].raw_volpiano}')\n",
    "print(f'Cleaned volpiano with discarded differentia and normalized liquescents:\\n    {melodies[0].volpiano}')"
   ]
  },
  {
   "cell_type": "markdown",
   "id": "d887a2c3",
   "metadata": {},
   "source": [
    "(Do not get confused with `allowed_bars` not being in the result - we have `keep_bars` set to `False`.)  \n",
    "  \n",
    "This parametrization is `clean_volpiano` default, we can call the function like this:\n",
    "```\n",
    "mel.volpiano = utils.clean_volpiano(mel.volpiano)\n",
    "```\n",
    "with same output."
   ]
  },
  {
   "cell_type": "markdown",
   "id": "6c1f3624",
   "metadata": {},
   "source": [
    "**There is even a function wrapping them all into one call:**"
   ]
  },
  {
   "cell_type": "code",
   "execution_count": 73,
   "id": "d64b85e6",
   "metadata": {},
   "outputs": [
    {
     "name": "stdout",
     "output_type": "stream",
     "text": [
      "Original volpiano:\n",
      "    1---hk-kj---kh--jh--gh--h---j---h---h--jk--hj---hh--g---h--eh--hj--h--h---j--k--lml-mnm---m---l--k--kj---hk--kj--g7---hk--k---kJ---h--jH--gh---hge---h--g--h---kj--g---jk--h---4---k--k--k--j--g--h---3\n",
      "Normalized volpiano:\n",
      "    hkkjkhjhghhjhhjkhjhhghehhjhhjklmlmnmmlkkjhkkjghkkkjhjhghhgehghkjgjkh\n"
     ]
    }
   ],
   "source": [
    "cantuscorpus_melodies = copy.copy(cantuscorpus)\n",
    "for melody in cantuscorpus_melodies.melody_objects:\n",
    "    melody.normalize_volpiano()\n",
    "\n",
    "print(f'Original volpiano:\\n    {cantuscorpus_melodies.melody_objects[2].raw_volpiano}')\n",
    "print(f'Normalized volpiano:\\n    {cantuscorpus_melodies.melody_objects[2].volpiano}')"
   ]
  },
  {
   "cell_type": "markdown",
   "id": "5a6d4917",
   "metadata": {},
   "source": [
    "Finally we usually do not want to work with only notated incipits (only beginnings of chants) or somehow not **complete chants** (melodies) in research and so we want to drop these incomplete records.  \n",
    "\n",
    "Conditions for being a complete chant:\n",
    "- Has a melody\n",
    "- The melody's volpiano is a valid string containing notes\n",
    "- Has full text\n",
    "- The full text is not identical to the incipit\n",
    "- The volpiano starts with '1' (indicating G clef)\n",
    "- The volpiano does not contain '2' (indicating F clef)\n",
    "- The volpiano does not contain '6------6' (indicating missing pitches)\n",
    "- The volpiano contains only valid characters\n",
    "- The volpiano contains at least one word boundary ('---')\n",
    "  \n",
    "For that PyCantus offers a simple function call:"
   ]
  },
  {
   "cell_type": "code",
   "execution_count": 74,
   "id": "0492a221",
   "metadata": {},
   "outputs": [
    {
     "name": "stdout",
     "output_type": "stream",
     "text": [
      "Number of all melodies in CantusCorpus v1.0: 60588\n",
      "Number of melodies after dropping incomplete chants: 36038\n"
     ]
    }
   ],
   "source": [
    "print(f'Number of all melodies in CantusCorpus v1.0: {len(cantuscorpus_melodies.melody_objects)}')\n",
    "cantuscorpus_melodies.drop_incomplete_chants()\n",
    "print(f'Number of melodies after dropping incomplete chants: {len(cantuscorpus_melodies.melody_objects)}')"
   ]
  },
  {
   "cell_type": "markdown",
   "id": "4d4e536f",
   "metadata": {},
   "source": [
    "## Known Problems and Troubles\n",
    "Refer to *Harmonization issues* document in CantusCorpus v1.0 that describes some known troubles of individual data fields. Part of that was already discussed in previous cells.\n",
    "\n",
    "Overall we can say that the \"troubleshooter\" is mainly inconsistent practice of annotations.  \n",
    "That means two things:\n",
    "- Annotating something differently (e.g. position of responsories in Matins: *9* vs *3.3*)\n",
    "- Not annotating something (typical for sources fields, overview is provided in CantusCorpus v1.0 README)\n",
    "\n",
    "Also there are differences between sources from different times, specifically \"older\", \"middle mess\" and \"younger\" manuscripts where the \"mess\" is approximately 1250-1520 (meaning 13th and 14th century) ending with Council of Trent that decided to drastically limit permissible local liturgical specifics."
   ]
  }
 ],
 "metadata": {
  "kernelspec": {
   "display_name": "myvenv",
   "language": "python",
   "name": "python3"
  },
  "language_info": {
   "codemirror_mode": {
    "name": "ipython",
    "version": 3
   },
   "file_extension": ".py",
   "mimetype": "text/x-python",
   "name": "python",
   "nbconvert_exporter": "python",
   "pygments_lexer": "ipython3",
   "version": "3.11.6"
  }
 },
 "nbformat": 4,
 "nbformat_minor": 5
}
