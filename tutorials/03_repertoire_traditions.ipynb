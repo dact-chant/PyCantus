{
 "cells": [
  {
   "cell_type": "markdown",
   "id": "83a0f3ca",
   "metadata": {},
   "source": [
    "# Tutorial on repertoire traditions discovery with PyCantus\n",
    "\n",
    "In this tutorial we demonstrate possible ways how to research repertoire structure of Gregorian chant with [Pycantus library](https://github.com/dact-chant/PyCantus/tree/main) on [CantusCorpus v1.0](https://github.com/DvorakovaA/CantusCorpus/tree/main/cantuscorpus_1.0) dataset.\n",
    "\n",
    "For that we are going to use Python `networkx` library."
   ]
  },
  {
   "cell_type": "code",
   "execution_count": 1,
   "id": "cb2c5959",
   "metadata": {},
   "outputs": [],
   "source": [
    "import pycantus\n",
    "from pycantus import data"
   ]
  },
  {
   "cell_type": "markdown",
   "id": "28221133",
   "metadata": {},
   "source": [
    "## Load dataset"
   ]
  },
  {
   "cell_type": "code",
   "execution_count": 10,
   "id": "a73dacb7",
   "metadata": {},
   "outputs": [
    {
     "name": "stdout",
     "output_type": "stream",
     "text": [
      "Loading chants and sources...\n",
      "Creating missing sources...\n",
      "0 missing sources created!\n",
      "Data loaded!\n",
      "Number of chants in corpus before any processing: 888010\n",
      "Number of sources in corpus before any processing: 2278\n"
     ]
    }
   ],
   "source": [
    "cantuscorpus = data.load_dataset(\"cantuscorpus_v1.0\", load_editable=True, \n",
    "                                  create_missing_sources=True)\n",
    "print(f'Number of chants in corpus before any processing: {len(cantuscorpus.chants)}')\n",
    "print(f'Number of sources in corpus before any processing: {len(cantuscorpus.sources)}')"
   ]
  },
  {
   "cell_type": "markdown",
   "id": "efcd1c32",
   "metadata": {},
   "source": [
    "## Filter chants\n",
    "1. We do not want to work with fragments of sources. \n",
    "\n",
    "2. We want to work with antiphons and responsories.\n",
    "\n",
    "3. Drop sources that are empty after this filtration."
   ]
  },
  {
   "cell_type": "code",
   "execution_count": 11,
   "id": "dd9746ec",
   "metadata": {},
   "outputs": [
    {
     "name": "stdout",
     "output_type": "stream",
     "text": [
      "Number of chants after dropping sources with less than 150 chants: 860792\n",
      "Number of sources after dropping sources with less than 150 chants: 473\n"
     ]
    }
   ],
   "source": [
    "# 1. We do not want to work with fragments of sources.\n",
    "# So we would try to get to that via dropping sources with less than 150 chants.\n",
    "cantuscorpus.drop_small_sources_data(min_chants=150)\n",
    "print(f'Number of chants after dropping sources with less than 150 chants: {len(cantuscorpus.chants)}')\n",
    "print(f'Number of sources after dropping sources with less than 150 chants: {len(cantuscorpus.sources)}')"
   ]
  },
  {
   "cell_type": "code",
   "execution_count": 12,
   "id": "37a809d9",
   "metadata": {},
   "outputs": [
    {
     "name": "stdout",
     "output_type": "stream",
     "text": [
      "Number of chants after filtering only antiphons and responsories: 382578\n"
     ]
    }
   ],
   "source": [
    "# 2. We want to work with antiphons and responsories.\n",
    "# So we would construct Filter wih such parameters.\n",
    "from pycantus.filtration import Filter\n",
    "a_r_filter = Filter('a_r_filter')\n",
    "a_r_filter.add_value_include('genre', ['A', 'R']) # A = antiphon, R = responsory\n",
    "cantuscorpus.apply_filter(a_r_filter)\n",
    "print(f'Number of chants after filtering only antiphons and responsories: {len(cantuscorpus.chants)}')"
   ]
  },
  {
   "cell_type": "code",
   "execution_count": 13,
   "id": "5dbc7fdd",
   "metadata": {},
   "outputs": [
    {
     "name": "stdout",
     "output_type": "stream",
     "text": [
      "Number of sources after dropping empty sources: 427\n"
     ]
    }
   ],
   "source": [
    "# 3. Drop sources that are empty after this filtration.\n",
    "cantuscorpus.drop_empty_sources()\n",
    "print(f'Number of sources after dropping empty sources: {len(cantuscorpus.sources)}')"
   ]
  },
  {
   "cell_type": "markdown",
   "id": "ac0a1318",
   "metadata": {},
   "source": [
    "## Feasts selection\n",
    "For more meaningful search we want to look at only a subset of repertoire at each search. Good way to divide the mass of chants is based on feasts they are prescribed for.  \n",
    "  \n",
    "We would pick Marian feasts days tradition for example. \n",
    "That includes "
   ]
  },
  {
   "cell_type": "code",
   "execution_count": null,
   "id": "0c4bdd06",
   "metadata": {},
   "outputs": [],
   "source": [
    "feast_filter = Filter('feast_filter')\n",
    "feast_filter.add_value_include('feast', ['Purificatio Mariae'])"
   ]
  },
  {
   "cell_type": "markdown",
   "id": "f46383f8",
   "metadata": {},
   "source": [
    "## Community detection"
   ]
  },
  {
   "cell_type": "code",
   "execution_count": null,
   "id": "77e51c55",
   "metadata": {},
   "outputs": [],
   "source": [
    "from networkx import louvain_communities"
   ]
  }
 ],
 "metadata": {
  "kernelspec": {
   "display_name": "myvenv",
   "language": "python",
   "name": "python3"
  },
  "language_info": {
   "codemirror_mode": {
    "name": "ipython",
    "version": 3
   },
   "file_extension": ".py",
   "mimetype": "text/x-python",
   "name": "python",
   "nbconvert_exporter": "python",
   "pygments_lexer": "ipython3",
   "version": "3.11.6"
  }
 },
 "nbformat": 4,
 "nbformat_minor": 5
}
