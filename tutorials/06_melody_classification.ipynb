{
 "cells": [
  {
   "cell_type": "markdown",
   "metadata": {
    "id": "AXS5KPyT-Bd7"
   },
   "source": [
    "# Tutorial on mode classification of melodies with PyCantus\n",
    "\n",
    "In this tutorial, we demonstrate how to load and preprocess chant data using the PyCantus library and train a classifier to predict the mode of a prepcossed melody. Our approach follows Cornelissen et al. (ISMIR 2020, [GitHub](https://github.com/bacor/ismir2020)).\n"
   ]
  },
  {
   "cell_type": "markdown",
   "metadata": {
    "id": "i-5hcz_D1Cfo"
   },
   "source": [
    "\n",
    "\n",
    "The task is to classify a melody into one of the eight medieval modes. A melody is encoded in volpiano notation, for example:\n",
    "\n",
    "`1---fE--de--fdc---dc---d--ef--g--de--e---dh--hG--g---hk--hg-gfe---e--g---gh--hgfe--de--e77---efg--fe--d---g--f---gh--gfe--dE---e--e---4---h--g--h--k--g--e---3`\n",
    "\n",
    "This notation is first normalized into a sequence of pitches, ignoring liquescents, clefs and word boundaries, yielding:\n",
    "\n",
    "`fedefdcdcdefgdeedhhgghkhggfeegghhgfedeeefgfedgfghgfedeee`\n",
    "\n",
    "The normalized melody is then segmented into melodic units. A simple approach is n-gram segmentation. For example, using 4-grams:\n",
    "\n",
    "`fede fdcd cdef gdee dhhg ghkh ggfe eggh hgfe deee fgfe dgfg hgfe deee`\n",
    "\n",
    "These segments (treated as a bag of n-grams) are vectorized using TF-IDF and classified with a Linear SVM to predict the mode - in this example, mode `4`."
   ]
  },
  {
   "cell_type": "markdown",
   "metadata": {
    "id": "qlZu3s4c1Em2"
   },
   "source": [
    "PyCantus can also come in handy for replicating the mode classification experiments of Lanz & Hajič jr. (ISMIR 2025, [GitHub](https://github.com/lanzv/chant-modality-with-nhpylms)), where naive n-grams (or segmentation into natural units - words/syllables - [which later proved less effective](https://dl.acm.org/doi/pdf/10.1145/3625135.3625143)) were replaced by segments predicted by a Bayesian non-parametric NHPYLM model ([code](https://github.com/lanzv/nhpylm)), thereby improving mode classification performance."
   ]
  },
  {
   "cell_type": "markdown",
   "metadata": {
    "id": "X3p1JO7wFxFu"
   },
   "source": [
    "## Load Data\n",
    "\n",
    "Load the full CantusCorpus v1.0 as one of the pycantus available datasets.  \n",
    "(If data files are not ready, pycantus will download them.)"
   ]
  },
  {
   "cell_type": "code",
   "execution_count": 1,
   "metadata": {},
   "outputs": [],
   "source": [
    "import pycantus\n",
    "from pycantus import data"
   ]
  },
  {
   "cell_type": "code",
   "execution_count": 2,
   "metadata": {
    "colab": {
     "base_uri": "https://localhost:8080/"
    },
    "executionInfo": {
     "elapsed": 160575,
     "status": "ok",
     "timestamp": 1757902787234,
     "user": {
      "displayName": "Vojtech Lanz",
      "userId": "15791523486540207166"
     },
     "user_tz": 240
    },
    "id": "1QOYf_fCFjf1",
    "outputId": "12116111-c658-4639-d4c8-09365d2fe732"
   },
   "outputs": [
    {
     "name": "stdout",
     "output_type": "stream",
     "text": [
      "Loading chants and sources...\n",
      "Creating missing sources...\n",
      "0 missing sources created!\n",
      "Data loaded!\n",
      "Number of chants before filtering: 888010\n"
     ]
    }
   ],
   "source": [
    "# Load the full CantusCorpus v1.0 dataset\n",
    "cantuscorpus = data.load_dataset('cantuscorpus_v1.0', load_editable=True, create_missing_sources=True)\n",
    "\n",
    "print(f'Number of chants before filtering: {len(cantuscorpus.chants)}')"
   ]
  },
  {
   "cell_type": "markdown",
   "metadata": {
    "id": "kZVylYD5jDz-"
   },
   "source": [
    "## Filter Melodies\n",
    "\n",
    "1. Apply PyCantus filters to select Antiphon (`A`) melodies with simple modes (`1–8`).\n",
    "    - *To explore responsories instead, replace `antiphon_filter.add_value_include('genre', 'A')` with `antiphon_filter.add_value_include('genre', 'R')`.*\n",
    "\n",
    "2. Remove incomplete melodies.\n",
    "\n",
    "3. Normalize volpiano sequences into pitch sequences."
   ]
  },
  {
   "cell_type": "code",
   "execution_count": 3,
   "metadata": {
    "colab": {
     "base_uri": "https://localhost:8080/"
    },
    "executionInfo": {
     "elapsed": 1539,
     "status": "ok",
     "timestamp": 1757902920133,
     "user": {
      "displayName": "Vojtech Lanz",
      "userId": "15791523486540207166"
     },
     "user_tz": 240
    },
    "id": "vIH8ozgHFyen",
    "outputId": "42c42b91-f4c4-450a-bb91-e9489c1d3030"
   },
   "outputs": [
    {
     "name": "stdout",
     "output_type": "stream",
     "text": [
      "Number of antiphon chants with simple modes: 171099\n"
     ]
    }
   ],
   "source": [
    "# 1. Apply PyCantus filters\n",
    "from pycantus.filtration import Filter\n",
    "\n",
    "# Create a filter for antiphons with simple modes\n",
    "antiphon_filter = Filter('antiphon_filter')\n",
    "antiphon_filter.add_value_include('genre', 'A')\n",
    "antiphon_filter.add_value_include('mode', ['1','2','3','4','5','6','7','8'])\n",
    "\n",
    "# Apply the filter to the dataset\n",
    "cantuscorpus.apply_filter(antiphon_filter)\n",
    "\n",
    "print(f'Number of antiphon chants with simple modes: {len(cantuscorpus.chants)}')"
   ]
  },
  {
   "cell_type": "code",
   "execution_count": 4,
   "metadata": {
    "colab": {
     "base_uri": "https://localhost:8080/"
    },
    "executionInfo": {
     "elapsed": 157,
     "status": "ok",
     "timestamp": 1757902937476,
     "user": {
      "displayName": "Vojtech Lanz",
      "userId": "15791523486540207166"
     },
     "user_tz": 240
    },
    "id": "7CVZ4oFlyJtD",
    "outputId": "502ecf5c-b42d-42fc-c2a7-8ddb4b5f9f51"
   },
   "outputs": [
    {
     "name": "stdout",
     "output_type": "stream",
     "text": [
      "Number of complete antiphon chants with simple modes: 14336\n"
     ]
    }
   ],
   "source": [
    "# 2. Remove incomplete melodies.\n",
    "# Drops chants that do not have complete melodic and textual data.\n",
    "cantuscorpus.drop_incomplete_chants()\n",
    "\n",
    "print(f'Number of complete antiphon chants with simple modes: {len(cantuscorpus.chants)}')"
   ]
  },
  {
   "cell_type": "code",
   "execution_count": 5,
   "metadata": {
    "executionInfo": {
     "elapsed": 176,
     "status": "ok",
     "timestamp": 1757902960011,
     "user": {
      "displayName": "Vojtech Lanz",
      "userId": "15791523486540207166"
     },
     "user_tz": 240
    },
    "id": "h7AH6G1DX8G9"
   },
   "outputs": [],
   "source": [
    "# 3. Normalize volpiano melodies (keep pitches only):\n",
    "# remove differentiae, normalize liquescents, remove word/syllable boundaries and clefs\n",
    "for melody in cantuscorpus.melody_objects:\n",
    "    melody.normalize_volpiano()"
   ]
  },
  {
   "cell_type": "markdown",
   "metadata": {
    "id": "LqecY42H8EP3"
   },
   "source": [
    "## Prepare Data for Mode Classification\n",
    "\n",
    "The PyCantus Corpus object `cantuscorpus` contains all the chants needed for training. We now want to:\n",
    "\n",
    "1. Collect all pitch sequences (without duplicates) along with their corresponding modes.\n",
    "\n",
    "2. Segment each pitch sequence into melodic units.\n",
    "\n",
    "3. Split the data into training and testing sets.\n",
    "\n",
    "The final training data should be a list of segmented melodies, with segments separated by spaces, for example:\n",
    "\n",
    "`fede fdcd cdef gdee dhhg ghkh ggfe eggh hgfe deee fgfe dgfg hgfe deee`\n",
    "\n",
    "\n",
    "Each sequence will have a corresponding class label (modes `1–8`).\n",
    "We will use a 7:3 ratio for splitting training and testing sets, ensuring that the test set contains sequences distinct from the training set."
   ]
  },
  {
   "cell_type": "code",
   "execution_count": 6,
   "metadata": {
    "colab": {
     "base_uri": "https://localhost:8080/"
    },
    "executionInfo": {
     "elapsed": 49,
     "status": "ok",
     "timestamp": 1757903018912,
     "user": {
      "displayName": "Vojtech Lanz",
      "userId": "15791523486540207166"
     },
     "user_tz": 240
    },
    "id": "48g-T1ghYz63",
    "outputId": "aebc0994-fb21-49c7-c215-9c3ae93f2e2b"
   },
   "outputs": [
    {
     "name": "stdout",
     "output_type": "stream",
     "text": [
      "Number of unique complete antiphon chants with simple modes: 13380\n"
     ]
    }
   ],
   "source": [
    "# 1. Collect all pitch sequences (without duplicates) along with their corresponding modes.\n",
    "\n",
    "all_melodies = []\n",
    "all_modes = []\n",
    "seen_melodies = set()\n",
    "\n",
    "for melody in cantuscorpus.melody_objects:\n",
    "    mel_str = str(melody)\n",
    "    if mel_str in seen_melodies:\n",
    "        continue  # skip duplicates\n",
    "    all_melodies.append(mel_str)\n",
    "    all_modes.append(melody.mode)\n",
    "    seen_melodies.add(mel_str)\n",
    "\n",
    "print(f'Number of unique complete antiphon chants with simple modes: {len(all_melodies)}')"
   ]
  },
  {
   "cell_type": "code",
   "execution_count": 7,
   "metadata": {
    "colab": {
     "base_uri": "https://localhost:8080/"
    },
    "executionInfo": {
     "elapsed": 37,
     "status": "ok",
     "timestamp": 1757903026187,
     "user": {
      "displayName": "Vojtech Lanz",
      "userId": "15791523486540207166"
     },
     "user_tz": 240
    },
    "id": "YOU0jWbacjb-",
    "outputId": "4f0e4eab-4627-42fc-e256-208b59fafd90"
   },
   "outputs": [
    {
     "name": "stdout",
     "output_type": "stream",
     "text": [
      "['1', '2', '3', '4', '5', '6', '7', '8']\n",
      "fedefdcdcdefgdeedhhgghkhggfeegghhgfedeeefgfedgfghgfedeee 4\n",
      "fedefdcdcdfgdeedhhghkhggfedefghhgfedeeefgfedcgfghgfedeee 4\n",
      "dffefdedcddedefddeddcdaddeddefghghjhhgffedffecdfffededcddcadcdfecefd 2\n",
      "dfefdfdcddfddefdfedcdcddfddffghghijhhgffedffecdfffedfecddcacdfeccfd 2\n"
     ]
    }
   ],
   "source": [
    "print(sorted(set(all_modes)))\n",
    "for i in range(4):\n",
    "    print(all_melodies[i], all_modes[i])"
   ]
  },
  {
   "cell_type": "code",
   "execution_count": 8,
   "metadata": {
    "colab": {
     "base_uri": "https://localhost:8080/"
    },
    "executionInfo": {
     "elapsed": 89,
     "status": "ok",
     "timestamp": 1757903057287,
     "user": {
      "displayName": "Vojtech Lanz",
      "userId": "15791523486540207166"
     },
     "user_tz": 240
    },
    "id": "yKI3aQ3nmQdU",
    "outputId": "c99f2fdf-b0a2-4a3b-e248-7d44c507783a"
   },
   "outputs": [
    {
     "name": "stdout",
     "output_type": "stream",
     "text": [
      "Before segmentation: fedefdcdcdefgdeedhhgghkhggfeegghhgfedeeefgfedgfghgfedeee\n",
      "After segmentation:  fede fdcd cdef gdee dhhg ghkh ggfe eggh hgfe deee fgfe dgfg hgfe deee\n"
     ]
    }
   ],
   "source": [
    "# 2. Segment each pitch sequence into melodic units\n",
    "def segment_melody(melody, n=4):\n",
    "    return \" \".join(melody[i:i+n] for i in range(0, len(melody), n))\n",
    "\n",
    "# Show example before segmentation\n",
    "print(\"Before segmentation:\", all_melodies[0])\n",
    "\n",
    "# Apply segmentation to all melodies\n",
    "all_segmentations = [segment_melody(mel, n=4) for mel in all_melodies]\n",
    "\n",
    "# Show example after segmentation\n",
    "print(\"After segmentation: \", all_segmentations[0])"
   ]
  },
  {
   "cell_type": "code",
   "execution_count": 9,
   "metadata": {
    "colab": {
     "base_uri": "https://localhost:8080/"
    },
    "executionInfo": {
     "elapsed": 1027,
     "status": "ok",
     "timestamp": 1757903067341,
     "user": {
      "displayName": "Vojtech Lanz",
      "userId": "15791523486540207166"
     },
     "user_tz": 240
    },
    "id": "77HEGbFgZn7n",
    "outputId": "7f006a4c-e236-4fc3-e2f1-8fa2453439e5"
   },
   "outputs": [
    {
     "name": "stdout",
     "output_type": "stream",
     "text": [
      "Number of training sequences: 9366, testing sequences: 4014\n"
     ]
    }
   ],
   "source": [
    "# 3. Split the data into training and testing sets\n",
    "from sklearn.model_selection import train_test_split\n",
    "\n",
    "seg_train, seg_test, mode_train, mode_test = train_test_split(\n",
    "    all_segmentations,\n",
    "    all_modes,\n",
    "    test_size=0.3,\n",
    "    shuffle=True,\n",
    "    random_state=42\n",
    ")\n",
    "\n",
    "print(f\"Number of training sequences: {len(seg_train)}, testing sequences: {len(seg_test)}\")"
   ]
  },
  {
   "cell_type": "markdown",
   "metadata": {
    "id": "jLPYfb5-F3qG"
   },
   "source": [
    "## Classify Modes with Linear SVM\n",
    "\n",
    "Next, we train a Linear SVM classifier on the segmented melodies from the training set. The melodies are vectorized using TF-IDF to represent each sequence as a bag of n-grams, and the classifier predicts the corresponding mode."
   ]
  },
  {
   "cell_type": "code",
   "execution_count": 10,
   "metadata": {
    "colab": {
     "base_uri": "https://localhost:8080/",
     "height": 155
    },
    "executionInfo": {
     "elapsed": 417,
     "status": "ok",
     "timestamp": 1757903071604,
     "user": {
      "displayName": "Vojtech Lanz",
      "userId": "15791523486540207166"
     },
     "user_tz": 240
    },
    "id": "lTI3RwucoSQg",
    "outputId": "a897ccc4-5e2e-4c11-f3b2-e66afe91cc53"
   },
   "outputs": [
    {
     "data": {
      "text/html": [
       "<style>#sk-container-id-1 {\n",
       "  /* Definition of color scheme common for light and dark mode */\n",
       "  --sklearn-color-text: #000;\n",
       "  --sklearn-color-text-muted: #666;\n",
       "  --sklearn-color-line: gray;\n",
       "  /* Definition of color scheme for unfitted estimators */\n",
       "  --sklearn-color-unfitted-level-0: #fff5e6;\n",
       "  --sklearn-color-unfitted-level-1: #f6e4d2;\n",
       "  --sklearn-color-unfitted-level-2: #ffe0b3;\n",
       "  --sklearn-color-unfitted-level-3: chocolate;\n",
       "  /* Definition of color scheme for fitted estimators */\n",
       "  --sklearn-color-fitted-level-0: #f0f8ff;\n",
       "  --sklearn-color-fitted-level-1: #d4ebff;\n",
       "  --sklearn-color-fitted-level-2: #b3dbfd;\n",
       "  --sklearn-color-fitted-level-3: cornflowerblue;\n",
       "\n",
       "  /* Specific color for light theme */\n",
       "  --sklearn-color-text-on-default-background: var(--sg-text-color, var(--theme-code-foreground, var(--jp-content-font-color1, black)));\n",
       "  --sklearn-color-background: var(--sg-background-color, var(--theme-background, var(--jp-layout-color0, white)));\n",
       "  --sklearn-color-border-box: var(--sg-text-color, var(--theme-code-foreground, var(--jp-content-font-color1, black)));\n",
       "  --sklearn-color-icon: #696969;\n",
       "\n",
       "  @media (prefers-color-scheme: dark) {\n",
       "    /* Redefinition of color scheme for dark theme */\n",
       "    --sklearn-color-text-on-default-background: var(--sg-text-color, var(--theme-code-foreground, var(--jp-content-font-color1, white)));\n",
       "    --sklearn-color-background: var(--sg-background-color, var(--theme-background, var(--jp-layout-color0, #111)));\n",
       "    --sklearn-color-border-box: var(--sg-text-color, var(--theme-code-foreground, var(--jp-content-font-color1, white)));\n",
       "    --sklearn-color-icon: #878787;\n",
       "  }\n",
       "}\n",
       "\n",
       "#sk-container-id-1 {\n",
       "  color: var(--sklearn-color-text);\n",
       "}\n",
       "\n",
       "#sk-container-id-1 pre {\n",
       "  padding: 0;\n",
       "}\n",
       "\n",
       "#sk-container-id-1 input.sk-hidden--visually {\n",
       "  border: 0;\n",
       "  clip: rect(1px 1px 1px 1px);\n",
       "  clip: rect(1px, 1px, 1px, 1px);\n",
       "  height: 1px;\n",
       "  margin: -1px;\n",
       "  overflow: hidden;\n",
       "  padding: 0;\n",
       "  position: absolute;\n",
       "  width: 1px;\n",
       "}\n",
       "\n",
       "#sk-container-id-1 div.sk-dashed-wrapped {\n",
       "  border: 1px dashed var(--sklearn-color-line);\n",
       "  margin: 0 0.4em 0.5em 0.4em;\n",
       "  box-sizing: border-box;\n",
       "  padding-bottom: 0.4em;\n",
       "  background-color: var(--sklearn-color-background);\n",
       "}\n",
       "\n",
       "#sk-container-id-1 div.sk-container {\n",
       "  /* jupyter's `normalize.less` sets `[hidden] { display: none; }`\n",
       "     but bootstrap.min.css set `[hidden] { display: none !important; }`\n",
       "     so we also need the `!important` here to be able to override the\n",
       "     default hidden behavior on the sphinx rendered scikit-learn.org.\n",
       "     See: https://github.com/scikit-learn/scikit-learn/issues/21755 */\n",
       "  display: inline-block !important;\n",
       "  position: relative;\n",
       "}\n",
       "\n",
       "#sk-container-id-1 div.sk-text-repr-fallback {\n",
       "  display: none;\n",
       "}\n",
       "\n",
       "div.sk-parallel-item,\n",
       "div.sk-serial,\n",
       "div.sk-item {\n",
       "  /* draw centered vertical line to link estimators */\n",
       "  background-image: linear-gradient(var(--sklearn-color-text-on-default-background), var(--sklearn-color-text-on-default-background));\n",
       "  background-size: 2px 100%;\n",
       "  background-repeat: no-repeat;\n",
       "  background-position: center center;\n",
       "}\n",
       "\n",
       "/* Parallel-specific style estimator block */\n",
       "\n",
       "#sk-container-id-1 div.sk-parallel-item::after {\n",
       "  content: \"\";\n",
       "  width: 100%;\n",
       "  border-bottom: 2px solid var(--sklearn-color-text-on-default-background);\n",
       "  flex-grow: 1;\n",
       "}\n",
       "\n",
       "#sk-container-id-1 div.sk-parallel {\n",
       "  display: flex;\n",
       "  align-items: stretch;\n",
       "  justify-content: center;\n",
       "  background-color: var(--sklearn-color-background);\n",
       "  position: relative;\n",
       "}\n",
       "\n",
       "#sk-container-id-1 div.sk-parallel-item {\n",
       "  display: flex;\n",
       "  flex-direction: column;\n",
       "}\n",
       "\n",
       "#sk-container-id-1 div.sk-parallel-item:first-child::after {\n",
       "  align-self: flex-end;\n",
       "  width: 50%;\n",
       "}\n",
       "\n",
       "#sk-container-id-1 div.sk-parallel-item:last-child::after {\n",
       "  align-self: flex-start;\n",
       "  width: 50%;\n",
       "}\n",
       "\n",
       "#sk-container-id-1 div.sk-parallel-item:only-child::after {\n",
       "  width: 0;\n",
       "}\n",
       "\n",
       "/* Serial-specific style estimator block */\n",
       "\n",
       "#sk-container-id-1 div.sk-serial {\n",
       "  display: flex;\n",
       "  flex-direction: column;\n",
       "  align-items: center;\n",
       "  background-color: var(--sklearn-color-background);\n",
       "  padding-right: 1em;\n",
       "  padding-left: 1em;\n",
       "}\n",
       "\n",
       "\n",
       "/* Toggleable style: style used for estimator/Pipeline/ColumnTransformer box that is\n",
       "clickable and can be expanded/collapsed.\n",
       "- Pipeline and ColumnTransformer use this feature and define the default style\n",
       "- Estimators will overwrite some part of the style using the `sk-estimator` class\n",
       "*/\n",
       "\n",
       "/* Pipeline and ColumnTransformer style (default) */\n",
       "\n",
       "#sk-container-id-1 div.sk-toggleable {\n",
       "  /* Default theme specific background. It is overwritten whether we have a\n",
       "  specific estimator or a Pipeline/ColumnTransformer */\n",
       "  background-color: var(--sklearn-color-background);\n",
       "}\n",
       "\n",
       "/* Toggleable label */\n",
       "#sk-container-id-1 label.sk-toggleable__label {\n",
       "  cursor: pointer;\n",
       "  display: flex;\n",
       "  width: 100%;\n",
       "  margin-bottom: 0;\n",
       "  padding: 0.5em;\n",
       "  box-sizing: border-box;\n",
       "  text-align: center;\n",
       "  align-items: start;\n",
       "  justify-content: space-between;\n",
       "  gap: 0.5em;\n",
       "}\n",
       "\n",
       "#sk-container-id-1 label.sk-toggleable__label .caption {\n",
       "  font-size: 0.6rem;\n",
       "  font-weight: lighter;\n",
       "  color: var(--sklearn-color-text-muted);\n",
       "}\n",
       "\n",
       "#sk-container-id-1 label.sk-toggleable__label-arrow:before {\n",
       "  /* Arrow on the left of the label */\n",
       "  content: \"▸\";\n",
       "  float: left;\n",
       "  margin-right: 0.25em;\n",
       "  color: var(--sklearn-color-icon);\n",
       "}\n",
       "\n",
       "#sk-container-id-1 label.sk-toggleable__label-arrow:hover:before {\n",
       "  color: var(--sklearn-color-text);\n",
       "}\n",
       "\n",
       "/* Toggleable content - dropdown */\n",
       "\n",
       "#sk-container-id-1 div.sk-toggleable__content {\n",
       "  max-height: 0;\n",
       "  max-width: 0;\n",
       "  overflow: hidden;\n",
       "  text-align: left;\n",
       "  /* unfitted */\n",
       "  background-color: var(--sklearn-color-unfitted-level-0);\n",
       "}\n",
       "\n",
       "#sk-container-id-1 div.sk-toggleable__content.fitted {\n",
       "  /* fitted */\n",
       "  background-color: var(--sklearn-color-fitted-level-0);\n",
       "}\n",
       "\n",
       "#sk-container-id-1 div.sk-toggleable__content pre {\n",
       "  margin: 0.2em;\n",
       "  border-radius: 0.25em;\n",
       "  color: var(--sklearn-color-text);\n",
       "  /* unfitted */\n",
       "  background-color: var(--sklearn-color-unfitted-level-0);\n",
       "}\n",
       "\n",
       "#sk-container-id-1 div.sk-toggleable__content.fitted pre {\n",
       "  /* unfitted */\n",
       "  background-color: var(--sklearn-color-fitted-level-0);\n",
       "}\n",
       "\n",
       "#sk-container-id-1 input.sk-toggleable__control:checked~div.sk-toggleable__content {\n",
       "  /* Expand drop-down */\n",
       "  max-height: 200px;\n",
       "  max-width: 100%;\n",
       "  overflow: auto;\n",
       "}\n",
       "\n",
       "#sk-container-id-1 input.sk-toggleable__control:checked~label.sk-toggleable__label-arrow:before {\n",
       "  content: \"▾\";\n",
       "}\n",
       "\n",
       "/* Pipeline/ColumnTransformer-specific style */\n",
       "\n",
       "#sk-container-id-1 div.sk-label input.sk-toggleable__control:checked~label.sk-toggleable__label {\n",
       "  color: var(--sklearn-color-text);\n",
       "  background-color: var(--sklearn-color-unfitted-level-2);\n",
       "}\n",
       "\n",
       "#sk-container-id-1 div.sk-label.fitted input.sk-toggleable__control:checked~label.sk-toggleable__label {\n",
       "  background-color: var(--sklearn-color-fitted-level-2);\n",
       "}\n",
       "\n",
       "/* Estimator-specific style */\n",
       "\n",
       "/* Colorize estimator box */\n",
       "#sk-container-id-1 div.sk-estimator input.sk-toggleable__control:checked~label.sk-toggleable__label {\n",
       "  /* unfitted */\n",
       "  background-color: var(--sklearn-color-unfitted-level-2);\n",
       "}\n",
       "\n",
       "#sk-container-id-1 div.sk-estimator.fitted input.sk-toggleable__control:checked~label.sk-toggleable__label {\n",
       "  /* fitted */\n",
       "  background-color: var(--sklearn-color-fitted-level-2);\n",
       "}\n",
       "\n",
       "#sk-container-id-1 div.sk-label label.sk-toggleable__label,\n",
       "#sk-container-id-1 div.sk-label label {\n",
       "  /* The background is the default theme color */\n",
       "  color: var(--sklearn-color-text-on-default-background);\n",
       "}\n",
       "\n",
       "/* On hover, darken the color of the background */\n",
       "#sk-container-id-1 div.sk-label:hover label.sk-toggleable__label {\n",
       "  color: var(--sklearn-color-text);\n",
       "  background-color: var(--sklearn-color-unfitted-level-2);\n",
       "}\n",
       "\n",
       "/* Label box, darken color on hover, fitted */\n",
       "#sk-container-id-1 div.sk-label.fitted:hover label.sk-toggleable__label.fitted {\n",
       "  color: var(--sklearn-color-text);\n",
       "  background-color: var(--sklearn-color-fitted-level-2);\n",
       "}\n",
       "\n",
       "/* Estimator label */\n",
       "\n",
       "#sk-container-id-1 div.sk-label label {\n",
       "  font-family: monospace;\n",
       "  font-weight: bold;\n",
       "  display: inline-block;\n",
       "  line-height: 1.2em;\n",
       "}\n",
       "\n",
       "#sk-container-id-1 div.sk-label-container {\n",
       "  text-align: center;\n",
       "}\n",
       "\n",
       "/* Estimator-specific */\n",
       "#sk-container-id-1 div.sk-estimator {\n",
       "  font-family: monospace;\n",
       "  border: 1px dotted var(--sklearn-color-border-box);\n",
       "  border-radius: 0.25em;\n",
       "  box-sizing: border-box;\n",
       "  margin-bottom: 0.5em;\n",
       "  /* unfitted */\n",
       "  background-color: var(--sklearn-color-unfitted-level-0);\n",
       "}\n",
       "\n",
       "#sk-container-id-1 div.sk-estimator.fitted {\n",
       "  /* fitted */\n",
       "  background-color: var(--sklearn-color-fitted-level-0);\n",
       "}\n",
       "\n",
       "/* on hover */\n",
       "#sk-container-id-1 div.sk-estimator:hover {\n",
       "  /* unfitted */\n",
       "  background-color: var(--sklearn-color-unfitted-level-2);\n",
       "}\n",
       "\n",
       "#sk-container-id-1 div.sk-estimator.fitted:hover {\n",
       "  /* fitted */\n",
       "  background-color: var(--sklearn-color-fitted-level-2);\n",
       "}\n",
       "\n",
       "/* Specification for estimator info (e.g. \"i\" and \"?\") */\n",
       "\n",
       "/* Common style for \"i\" and \"?\" */\n",
       "\n",
       ".sk-estimator-doc-link,\n",
       "a:link.sk-estimator-doc-link,\n",
       "a:visited.sk-estimator-doc-link {\n",
       "  float: right;\n",
       "  font-size: smaller;\n",
       "  line-height: 1em;\n",
       "  font-family: monospace;\n",
       "  background-color: var(--sklearn-color-background);\n",
       "  border-radius: 1em;\n",
       "  height: 1em;\n",
       "  width: 1em;\n",
       "  text-decoration: none !important;\n",
       "  margin-left: 0.5em;\n",
       "  text-align: center;\n",
       "  /* unfitted */\n",
       "  border: var(--sklearn-color-unfitted-level-1) 1pt solid;\n",
       "  color: var(--sklearn-color-unfitted-level-1);\n",
       "}\n",
       "\n",
       ".sk-estimator-doc-link.fitted,\n",
       "a:link.sk-estimator-doc-link.fitted,\n",
       "a:visited.sk-estimator-doc-link.fitted {\n",
       "  /* fitted */\n",
       "  border: var(--sklearn-color-fitted-level-1) 1pt solid;\n",
       "  color: var(--sklearn-color-fitted-level-1);\n",
       "}\n",
       "\n",
       "/* On hover */\n",
       "div.sk-estimator:hover .sk-estimator-doc-link:hover,\n",
       ".sk-estimator-doc-link:hover,\n",
       "div.sk-label-container:hover .sk-estimator-doc-link:hover,\n",
       ".sk-estimator-doc-link:hover {\n",
       "  /* unfitted */\n",
       "  background-color: var(--sklearn-color-unfitted-level-3);\n",
       "  color: var(--sklearn-color-background);\n",
       "  text-decoration: none;\n",
       "}\n",
       "\n",
       "div.sk-estimator.fitted:hover .sk-estimator-doc-link.fitted:hover,\n",
       ".sk-estimator-doc-link.fitted:hover,\n",
       "div.sk-label-container:hover .sk-estimator-doc-link.fitted:hover,\n",
       ".sk-estimator-doc-link.fitted:hover {\n",
       "  /* fitted */\n",
       "  background-color: var(--sklearn-color-fitted-level-3);\n",
       "  color: var(--sklearn-color-background);\n",
       "  text-decoration: none;\n",
       "}\n",
       "\n",
       "/* Span, style for the box shown on hovering the info icon */\n",
       ".sk-estimator-doc-link span {\n",
       "  display: none;\n",
       "  z-index: 9999;\n",
       "  position: relative;\n",
       "  font-weight: normal;\n",
       "  right: .2ex;\n",
       "  padding: .5ex;\n",
       "  margin: .5ex;\n",
       "  width: min-content;\n",
       "  min-width: 20ex;\n",
       "  max-width: 50ex;\n",
       "  color: var(--sklearn-color-text);\n",
       "  box-shadow: 2pt 2pt 4pt #999;\n",
       "  /* unfitted */\n",
       "  background: var(--sklearn-color-unfitted-level-0);\n",
       "  border: .5pt solid var(--sklearn-color-unfitted-level-3);\n",
       "}\n",
       "\n",
       ".sk-estimator-doc-link.fitted span {\n",
       "  /* fitted */\n",
       "  background: var(--sklearn-color-fitted-level-0);\n",
       "  border: var(--sklearn-color-fitted-level-3);\n",
       "}\n",
       "\n",
       ".sk-estimator-doc-link:hover span {\n",
       "  display: block;\n",
       "}\n",
       "\n",
       "/* \"?\"-specific style due to the `<a>` HTML tag */\n",
       "\n",
       "#sk-container-id-1 a.estimator_doc_link {\n",
       "  float: right;\n",
       "  font-size: 1rem;\n",
       "  line-height: 1em;\n",
       "  font-family: monospace;\n",
       "  background-color: var(--sklearn-color-background);\n",
       "  border-radius: 1rem;\n",
       "  height: 1rem;\n",
       "  width: 1rem;\n",
       "  text-decoration: none;\n",
       "  /* unfitted */\n",
       "  color: var(--sklearn-color-unfitted-level-1);\n",
       "  border: var(--sklearn-color-unfitted-level-1) 1pt solid;\n",
       "}\n",
       "\n",
       "#sk-container-id-1 a.estimator_doc_link.fitted {\n",
       "  /* fitted */\n",
       "  border: var(--sklearn-color-fitted-level-1) 1pt solid;\n",
       "  color: var(--sklearn-color-fitted-level-1);\n",
       "}\n",
       "\n",
       "/* On hover */\n",
       "#sk-container-id-1 a.estimator_doc_link:hover {\n",
       "  /* unfitted */\n",
       "  background-color: var(--sklearn-color-unfitted-level-3);\n",
       "  color: var(--sklearn-color-background);\n",
       "  text-decoration: none;\n",
       "}\n",
       "\n",
       "#sk-container-id-1 a.estimator_doc_link.fitted:hover {\n",
       "  /* fitted */\n",
       "  background-color: var(--sklearn-color-fitted-level-3);\n",
       "}\n",
       "</style><div id=\"sk-container-id-1\" class=\"sk-top-container\"><div class=\"sk-text-repr-fallback\"><pre>Pipeline(steps=[(&#x27;vect&#x27;,\n",
       "                 TfidfVectorizer(lowercase=False, max_features=5000,\n",
       "                                 token_pattern=&#x27;[^ ]+&#x27;)),\n",
       "                (&#x27;clf&#x27;, LinearSVC(random_state=55))])</pre><b>In a Jupyter environment, please rerun this cell to show the HTML representation or trust the notebook. <br />On GitHub, the HTML representation is unable to render, please try loading this page with nbviewer.org.</b></div><div class=\"sk-container\" hidden><div class=\"sk-item sk-dashed-wrapped\"><div class=\"sk-label-container\"><div class=\"sk-label fitted sk-toggleable\"><input class=\"sk-toggleable__control sk-hidden--visually\" id=\"sk-estimator-id-1\" type=\"checkbox\" ><label for=\"sk-estimator-id-1\" class=\"sk-toggleable__label fitted sk-toggleable__label-arrow\"><div><div>Pipeline</div></div><div><a class=\"sk-estimator-doc-link fitted\" rel=\"noreferrer\" target=\"_blank\" href=\"https://scikit-learn.org/1.6/modules/generated/sklearn.pipeline.Pipeline.html\">?<span>Documentation for Pipeline</span></a><span class=\"sk-estimator-doc-link fitted\">i<span>Fitted</span></span></div></label><div class=\"sk-toggleable__content fitted\"><pre>Pipeline(steps=[(&#x27;vect&#x27;,\n",
       "                 TfidfVectorizer(lowercase=False, max_features=5000,\n",
       "                                 token_pattern=&#x27;[^ ]+&#x27;)),\n",
       "                (&#x27;clf&#x27;, LinearSVC(random_state=55))])</pre></div> </div></div><div class=\"sk-serial\"><div class=\"sk-item\"><div class=\"sk-estimator fitted sk-toggleable\"><input class=\"sk-toggleable__control sk-hidden--visually\" id=\"sk-estimator-id-2\" type=\"checkbox\" ><label for=\"sk-estimator-id-2\" class=\"sk-toggleable__label fitted sk-toggleable__label-arrow\"><div><div>TfidfVectorizer</div></div><div><a class=\"sk-estimator-doc-link fitted\" rel=\"noreferrer\" target=\"_blank\" href=\"https://scikit-learn.org/1.6/modules/generated/sklearn.feature_extraction.text.TfidfVectorizer.html\">?<span>Documentation for TfidfVectorizer</span></a></div></label><div class=\"sk-toggleable__content fitted\"><pre>TfidfVectorizer(lowercase=False, max_features=5000, token_pattern=&#x27;[^ ]+&#x27;)</pre></div> </div></div><div class=\"sk-item\"><div class=\"sk-estimator fitted sk-toggleable\"><input class=\"sk-toggleable__control sk-hidden--visually\" id=\"sk-estimator-id-3\" type=\"checkbox\" ><label for=\"sk-estimator-id-3\" class=\"sk-toggleable__label fitted sk-toggleable__label-arrow\"><div><div>LinearSVC</div></div><div><a class=\"sk-estimator-doc-link fitted\" rel=\"noreferrer\" target=\"_blank\" href=\"https://scikit-learn.org/1.6/modules/generated/sklearn.svm.LinearSVC.html\">?<span>Documentation for LinearSVC</span></a></div></label><div class=\"sk-toggleable__content fitted\"><pre>LinearSVC(random_state=55)</pre></div> </div></div></div></div></div></div>"
      ],
      "text/plain": [
       "Pipeline(steps=[('vect',\n",
       "                 TfidfVectorizer(lowercase=False, max_features=5000,\n",
       "                                 token_pattern='[^ ]+')),\n",
       "                ('clf', LinearSVC(random_state=55))])"
      ]
     },
     "execution_count": 10,
     "metadata": {},
     "output_type": "execute_result"
    }
   ],
   "source": [
    "from sklearn.feature_extraction.text import TfidfVectorizer\n",
    "from sklearn.svm import LinearSVC\n",
    "from sklearn.pipeline import Pipeline\n",
    "import numpy as np\n",
    "\n",
    "# Initialize TF-IDF vectorizer parameters\n",
    "tfidf_params = dict(\n",
    "    strip_accents=None,\n",
    "    stop_words=None,\n",
    "    ngram_range=(1,1),\n",
    "    max_df=1.0,\n",
    "    min_df=1,\n",
    "    max_features=5000,\n",
    "    use_idf=True,\n",
    "    smooth_idf=True,\n",
    "    sublinear_tf=False,\n",
    "    lowercase=False,\n",
    "    analyzer='word',\n",
    "    token_pattern=r'[^ ]+'\n",
    ")\n",
    "\n",
    "# Initialize LinearSVC parameters\n",
    "svc_params = {\n",
    "    'penalty': 'l2',\n",
    "    'loss': 'squared_hinge',\n",
    "    'multi_class': 'ovr',\n",
    "    'random_state': np.random.randint(100)\n",
    "}\n",
    "\n",
    "# Create a pipeline: TF-IDF vectorizer + Linear SVM\n",
    "classification_pipeline = Pipeline([\n",
    "    ('vect', TfidfVectorizer(**tfidf_params)),\n",
    "    ('clf', LinearSVC(**svc_params)),\n",
    "])\n",
    "\n",
    "# Fit the classifier on training data\n",
    "classification_pipeline.fit(seg_train, mode_train)"
   ]
  },
  {
   "cell_type": "markdown",
   "metadata": {
    "id": "WitH3zy1mJCr"
   },
   "source": [
    "## Evaluation\n",
    "\n",
    "Now we use the trained classifier to predict the modes of unseen melodies based on their segmented n-grams."
   ]
  },
  {
   "cell_type": "code",
   "execution_count": 11,
   "metadata": {
    "executionInfo": {
     "elapsed": 114,
     "status": "ok",
     "timestamp": 1757903095093,
     "user": {
      "displayName": "Vojtech Lanz",
      "userId": "15791523486540207166"
     },
     "user_tz": 240
    },
    "id": "4icM_MPWp7Qk"
   },
   "outputs": [],
   "source": [
    "# Predict modes for the test melodies\n",
    "preds = classification_pipeline.predict(seg_test)"
   ]
  },
  {
   "cell_type": "markdown",
   "metadata": {
    "id": "PFGWxSEkHxkf"
   },
   "source": [
    "Compute F1-score and Accuracy by comparing the predicted modes to the true (gold) labels."
   ]
  },
  {
   "cell_type": "code",
   "execution_count": 12,
   "metadata": {
    "colab": {
     "base_uri": "https://localhost:8080/"
    },
    "executionInfo": {
     "elapsed": 70,
     "status": "ok",
     "timestamp": 1757903099883,
     "user": {
      "displayName": "Vojtech Lanz",
      "userId": "15791523486540207166"
     },
     "user_tz": 240
    },
    "id": "YwnMO4euqQrY",
    "outputId": "ee01140e-1f77-4696-8caa-472a941759a1"
   },
   "outputs": [
    {
     "name": "stdout",
     "output_type": "stream",
     "text": [
      "Weighted F1 score: 90.73%\n",
      "Accuracy: 90.91%\n"
     ]
    }
   ],
   "source": [
    "from sklearn.metrics import f1_score, accuracy_score\n",
    "\n",
    "# Compute weighted F1 score\n",
    "f1 = f1_score(mode_test, preds, average='weighted')\n",
    "print(f\"Weighted F1 score: {100*f1:.2f}%\")\n",
    "\n",
    "# Compute accuracy\n",
    "acc = accuracy_score(mode_test, preds)\n",
    "print(f\"Accuracy: {100*acc:.2f}%\")"
   ]
  },
  {
   "cell_type": "markdown",
   "metadata": {
    "id": "j6nNZX9ZImAc"
   },
   "source": [
    "Let's print the confusion matrix to visualize which modes are commonly misclassified. We can observe confusion occurring particularly between mode pairs 1–2, 3–4, 5–6, and 7–8, with the strongest confusion for 1–2 and 7–8. This is expected, as modes within each pair share many similar features and characteristics."
   ]
  },
  {
   "cell_type": "code",
   "execution_count": 13,
   "metadata": {
    "colab": {
     "base_uri": "https://localhost:8080/",
     "height": 474
    },
    "executionInfo": {
     "elapsed": 815,
     "status": "ok",
     "timestamp": 1757903107968,
     "user": {
      "displayName": "Vojtech Lanz",
      "userId": "15791523486540207166"
     },
     "user_tz": 240
    },
    "id": "-wqMWmr0qSe5",
    "outputId": "d4b6dfd8-f15f-48be-ba76-86f5d900666f"
   },
   "outputs": [
    {
     "data": {
      "image/png": "[encoded data removed]",
      "text/plain": [
       "<Figure size 640x480 with 2 Axes>"
      ]
     },
     "metadata": {},
     "output_type": "display_data"
    }
   ],
   "source": [
    "import matplotlib.pyplot as plt\n",
    "import seaborn as sns\n",
    "from sklearn.metrics import confusion_matrix, ConfusionMatrixDisplay\n",
    "import numpy as np\n",
    "\n",
    "# Compute confusion matrix\n",
    "labels = np.unique(mode_test)\n",
    "cm = confusion_matrix(mode_test, preds, labels=labels)\n",
    "\n",
    "# Display confusion matrix\n",
    "disp = ConfusionMatrixDisplay(confusion_matrix=cm, display_labels=labels)\n",
    "disp.plot(cmap=\"Blues\", xticks_rotation=45)\n",
    "plt.title(\"Confusion Matrix of Mode Predictions\")\n",
    "plt.show()"
   ]
  }
 ],
 "metadata": {
  "colab": {
   "authorship_tag": "ABX9TyM3KOB8fLurjF5n4+PMDxGV",
   "provenance": []
  },
  "kernelspec": {
   "display_name": "myvenv",
   "language": "python",
   "name": "python3"
  },
  "language_info": {
   "codemirror_mode": {
    "name": "ipython",
    "version": 3
   },
   "file_extension": ".py",
   "mimetype": "text/x-python",
   "name": "python",
   "nbconvert_exporter": "python",
   "pygments_lexer": "ipython3",
   "version": "3.11.6"
  }
 },
 "nbformat": 4,
 "nbformat_minor": 0
}
