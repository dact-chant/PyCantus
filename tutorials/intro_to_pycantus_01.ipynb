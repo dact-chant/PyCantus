{
 "cells": [
  {
   "cell_type": "markdown",
   "id": "0b1477ba",
   "metadata": {},
   "source": [
    "## Pycantus tutorial\n",
    "\n",
    "Here comes basics of how to work with `pycantus` library.  \n",
    "`pycantus`: A Python library designed to enhance accessibility of Gregorian chants for both coders and non-coders."
   ]
  },
  {
   "cell_type": "markdown",
   "id": "8093479a",
   "metadata": {},
   "source": [
    "First make sure you have pycantus installed.  \n",
    "  \n",
    "For that one have to have `python` version 3.11 and above downloaded and installed (e.g. from [here](https://www.python.org/downloads/)) as well as `pip` ([guide here](https://packaging.python.org/en/latest/tutorials/installing-packages/)).  \n",
    "  \n",
    "Then you need to have pycantus source code directory downloaded (e.g. from [here]()).  \n",
    "And then you can install pycantus library locally.  \n",
    "That can be ensured by running this in command line in the root directory of the project (`PyCantus`) where `pyproject.toml` file is placed:  \n",
    "`pip install .`  \n",
    "  \n",
    "(Instructions can be found also in project README.)"
   ]
  },
  {
   "cell_type": "markdown",
   "id": "4eb13071",
   "metadata": {},
   "source": [
    "Now let's make sure you can use `pycantus`."
   ]
  },
  {
   "cell_type": "code",
   "execution_count": null,
   "id": "252e4049",
   "metadata": {},
   "outputs": [],
   "source": [
    "import pycantus\n",
    "import pycantus.data as data\n",
    "\n",
    "pycantus.hello_pycantus()"
   ]
  },
  {
   "cell_type": "markdown",
   "id": "9fcdae90",
   "metadata": {},
   "source": [
    "## Get your first corpus to play with\n",
    "Base of `pycantus` is work with data.  \n",
    "This data are stored in `Corpus` object containing list of chants (objects `Chant`) and possibly also list of sources (objects `Source`) and list of melodies (objects `Melody`) accosiated with chnats of the corpus.  \n",
    "You can load one of predefined datasets as well as your own files."
   ]
  },
  {
   "cell_type": "code",
   "execution_count": 2,
   "id": "20d7c2db",
   "metadata": {},
   "outputs": [
    {
     "name": "stdout",
     "output_type": "stream",
     "text": [
      "Loading chants and sources...\n",
      "Data loaded!\n"
     ]
    }
   ],
   "source": [
    "sample_corpus = data.load_dataset('sample_dataset')"
   ]
  },
  {
   "cell_type": "markdown",
   "id": "94a43491",
   "metadata": {},
   "source": [
    "Now we can look how `Chant` and `Source` do look like as data holders:"
   ]
  },
  {
   "cell_type": "code",
   "execution_count": 3,
   "id": "82acf0f9",
   "metadata": {},
   "outputs": [
    {
     "data": {
      "text/plain": [
       "'cantus_id,incipit,siglum,srclink,chantlink,folio,db,sequence,feast,genre,office,position,melody_id,image,mode,full_text,melody,century'"
      ]
     },
     "execution_count": 3,
     "metadata": {},
     "output_type": "execute_result"
    }
   ],
   "source": [
    "sample_corpus.csv_chants_header"
   ]
  },
  {
   "cell_type": "code",
   "execution_count": 4,
   "id": "f630addd",
   "metadata": {},
   "outputs": [
    {
     "data": {
      "text/plain": [
       "'title,siglum,century,provenance,srclink,numeric_century,cursus'"
      ]
     },
     "execution_count": 4,
     "metadata": {},
     "output_type": "execute_result"
    }
   ],
   "source": [
    "sample_corpus.csv_sources_header"
   ]
  },
  {
   "cell_type": "markdown",
   "id": "5d6075ff",
   "metadata": {},
   "source": [
    "And also how particulary ones of them look like:"
   ]
  },
  {
   "cell_type": "code",
   "execution_count": 5,
   "id": "e11d557d",
   "metadata": {},
   "outputs": [
    {
     "data": {
      "text/plain": [
       "'004141,Omnibus se invocantibus benignus adest,A-Gu 29,https://cantusdatabase.org/source/123610,https://cantusdatabase.org/chant/245439,215r,CD,,Nicolai,A,M,2.6,,https://unipub.uni-graz.at/obvugrscript/content/pageview/6705437,4,Omnibus se invocantibus benignus adest sanctus Nicolaus gloria tibi trinitas deus,,'"
      ]
     },
     "execution_count": 5,
     "metadata": {},
     "output_type": "execute_result"
    }
   ],
   "source": [
    "sample_corpus.chants[0].to_csv_row"
   ]
  },
  {
   "cell_type": "code",
   "execution_count": 6,
   "id": "46739302",
   "metadata": {},
   "outputs": [
    {
     "data": {
      "text/plain": [
       "'\"Linz, Oberösterreichische Landesbibliothek, 290 (olim 183; olim Gamma p 19)\",A-LIb 290 (olim 183; olim Gamma p 19),12th century,Kremsmünster,https://cantusdatabase.org/source/123617,12,Monastic'"
      ]
     },
     "execution_count": 6,
     "metadata": {},
     "output_type": "execute_result"
    }
   ],
   "source": [
    "sample_corpus.sources[2].to_csv_row"
   ]
  },
  {
   "cell_type": "code",
   "execution_count": 7,
   "id": "d35771cd",
   "metadata": {},
   "outputs": [
    {
     "name": "stdout",
     "output_type": "stream",
     "text": [
      "My first 20 chants have incipts:\n",
      "\t Omnibus se invocantibus benignus adest\n",
      "\t Omnibus se*\n",
      "\t Omnibus se invocantibus benignus adest\n",
      "\t Omnibus se invocantibus*\n",
      "\t Omnibus se invocantibus\n",
      "\t Omnibus se invocantibus benignus adest\n",
      "\t Omnibus se invocantibus benignus adest\n",
      "\t Omnibus se invocantibus benignus adest sanctus \n",
      "\t Omnibus se invocantibus\n",
      "\t Omnibus se invocantibus\n",
      "\t Omnibus se invocantibus benignus adest\n",
      "\t Omnibus se invocantibus\n",
      "\t Humiliamini sub potenti manu dei ut \n",
      "\t O Emmanuel rex et legifer\n",
      "\t O Emmanuel rex et legifer\n",
      "\t O Emmanuel rex et legifer\n",
      "\t O Emmanuel rex et legifer \n",
      "\t O Emmanuel rex et legifer\n",
      "\t O Emmanuel rex et legifer\n",
      "\t O Emmanuel rex et legifer\n"
     ]
    }
   ],
   "source": [
    "print('My first 20 chants have incipts:')\n",
    "for chant in sample_corpus.chants[:20]:\n",
    "    print('\\t', chant.incipit)"
   ]
  },
  {
   "cell_type": "markdown",
   "id": "bf429402",
   "metadata": {},
   "source": [
    "### Editability\n",
    "\n",
    "By default `Corpus` is not editable and so are all its `Chant` and `Source` objects.  \n",
    "That means that you cannot change values in them, they are locked, and if we try to change some value, we shlould recieve an error."
   ]
  },
  {
   "cell_type": "code",
   "execution_count": 8,
   "id": "35933ea9",
   "metadata": {},
   "outputs": [
    {
     "name": "stdout",
     "output_type": "stream",
     "text": [
      "Error caught: Cannot modify 'incipit' because the object is locked.\n"
     ]
    }
   ],
   "source": [
    "try:       \n",
    "    # Throws an error \n",
    "    sample_corpus.chants[0].incipit = 'Mamma Mia! Here I go again!'\n",
    "except AttributeError as e:\n",
    "    print('Error caught:', e)"
   ]
  },
  {
   "cell_type": "markdown",
   "id": "73cdaaa4",
   "metadata": {},
   "source": [
    "However, if you need to do such edits (e.g. clean volpiano melodies) you can create whole `Corpus` editable:"
   ]
  },
  {
   "cell_type": "code",
   "execution_count": 9,
   "id": "c3cc1af7",
   "metadata": {},
   "outputs": [
    {
     "name": "stdout",
     "output_type": "stream",
     "text": [
      "Loading chants and sources...\n",
      "Data loaded!\n",
      "Edited incipit:\n",
      "\t Mamma Mia! Here I go again!\n"
     ]
    }
   ],
   "source": [
    "sample_corpus_editable = data.load_dataset('sample_dataset', is_editable=True)\n",
    "sample_corpus_editable.chants[0].incipit = 'Mamma Mia! Here I go again!'\n",
    "print('Edited incipit:')\n",
    "print('\\t', sample_corpus_editable.chants[0].incipit)"
   ]
  },
  {
   "cell_type": "markdown",
   "id": "bf5eeef7",
   "metadata": {},
   "source": [
    "### Handeling sources during load\n",
    "When loading data into `Corpus` we can be interested if we have `Source` for each of our `Chants` (e.g. when creating collection).\n"
   ]
  },
  {
   "cell_type": "markdown",
   "id": "f0b75bf7",
   "metadata": {},
   "source": [
    "One way of handeling missing records about sources is creating them (because all three mandatory values for `Source` can be obtained form mandatory field of corresponding `Chant` : title <= siglum):"
   ]
  },
  {
   "cell_type": "code",
   "execution_count": 10,
   "id": "b5361824",
   "metadata": {},
   "outputs": [
    {
     "name": "stdout",
     "output_type": "stream",
     "text": [
      "Loading chants and sources...\n",
      "Creating missing sources...\n",
      "1 missing sources created!\n",
      "Data loaded!\n"
     ]
    }
   ],
   "source": [
    "sample_corpus_edit_miss_s = data.load_dataset('sample_dataset', is_editable=True, create_missing_sources=True)"
   ]
  },
  {
   "cell_type": "markdown",
   "id": "ab871255",
   "metadata": {},
   "source": [
    "Other way is to ask for warning about each such missing source:"
   ]
  },
  {
   "cell_type": "code",
   "execution_count": 11,
   "id": "d9ef44dc",
   "metadata": {},
   "outputs": [
    {
     "name": "stdout",
     "output_type": "stream",
     "text": [
      "Loading chants and sources...\n",
      "Checking presence of sources...\n",
      "\n",
      "Error loading dataset with check_missing_sources=True:\n",
      "Source 'https://cantusdatabase.org/source/123687 : GB-Ob MS. Canon. Liturg. 202' from chants does not have record in provided sources!\n"
     ]
    }
   ],
   "source": [
    "try:\n",
    "    # Throws an error\n",
    "    sample_corpus_edit_miss_s = data.load_dataset('sample_dataset', is_editable=True, check_missing_sources=True)\n",
    "except ValueError as ve:\n",
    "    print('\\nError loading dataset with check_missing_sources=True:')\n",
    "    print(ve)"
   ]
  },
  {
   "cell_type": "markdown",
   "id": "2a236d30",
   "metadata": {},
   "source": [
    "Default setting is:\n",
    "- `check_missing_sources=False`\n",
    "- `create_missing_sources=False`"
   ]
  },
  {
   "cell_type": "markdown",
   "id": "2baf3378",
   "metadata": {},
   "source": [
    "### Export results of your work"
   ]
  },
  {
   "cell_type": "code",
   "execution_count": 12,
   "id": "a7a82811",
   "metadata": {},
   "outputs": [],
   "source": [
    "chants_csv_file_name = 'my_great_corpus-mamma_mia-CHANTS.csv'\n",
    "sources_csv_file_name = 'my_great_corpus-mamma_mia-SOURCES.csv'\n",
    "sample_corpus_editable.export_csv(chants_csv_file_name, sources_csv_file_name)"
   ]
  },
  {
   "cell_type": "markdown",
   "id": "2ecf4279",
   "metadata": {},
   "source": [
    "#### Use your own data\n",
    "You can also use your own data and then process them in provided data model with our analytics and data filtration tools.  \n",
    "The only thing to do is to prepare your data in csv file(s) of perscribed format - that means file(s) having correct fileds with all mandatory fileds present, such as:  \n",
    "For chants:  \n",
    "- siglum (*): Abbreviation for the source manuscript or collection (e.g., \"A-ABC Fragm. 1\").\n",
    "- srclink (*): URL link to the source in the external database (e.g., \"https://yourdatabase.org/source/123\").\n",
    "- chantlink (*): URL link directly to the chant entry in the external database (e.g., \"https://yourdatabase.org/chant/45678\").\n",
    "- folio (*): Folio information for the chant (e.g., \"001v\").\n",
    "- sequence: The order of the chant on the folio (e.g., \"1\").\n",
    "- incipit (*): The opening words or phrase of the chant (e.g., \"Non sufficiens sibi semel aspexisse vis \").\n",
    "- feast: Feast or liturgical occasion associated with the chant (e.g., \"Nativitas Mariae\").\n",
    "- feast_code: Additional identifier unifying feasts with multiple spellings. The values themselves are meaningful in Cantus Index.\n",
    "- genre: Genre of the chant, such as antiphon (A), responsory (R), hymn (H), etc. (e.g., \"V\").\n",
    "- office: The office in which the chant is used, such as Matins (M) or Lauds (L) (e.g., \"M\").\n",
    "- position: Liturgical position of the chant in the office (e.g., \"01\").\n",
    "- cantus_id (*): The unique Cantus ID associated with the chant (e.g., \"007129a\").\n",
    "- melody_id: The unique Melody ID associated with the chant (e.g., \"001216m1\").\n",
    "- image: URL link to an image of the manuscript page, if available (e.g., \"https://yourdatabase.org/image/12345\").\n",
    "- mode: Mode of the chant, if available (e.g., \"1\").\n",
    "- full_text: Full text of the chant (e.g., \"Non sufficiens sibi semel aspexisse vis amoris multiplicavit in ea intentionem inquisitionis\").\n",
    "- melody: Melody encoded in Volpiano, if available (e.g., \"1---dH---h7--h--ghgfed--gH---h--h---\").\n",
    "- century: Number identifying the century of the source. If multiple centuries apply, the lowest number should be used.\n",
    "- db (*): Code for the database providing the data, used for identification within CI (e.g., \"DBcode\").\n",
    "\n",
    "For sources:  \n",
    "- title(*): Name of the manuscript (can be same as siglum)\n",
    "- srclink(*): URL link to the source in the external database (e.g., \"https://yourdatabase.org/source/123\").\n",
    "- siglum(*): Abbreviation for the source manuscript or collection (e.g., \"A-ABC Fragm. 1\"). Use RISM whenever possible.\n",
    "- century: Textual value identifying the century of the source. (e.g., \"14th century\").\n",
    "- provenance: Place of origin or place of use of the source.\n",
    "- numerical_century: Number only representation of century value.\n",
    "- cursus: Secular (Cathedral, Roman) or Monastic cursus of the source. \n",
    "\n",
    "(Fields marked with an asterisk (*) are obligatory and must be included in every record. Other fields are optional but recommended when data is available.)"
   ]
  },
  {
   "cell_type": "code",
   "execution_count": 18,
   "id": "b7ac8c10",
   "metadata": {},
   "outputs": [
    {
     "name": "stdout",
     "output_type": "stream",
     "text": [
      "Fill in your data paths or download Cantus Corpus v1.0 from https://github.com/DvorakovaA/CantusCorpus.\n"
     ]
    }
   ],
   "source": [
    "# Fill in your data paths\n",
    "try:\n",
    "    my_great_corpus_chants_filename = 'cantuscorpus_v1.0/cantuscorpus_v1.0/chants.csv'\n",
    "    my_great_corpus_sources_filename = 'cantuscorpus_v1.0/cantuscorpus_v1.0/sources.csv'\n",
    "    # And then load your data into pycantus data model\n",
    "    my_great_corpus_editable = data.load_dataset(my_great_corpus_chants_filename, my_great_corpus_sources_filename, \n",
    "                                                 is_editable=True, create_missing_sources=True)\n",
    "except Exception as e:\n",
    "    print('Fill in your data paths or download Cantus Corpus v1.0 from https://github.com/DvorakovaA/CantusCorpus.')"
   ]
  },
  {
   "cell_type": "markdown",
   "id": "4ccc3ca1",
   "metadata": {},
   "source": [
    "You can also get Cantus Corpus v1.0 from available datasets directly in pycantus."
   ]
  },
  {
   "cell_type": "code",
   "execution_count": 20,
   "id": "84ad9eb1",
   "metadata": {},
   "outputs": [
    {
     "name": "stdout",
     "output_type": "stream",
     "text": [
      "Loading chants and sources...\n",
      "Data loaded!\n"
     ]
    }
   ],
   "source": [
    "my_great_corpus_editable = data.load_dataset('cantuscorpus_v1.0')"
   ]
  },
  {
   "cell_type": "code",
   "execution_count": 21,
   "id": "eb6248e9",
   "metadata": {},
   "outputs": [
    {
     "name": "stdout",
     "output_type": "stream",
     "text": [
      "number of chants in my great corpus: 888010\n",
      "My great corpus first chant record:\n",
      " https://cantusdatabase.org/chant/245439 : 004141\n"
     ]
    }
   ],
   "source": [
    "print('number of chants in my great corpus:', len(my_great_corpus_editable.chants))\n",
    "print('My great corpus first chant record:\\n', my_great_corpus_editable.chants[0])"
   ]
  },
  {
   "cell_type": "markdown",
   "id": "f903c67c",
   "metadata": {},
   "source": [
    "All other steps are the same as when using one of available datasets (such as sample dataset)."
   ]
  },
  {
   "cell_type": "markdown",
   "id": "66cd7243",
   "metadata": {},
   "source": [
    "### Filter data\n",
    "Most experimental workflows involve some filtering of the input chants: by genre, feast set, sources, etc. Describing and replicating this filtering exactly is crucial for research reproducibility. This is partly mitigated by just providing the filtered dataset, but not entirely: it is important to assess how findings apply to different sets of repertoire selected according to the same principles (e.g., as new sources and database segments are added).\n",
    "To this end, PyCantus provides a mechanism to export filtering conditions to a YAML configuration file, and to load and apply such a file to a corpus."
   ]
  },
  {
   "cell_type": "markdown",
   "id": "fa770f7a",
   "metadata": {},
   "source": [
    "For data filtration we have Filter class.  "
   ]
  },
  {
   "cell_type": "code",
   "execution_count": 22,
   "id": "6f0cc5b6",
   "metadata": {},
   "outputs": [],
   "source": [
    "# Import the appropriate class\n",
    "from pycantus.filtration import Filter"
   ]
  },
  {
   "cell_type": "code",
   "execution_count": 23,
   "id": "938edbbe",
   "metadata": {},
   "outputs": [],
   "source": [
    "# Create filter object\n",
    "tutorial_filter = Filter('tutorial_filter')"
   ]
  },
  {
   "cell_type": "code",
   "execution_count": 24,
   "id": "2d8c792e",
   "metadata": {},
   "outputs": [],
   "source": [
    "# Specify fields with their values that you want to drop\n",
    "# Fields you do not specify are tretaed as 'I do not care', so not checked\n",
    "# With sources also their chants are droped\n",
    "tutorial_filter.add_value_exclude('cantus_id', '004141')\n",
    "tutorial_filter.add_value_exclude('feast', 'Pascha')\n",
    "tutorial_filter.add_value_exclude('provenance', ['St. Martial', 'St-Martial', 'Albi'])"
   ]
  },
  {
   "cell_type": "code",
   "execution_count": 25,
   "id": "c590ef6c",
   "metadata": {},
   "outputs": [],
   "source": [
    "# Specify fields with their values that you want to keep \n",
    "# Other values of that filed would be droped\n",
    "tutorial_filter.add_value_include('numeric_century', [10, 11, 12, 13, 14])"
   ]
  },
  {
   "cell_type": "code",
   "execution_count": 26,
   "id": "ffa9b5bb",
   "metadata": {},
   "outputs": [
    {
     "name": "stdout",
     "output_type": "stream",
     "text": [
      "name: tutorial_filter\n",
      "include_values:\n",
      "  numeric_century:\n",
      "  - 10\n",
      "  - 11\n",
      "  - 12\n",
      "  - 13\n",
      "  - 14\n",
      "exclude_values:\n",
      "  cantus_id:\n",
      "  - '004141'\n",
      "  feast:\n",
      "  - Pascha\n",
      "  provenance:\n",
      "  - St. Martial\n",
      "  - St-Martial\n",
      "  - Albi\n",
      "\n"
     ]
    }
   ],
   "source": [
    "tutorial_filters = [tutorial_filter]\n",
    "print(tutorial_filter.as_yaml())"
   ]
  },
  {
   "cell_type": "code",
   "execution_count": 27,
   "id": "742028f1",
   "metadata": {},
   "outputs": [
    {
     "name": "stdout",
     "output_type": "stream",
     "text": [
      "Number of chants before filtration: 100\n",
      "Number of sources before filtration: 78\n",
      "Number of chants after filtration: 65\n",
      "Number of sources after filtration: 57\n"
     ]
    }
   ],
   "source": [
    "# Apply filter on corpus:\n",
    "print('Number of chants before filtration:', len(sample_corpus_editable.chants))\n",
    "print('Number of sources before filtration:', len(sample_corpus_editable.sources))\n",
    "sample_corpus_editable.apply_filter(tutorial_filter)\n",
    "print('Number of chants after filtration:', len(sample_corpus_editable.chants))\n",
    "print('Number of sources after filtration:', len(sample_corpus_editable.sources))"
   ]
  },
  {
   "cell_type": "code",
   "execution_count": 28,
   "id": "d40708d1",
   "metadata": {},
   "outputs": [
    {
     "name": "stdout",
     "output_type": "stream",
     "text": [
      "Number of sources after drop_empty_sources: 55\n"
     ]
    }
   ],
   "source": [
    "# If you want to discard sources that has no chants in the corpus after filtration, call\n",
    "sample_corpus_editable.drop_empty_sources()\n",
    "print('Number of sources after drop_empty_sources:', len(sample_corpus_editable.sources))"
   ]
  },
  {
   "cell_type": "code",
   "execution_count": 29,
   "id": "b2ce15a1",
   "metadata": {},
   "outputs": [
    {
     "name": "stdout",
     "output_type": "stream",
     "text": [
      "Filter 'tutorial_filter' successfully exported to: tutorial_filter_export\\tutorial_filter.yaml\n"
     ]
    }
   ],
   "source": [
    "EXPORTED_YAML_DIR_PATH = 'tutorial_filter_export'\n",
    "tutorial_filter.export_yaml(EXPORTED_YAML_DIR_PATH)"
   ]
  },
  {
   "cell_type": "markdown",
   "id": "4d7cb1ff",
   "metadata": {},
   "source": [
    "Let's try how our stored filter works e.g. moved to different project:"
   ]
  },
  {
   "cell_type": "code",
   "execution_count": 30,
   "id": "d136de5e",
   "metadata": {},
   "outputs": [],
   "source": [
    "loaded_filter = Filter('loaded_tutorial_filter')\n",
    "loaded_filter.import_yaml(EXPORTED_YAML_DIR_PATH+'/tutorial_filter.yaml')"
   ]
  },
  {
   "cell_type": "code",
   "execution_count": 31,
   "id": "ba459cdc",
   "metadata": {},
   "outputs": [
    {
     "name": "stdout",
     "output_type": "stream",
     "text": [
      "name: loaded_tutorial_filter\n",
      "include_values:\n",
      "  numeric_century:\n",
      "  - 10\n",
      "  - 11\n",
      "  - 12\n",
      "  - 13\n",
      "  - 14\n",
      "exclude_values:\n",
      "  cantus_id:\n",
      "  - '004141'\n",
      "  feast:\n",
      "  - Pascha\n",
      "  provenance:\n",
      "  - St. Martial\n",
      "  - St-Martial\n",
      "  - Albi\n",
      "\n"
     ]
    }
   ],
   "source": [
    "print(loaded_filter)"
   ]
  },
  {
   "cell_type": "code",
   "execution_count": 32,
   "id": "ec1f485b",
   "metadata": {},
   "outputs": [
    {
     "name": "stdout",
     "output_type": "stream",
     "text": [
      "Number of chants before filtration: 888010\n",
      "Number of chants after filtration: 679929\n"
     ]
    }
   ],
   "source": [
    "print('Number of chants before filtration:', len(my_great_corpus_editable.chants))\n",
    "my_great_corpus_editable.apply_filter(loaded_filter)\n",
    "print('Number of chants after filtration:', len(my_great_corpus_editable.chants))"
   ]
  },
  {
   "cell_type": "markdown",
   "id": "798baaf2",
   "metadata": {},
   "source": [
    "##### Clean corpus after filtration"
   ]
  },
  {
   "cell_type": "code",
   "execution_count": 33,
   "id": "d2abde3c",
   "metadata": {},
   "outputs": [
    {
     "name": "stdout",
     "output_type": "stream",
     "text": [
      "number of sources after filtration, before cleaning: 1289\n",
      "number of sources after filtration, after cleaning: 1289\n"
     ]
    }
   ],
   "source": [
    "print('number of sources after filtration, before cleaning:', len(my_great_corpus_editable.sources))\n",
    "my_great_corpus_editable.drop_empty_sources()\n",
    "print('number of sources after filtration, after cleaning:', len(my_great_corpus_editable.sources))"
   ]
  },
  {
   "cell_type": "markdown",
   "id": "414501b2",
   "metadata": {},
   "source": [
    "#### How does this align with replicability\n",
    "As one of the goals of `pycantus` is to support replicability among research it also applies around its filtration feature as well as others predefined corpus changing methods (operations).  \n",
    "Besides being able to store and then again load filtration setups from (human-readable) files (YAML), \n",
    "storing of filtration history was incorporated into `Corpus` class. So that whenever some filtration or other defined operation is applied on a Corpus, it stores string representation of such filtration or operation into its `self.operations_history` list of objects `HistoryEntry`.   \n",
    "  \n",
    "That ensures that in all stages of working with the Corpus, from the combination of `self.operations_history` \n",
    "and `self.chants_filepath` with `self.sources_filepath` (as `Corpus` can be loaded only from files), we can reconstruct the state of the data, if there were no direct changes of data fields applied.\n"
   ]
  },
  {
   "cell_type": "code",
   "execution_count": 40,
   "id": "415fbcc3",
   "metadata": {},
   "outputs": [],
   "source": [
    "# Add new operation to Corpus history\n",
    "my_great_corpus_editable.drop_small_sources_data(min_chants=5)"
   ]
  },
  {
   "cell_type": "code",
   "execution_count": null,
   "id": "8e72a530",
   "metadata": {},
   "outputs": [],
   "source": [
    "print(my_great_corpus_editable.get_operations_history_string())"
   ]
  },
  {
   "cell_type": "markdown",
   "id": "e9e0cd14",
   "metadata": {},
   "source": [
    "Or save it into file (for later examination or replication):"
   ]
  },
  {
   "cell_type": "code",
   "execution_count": null,
   "id": "9ea2fdc7",
   "metadata": {},
   "outputs": [],
   "source": [
    "with open('my_great_corpus_operations_history.txt', 'w', encoding='utf-8') as f:\n",
    "    f.write(my_great_corpus_editable.get_operations_history_string())"
   ]
  },
  {
   "cell_type": "markdown",
   "id": "3203fddb",
   "metadata": {},
   "source": [
    "### Work with melody\n"
   ]
  },
  {
   "cell_type": "code",
   "execution_count": 35,
   "id": "384a7a89",
   "metadata": {},
   "outputs": [
    {
     "name": "stdout",
     "output_type": "stream",
     "text": [
      "Loading chants and sources...\n",
      "Data loaded!\n"
     ]
    }
   ],
   "source": [
    "# Lets first load our corpus new and fresh (without any filters applied)\n",
    "sample_corpus_editable_2 = data.load_dataset('sample_dataset', is_editable=True)"
   ]
  },
  {
   "cell_type": "code",
   "execution_count": 36,
   "id": "06094d66",
   "metadata": {},
   "outputs": [
    {
     "name": "stdout",
     "output_type": "stream",
     "text": [
      "First melody in my great corpus:\n",
      "1---fE--de--fdc---dc---d--ef--g--de--e---dh--hG--g---hk--hg-gfe---e--g---gh--hgfe--de--e77---efg--fe--d---g--f---gh--gfe--dE---e--e---4---h--g--h--k--g--e---3\n"
     ]
    }
   ],
   "source": [
    "print('First melody in my great corpus:')\n",
    "print(sample_corpus_editable_2.melody_objects[0])"
   ]
  },
  {
   "cell_type": "code",
   "execution_count": 37,
   "id": "cec55b4f",
   "metadata": {},
   "outputs": [],
   "source": [
    "# Before any computational work on melodies, we want to normalize them \n",
    "for melody in sample_corpus_editable_2.melody_objects:\n",
    "    melody.normalize_volpiano()"
   ]
  },
  {
   "cell_type": "code",
   "execution_count": 38,
   "id": "161776ee",
   "metadata": {},
   "outputs": [
    {
     "name": "stdout",
     "output_type": "stream",
     "text": [
      "First melody in my great corpus after normalization:\n",
      "\n",
      "fedefdcdcdefgdeedhhgghkhggfeegghhgfedeeefgfedgfghgfedeee\n"
     ]
    }
   ],
   "source": [
    "print('First melody in my great corpus after normalization:\\n')\n",
    "print(sample_corpus_editable_2.melody_objects[0])"
   ]
  },
  {
   "cell_type": "code",
   "execution_count": 39,
   "id": "ba6f8736",
   "metadata": {},
   "outputs": [
    {
     "name": "stdout",
     "output_type": "stream",
     "text": [
      "Modes of melodies of my great corpus and their frequency in corpus:\n",
      "4 \t:\t 2\n",
      "2T \t:\t 3\n",
      "2 \t:\t 6\n"
     ]
    }
   ],
   "source": [
    "from collections import Counter\n",
    "\n",
    "mode_frequency = Counter([m.mode for m in sample_corpus_editable_2.melody_objects])\n",
    "print('Modes of melodies of my great corpus and their frequency in corpus:')\n",
    "for mode, frequency in mode_frequency.items():\n",
    "    print(mode, '\\t:\\t', frequency)"
   ]
  }
 ],
 "metadata": {
  "kernelspec": {
   "display_name": "myvenv",
   "language": "python",
   "name": "python3"
  },
  "language_info": {
   "codemirror_mode": {
    "name": "ipython",
    "version": 3
   },
   "file_extension": ".py",
   "mimetype": "text/x-python",
   "name": "python",
   "nbconvert_exporter": "python",
   "pygments_lexer": "ipython3",
   "version": "3.11.6"
  }
 },
 "nbformat": 4,
 "nbformat_minor": 5
}
